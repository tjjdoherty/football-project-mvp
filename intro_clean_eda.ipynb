{
 "cells": [
  {
   "cell_type": "markdown",
   "metadata": {},
   "source": [
    "# Analysis of football match statistics and outcomes"
   ]
  },
  {
   "cell_type": "markdown",
   "metadata": {},
   "source": [
    "## Initial Aims for exploration:\n",
    "- Import all matches from 2008 - 2016 including data on:\n",
    "    - Teams involved\n",
    "    - Match Outcome\n",
    "    - Match Stats e.g. shots, possession, bookings etc\n",
    "    - ID of the players in the match day starting 11 plus their ability ratings\n",
    "    - Other info that can be engineered that I feel is relevant to match outcome\n",
    "\n",
    "- MVP: Build a model for match prediction for English Premier League games - based on the team stats e.g. avg goals per game, ratings of players in the starting 11\n",
    "\n",
    "- Stretch 1 - is the style of win changing (2008 - 2011 Tiki Taka in the ascendancy on the continent; 2013- gegenpressing in Germany). Do the match stats show a difference in manner of victory?"
   ]
  },
  {
   "cell_type": "markdown",
   "metadata": {},
   "source": [
    "The database is in SQL so we'll use SQLite to bring it in and do some initial analysis on a few tables"
   ]
  },
  {
   "cell_type": "code",
   "execution_count": 649,
   "metadata": {},
   "outputs": [],
   "source": [
    "# imports\n",
    "import sqlite3\n",
    "import pandas as pd\n",
    "import numpy as np\n",
    "import matplotlib.pyplot as plt\n",
    "%matplotlib inline\n",
    "\n",
    "import seaborn as sns\n",
    "import warnings\n",
    "\n",
    "warnings.simplefilter('ignore') # this is to ignore warnings that are not useful"
   ]
  },
  {
   "cell_type": "markdown",
   "metadata": {},
   "source": [
    "### What is in this database?"
   ]
  },
  {
   "cell_type": "markdown",
   "metadata": {},
   "source": [
    "There are seven SQL tables available. Reading from the Kaggle Data Card:\n",
    "\n",
    "- **Country**: We will take England only for the MVP (country id 1729) and we'll use this to join up the English Premier League Matches in the Match table\n",
    "\n",
    "- **League**: The top tier league in all of the countries in Country are here. \n",
    "    - Includes Spain, France, Italy and Germany (with England they make up the top 5 European Leagues) and Scotland among others. We are beginning with just England (league id 1729 like the country id)\n",
    "\n",
    "- **Match**: 26,000 rows with country id and league id. Other columns include:\n",
    "    - stage, which presumably is the round in the season e.g. in a 20-team home-and-away season of 38 games, stage 1 is the opening round and 38 is the final game day. Easy to audit this - England is 20 teams and there should be exactly 38 stages in every season\n",
    "\n",
    "    - Home team and away team identifiers; \n",
    "\n",
    "    - home goals & away goals\n",
    "    \n",
    "    - **home and away players X and Y coordinates.** I think this is their average position. From just eyeballing this, 1 is the goalkeeper and this is very narrowly defined (because goalkeepers don't move much compared to other positions). It's missing for about 7% of records, probably the earlier seasons in some leagues before it was recorded\n",
    "\n",
    "    - Key match stats, but data appears to be missing for 45% of records (according to the Kaggle data card):\n",
    "        - Goals\n",
    "        - Shot on target\n",
    "        - shot off target\n",
    "        - foul committed\n",
    "        - cards\n",
    "        - crosses\n",
    "        - corner\n",
    "        - possession\n",
    "    \n",
    "     \n",
    "    - Bet 365 odds (B365H / B365D / B365A) - ignore for now, we are trying to do our own and could compare to these *later*\n",
    "        - Lots of other columns which are for betting providers too. We can ignore for now \n",
    "            - BWH, BWD, BWA, \n",
    "            - IWH, IWD, IWA, \n",
    "            - LBH, LBD, LBA... These all have Home, Draw, Away and I think they are all bookmaker stats\n",
    "\n",
    "- **Player** - Basic info like DOB, Height, Weight\n",
    "\n",
    "- **Player_Attributes** - more detailed stats like overall_rating, potential, pref. foot, work rates, crossing, finishing etc. This information is provided from the FIFA video games which gives every player a measure of ability\n",
    "\n",
    "- **Team** - Very basic identifying info like Name & id for link to other tables\n",
    "\n",
    "- **Team_Attributes** - more detail around build up play statistics and it is recorded once per year. Also comes from FIFA data\n",
    "    - is it changing over time?"
   ]
  },
  {
   "cell_type": "markdown",
   "metadata": {},
   "source": [
    "## What Questions can we answer with a predictive model?\n",
    "\n",
    "### 1. MVP: Can we predict match outcome? Data columns could include\n",
    "- **Home & away team,** result which we engineer from home goals & away goals, with winning team id\n",
    "- **OVR Rating of the starting 11**, coming from Player_attributes via player_api_id.\n",
    "    - Start with avg OVR rating. Then maybe add OVR rating for Strikers, Goalkeeepers\n",
    "    \n",
    "- **For more granular data**, bring in players' work rates, GK overall, overall finishing stats.\n",
    "    - NOTE: there is no data column for player position. There are too many to label manually, so we could implement a rule based on some of the key player stats to identify this. BY far the easiest will be goalkeeper, and we add OVR rating for that.\n",
    "    - ANy other granular data for the most likely stats to impact goals scored/conceded, because that's the direct influence on the results\n",
    "\n",
    "\n",
    "### 2. Stretches  - once we have done the MVP\n",
    "\n",
    "- How does Height/Weight affect style of play? Taller, bulkier players mean a faster long-ball style of play?\n",
    "\n",
    "-  Physical vs Technical - which ability set is more important in the winning teams?\n",
    "    - Physical: Acceleration, Sprint Speed, Agility, Reactions, Balance, Jumping, Stamina, Strength\n",
    "    - Technical: Crossing, Finishing, Heading Acc., Short Passing, Volleys, Dribbling, Curve, FK Acc., Long Passing, Ball Control\n",
    "    - Mental: Aggression, Interceptions, Positioning, Vision, Penalties (it's psychological)\n",
    "\n"
   ]
  },
  {
   "cell_type": "markdown",
   "metadata": {},
   "source": [
    "## Open the database (pandas)"
   ]
  },
  {
   "cell_type": "code",
   "execution_count": 650,
   "metadata": {},
   "outputs": [],
   "source": [
    "# import the database file\n",
    "with sqlite3.connect('/Users/thomasdoherty/Desktop/football-project/football-data/database.sqlite') as conn:\n",
    "    all_countries = pd.read_sql_query(\"SELECT * from Country\", conn)\n",
    "    all_matches = pd.read_sql_query(\"SELECT * from Match\", conn)\n",
    "    all_leagues = pd.read_sql_query(\"SELECT * from League\", conn)\n",
    "    all_teams = pd.read_sql_query(\"SELECT * from Team\", conn)\n",
    "\n",
    "    # get matches from outside England (league id 1729) for a base rate W/D/L comparison\n",
    "    european_matches = pd.read_sql_query(\"SELECT * FROM Match WHERE league_id != 1729\", conn)"
   ]
  },
  {
   "cell_type": "code",
   "execution_count": 651,
   "metadata": {},
   "outputs": [],
   "source": [
    "selected_countries = ['England'] # leave this format in case we want to add more countries later\n",
    "countries = all_countries[all_countries.name.isin(selected_countries)] # England id is 1729\n",
    "\n",
    "# merge leagues - it is only going to be premier league, but incase other leagues are added in the future\n",
    "leagues = countries.merge(all_leagues, on='id', suffixes=('', '_y')) # suffixes = ('', '_y') is to avoid duplicate columns\n"
   ]
  },
  {
   "cell_type": "code",
   "execution_count": 652,
   "metadata": {},
   "outputs": [
    {
     "name": "stdout",
     "output_type": "stream",
     "text": [
      "(22939, 115)\n",
      "(25979, 115)\n"
     ]
    }
   ],
   "source": [
    "# checking that English matches have been removed properly\n",
    "print(european_matches.shape)\n",
    "print(all_matches.shape)"
   ]
  },
  {
   "cell_type": "code",
   "execution_count": 653,
   "metadata": {},
   "outputs": [
    {
     "data": {
      "text/plain": [
       "Index(['id', 'country_id', 'league_id', 'season', 'stage', 'date',\n",
       "       'match_api_id', 'home_team_api_id', 'away_team_api_id',\n",
       "       'home_team_goal',\n",
       "       ...\n",
       "       'SJA', 'VCH', 'VCD', 'VCA', 'GBH', 'GBD', 'GBA', 'BSH', 'BSD', 'BSA'],\n",
       "      dtype='object', length=115)"
      ]
     },
     "execution_count": 653,
     "metadata": {},
     "output_type": "execute_result"
    }
   ],
   "source": [
    "# check all columns - more exploration done above and we will remove all the bookies columns soon\n",
    "all_matches.columns"
   ]
  },
  {
   "cell_type": "code",
   "execution_count": 654,
   "metadata": {},
   "outputs": [],
   "source": [
    "matches_prem = all_matches[all_matches.league_id.isin(leagues.id)] \n",
    "# Above, we could do league_id == 1729, but this is more flexible when we decide to add more leagues,\n",
    "# We just add the country name two code cells above and it will work"
   ]
  },
  {
   "cell_type": "markdown",
   "metadata": {},
   "source": [
    "Below I will **remove the bookmakers odds columns** - they begin with Bet 365 (B365X, where X = H for a bet on the Home team winning; D for Draw, A for Away team, and have many outlets inc. Ladbrookes (LBX), Bet Victor (VCX), William Hill (WHX)) so I will cut off the matches df from the Bet 365 columns onwards."
   ]
  },
  {
   "cell_type": "code",
   "execution_count": 655,
   "metadata": {},
   "outputs": [],
   "source": [
    "# 86th column is B365H - remove everything from here onward\n",
    "matches_prem = matches_prem.iloc[:, :85]"
   ]
  },
  {
   "cell_type": "markdown",
   "metadata": {},
   "source": [
    "## Initial Data Cleaning & Exploration in Pandas"
   ]
  },
  {
   "cell_type": "markdown",
   "metadata": {},
   "source": [
    "Initial Look after betting odds columns have been removed:"
   ]
  },
  {
   "cell_type": "code",
   "execution_count": 656,
   "metadata": {},
   "outputs": [
    {
     "data": {
      "text/html": [
       "<div>\n",
       "<style scoped>\n",
       "    .dataframe tbody tr th:only-of-type {\n",
       "        vertical-align: middle;\n",
       "    }\n",
       "\n",
       "    .dataframe tbody tr th {\n",
       "        vertical-align: top;\n",
       "    }\n",
       "\n",
       "    .dataframe thead th {\n",
       "        text-align: right;\n",
       "    }\n",
       "</style>\n",
       "<table border=\"1\" class=\"dataframe\">\n",
       "  <thead>\n",
       "    <tr style=\"text-align: right;\">\n",
       "      <th></th>\n",
       "      <th>id</th>\n",
       "      <th>country_id</th>\n",
       "      <th>league_id</th>\n",
       "      <th>season</th>\n",
       "      <th>stage</th>\n",
       "      <th>date</th>\n",
       "      <th>match_api_id</th>\n",
       "      <th>home_team_api_id</th>\n",
       "      <th>away_team_api_id</th>\n",
       "      <th>home_team_goal</th>\n",
       "      <th>...</th>\n",
       "      <th>away_player_10</th>\n",
       "      <th>away_player_11</th>\n",
       "      <th>goal</th>\n",
       "      <th>shoton</th>\n",
       "      <th>shotoff</th>\n",
       "      <th>foulcommit</th>\n",
       "      <th>card</th>\n",
       "      <th>cross</th>\n",
       "      <th>corner</th>\n",
       "      <th>possession</th>\n",
       "    </tr>\n",
       "  </thead>\n",
       "  <tbody>\n",
       "    <tr>\n",
       "      <th>1728</th>\n",
       "      <td>1729</td>\n",
       "      <td>1729</td>\n",
       "      <td>1729</td>\n",
       "      <td>2008/2009</td>\n",
       "      <td>1</td>\n",
       "      <td>2008-08-17 00:00:00</td>\n",
       "      <td>489042</td>\n",
       "      <td>10260</td>\n",
       "      <td>10261</td>\n",
       "      <td>1</td>\n",
       "      <td>...</td>\n",
       "      <td>34574.0</td>\n",
       "      <td>37799.0</td>\n",
       "      <td>&lt;goal&gt;&lt;value&gt;&lt;comment&gt;n&lt;/comment&gt;&lt;stats&gt;&lt;goals...</td>\n",
       "      <td>&lt;shoton&gt;&lt;value&gt;&lt;stats&gt;&lt;blocked&gt;1&lt;/blocked&gt;&lt;/st...</td>\n",
       "      <td>&lt;shotoff&gt;&lt;value&gt;&lt;stats&gt;&lt;shotoff&gt;1&lt;/shotoff&gt;&lt;/s...</td>\n",
       "      <td>&lt;foulcommit&gt;&lt;value&gt;&lt;stats&gt;&lt;foulscommitted&gt;1&lt;/f...</td>\n",
       "      <td>&lt;card&gt;&lt;value&gt;&lt;comment&gt;y&lt;/comment&gt;&lt;stats&gt;&lt;ycard...</td>\n",
       "      <td>&lt;cross&gt;&lt;value&gt;&lt;stats&gt;&lt;crosses&gt;1&lt;/crosses&gt;&lt;/sta...</td>\n",
       "      <td>&lt;corner&gt;&lt;value&gt;&lt;stats&gt;&lt;corners&gt;1&lt;/corners&gt;&lt;/st...</td>\n",
       "      <td>&lt;possession&gt;&lt;value&gt;&lt;comment&gt;56&lt;/comment&gt;&lt;event...</td>\n",
       "    </tr>\n",
       "    <tr>\n",
       "      <th>1729</th>\n",
       "      <td>1730</td>\n",
       "      <td>1729</td>\n",
       "      <td>1729</td>\n",
       "      <td>2008/2009</td>\n",
       "      <td>1</td>\n",
       "      <td>2008-08-16 00:00:00</td>\n",
       "      <td>489043</td>\n",
       "      <td>9825</td>\n",
       "      <td>8659</td>\n",
       "      <td>1</td>\n",
       "      <td>...</td>\n",
       "      <td>25922.0</td>\n",
       "      <td>27267.0</td>\n",
       "      <td>&lt;goal&gt;&lt;value&gt;&lt;comment&gt;n&lt;/comment&gt;&lt;stats&gt;&lt;goals...</td>\n",
       "      <td>&lt;shoton&gt;&lt;value&gt;&lt;stats&gt;&lt;blocked&gt;1&lt;/blocked&gt;&lt;/st...</td>\n",
       "      <td>&lt;shotoff&gt;&lt;value&gt;&lt;stats&gt;&lt;shotoff&gt;1&lt;/shotoff&gt;&lt;/s...</td>\n",
       "      <td>&lt;foulcommit&gt;&lt;value&gt;&lt;stats&gt;&lt;foulscommitted&gt;1&lt;/f...</td>\n",
       "      <td>&lt;card /&gt;</td>\n",
       "      <td>&lt;cross&gt;&lt;value&gt;&lt;stats&gt;&lt;crosses&gt;1&lt;/crosses&gt;&lt;/sta...</td>\n",
       "      <td>&lt;corner&gt;&lt;value&gt;&lt;stats&gt;&lt;corners&gt;1&lt;/corners&gt;&lt;/st...</td>\n",
       "      <td>&lt;possession&gt;&lt;value&gt;&lt;comment&gt;65&lt;/comment&gt;&lt;event...</td>\n",
       "    </tr>\n",
       "    <tr>\n",
       "      <th>1730</th>\n",
       "      <td>1731</td>\n",
       "      <td>1729</td>\n",
       "      <td>1729</td>\n",
       "      <td>2008/2009</td>\n",
       "      <td>1</td>\n",
       "      <td>2008-08-16 00:00:00</td>\n",
       "      <td>489044</td>\n",
       "      <td>8472</td>\n",
       "      <td>8650</td>\n",
       "      <td>0</td>\n",
       "      <td>...</td>\n",
       "      <td>24635.0</td>\n",
       "      <td>30853.0</td>\n",
       "      <td>&lt;goal&gt;&lt;value&gt;&lt;comment&gt;n&lt;/comment&gt;&lt;stats&gt;&lt;goals...</td>\n",
       "      <td>&lt;shoton&gt;&lt;value&gt;&lt;stats&gt;&lt;blocked&gt;1&lt;/blocked&gt;&lt;/st...</td>\n",
       "      <td>&lt;shotoff&gt;&lt;value&gt;&lt;stats&gt;&lt;shotoff&gt;1&lt;/shotoff&gt;&lt;/s...</td>\n",
       "      <td>&lt;foulcommit&gt;&lt;value&gt;&lt;stats&gt;&lt;foulscommitted&gt;1&lt;/f...</td>\n",
       "      <td>&lt;card&gt;&lt;value&gt;&lt;comment&gt;y&lt;/comment&gt;&lt;stats&gt;&lt;ycard...</td>\n",
       "      <td>&lt;cross&gt;&lt;value&gt;&lt;stats&gt;&lt;crosses&gt;1&lt;/crosses&gt;&lt;/sta...</td>\n",
       "      <td>&lt;corner&gt;&lt;value&gt;&lt;stats&gt;&lt;corners&gt;1&lt;/corners&gt;&lt;/st...</td>\n",
       "      <td>&lt;possession&gt;&lt;value&gt;&lt;comment&gt;45&lt;/comment&gt;&lt;event...</td>\n",
       "    </tr>\n",
       "    <tr>\n",
       "      <th>1731</th>\n",
       "      <td>1732</td>\n",
       "      <td>1729</td>\n",
       "      <td>1729</td>\n",
       "      <td>2008/2009</td>\n",
       "      <td>1</td>\n",
       "      <td>2008-08-16 00:00:00</td>\n",
       "      <td>489045</td>\n",
       "      <td>8654</td>\n",
       "      <td>8528</td>\n",
       "      <td>2</td>\n",
       "      <td>...</td>\n",
       "      <td>127857.0</td>\n",
       "      <td>34466.0</td>\n",
       "      <td>&lt;goal&gt;&lt;value&gt;&lt;comment&gt;n&lt;/comment&gt;&lt;stats&gt;&lt;goals...</td>\n",
       "      <td>&lt;shoton&gt;&lt;value&gt;&lt;stats&gt;&lt;shoton&gt;1&lt;/shoton&gt;&lt;/stat...</td>\n",
       "      <td>&lt;shotoff&gt;&lt;value&gt;&lt;stats&gt;&lt;shotoff&gt;1&lt;/shotoff&gt;&lt;/s...</td>\n",
       "      <td>&lt;foulcommit&gt;&lt;value&gt;&lt;stats&gt;&lt;foulscommitted&gt;1&lt;/f...</td>\n",
       "      <td>&lt;card&gt;&lt;value&gt;&lt;comment&gt;y&lt;/comment&gt;&lt;stats&gt;&lt;ycard...</td>\n",
       "      <td>&lt;cross&gt;&lt;value&gt;&lt;stats&gt;&lt;crosses&gt;1&lt;/crosses&gt;&lt;/sta...</td>\n",
       "      <td>&lt;corner&gt;&lt;value&gt;&lt;stats&gt;&lt;corners&gt;1&lt;/corners&gt;&lt;/st...</td>\n",
       "      <td>&lt;possession&gt;&lt;value&gt;&lt;comment&gt;50&lt;/comment&gt;&lt;event...</td>\n",
       "    </tr>\n",
       "    <tr>\n",
       "      <th>1732</th>\n",
       "      <td>1733</td>\n",
       "      <td>1729</td>\n",
       "      <td>1729</td>\n",
       "      <td>2008/2009</td>\n",
       "      <td>1</td>\n",
       "      <td>2008-08-17 00:00:00</td>\n",
       "      <td>489046</td>\n",
       "      <td>10252</td>\n",
       "      <td>8456</td>\n",
       "      <td>4</td>\n",
       "      <td>...</td>\n",
       "      <td>33633.0</td>\n",
       "      <td>107216.0</td>\n",
       "      <td>&lt;goal&gt;&lt;value&gt;&lt;comment&gt;n&lt;/comment&gt;&lt;stats&gt;&lt;goals...</td>\n",
       "      <td>&lt;shoton&gt;&lt;value&gt;&lt;stats&gt;&lt;blocked&gt;1&lt;/blocked&gt;&lt;/st...</td>\n",
       "      <td>&lt;shotoff&gt;&lt;value&gt;&lt;stats&gt;&lt;shotoff&gt;1&lt;/shotoff&gt;&lt;/s...</td>\n",
       "      <td>&lt;foulcommit&gt;&lt;value&gt;&lt;stats&gt;&lt;foulscommitted&gt;1&lt;/f...</td>\n",
       "      <td>&lt;card&gt;&lt;value&gt;&lt;comment&gt;y&lt;/comment&gt;&lt;stats&gt;&lt;ycard...</td>\n",
       "      <td>&lt;cross&gt;&lt;value&gt;&lt;stats&gt;&lt;corners&gt;1&lt;/corners&gt;&lt;/sta...</td>\n",
       "      <td>&lt;corner&gt;&lt;value&gt;&lt;stats&gt;&lt;corners&gt;1&lt;/corners&gt;&lt;/st...</td>\n",
       "      <td>&lt;possession&gt;&lt;value&gt;&lt;comment&gt;51&lt;/comment&gt;&lt;event...</td>\n",
       "    </tr>\n",
       "  </tbody>\n",
       "</table>\n",
       "<p>5 rows × 85 columns</p>\n",
       "</div>"
      ],
      "text/plain": [
       "        id  country_id  league_id     season  stage                 date  \\\n",
       "1728  1729        1729       1729  2008/2009      1  2008-08-17 00:00:00   \n",
       "1729  1730        1729       1729  2008/2009      1  2008-08-16 00:00:00   \n",
       "1730  1731        1729       1729  2008/2009      1  2008-08-16 00:00:00   \n",
       "1731  1732        1729       1729  2008/2009      1  2008-08-16 00:00:00   \n",
       "1732  1733        1729       1729  2008/2009      1  2008-08-17 00:00:00   \n",
       "\n",
       "      match_api_id  home_team_api_id  away_team_api_id  home_team_goal  ...  \\\n",
       "1728        489042             10260             10261               1  ...   \n",
       "1729        489043              9825              8659               1  ...   \n",
       "1730        489044              8472              8650               0  ...   \n",
       "1731        489045              8654              8528               2  ...   \n",
       "1732        489046             10252              8456               4  ...   \n",
       "\n",
       "      away_player_10  away_player_11  \\\n",
       "1728         34574.0         37799.0   \n",
       "1729         25922.0         27267.0   \n",
       "1730         24635.0         30853.0   \n",
       "1731        127857.0         34466.0   \n",
       "1732         33633.0        107216.0   \n",
       "\n",
       "                                                   goal  \\\n",
       "1728  <goal><value><comment>n</comment><stats><goals...   \n",
       "1729  <goal><value><comment>n</comment><stats><goals...   \n",
       "1730  <goal><value><comment>n</comment><stats><goals...   \n",
       "1731  <goal><value><comment>n</comment><stats><goals...   \n",
       "1732  <goal><value><comment>n</comment><stats><goals...   \n",
       "\n",
       "                                                 shoton  \\\n",
       "1728  <shoton><value><stats><blocked>1</blocked></st...   \n",
       "1729  <shoton><value><stats><blocked>1</blocked></st...   \n",
       "1730  <shoton><value><stats><blocked>1</blocked></st...   \n",
       "1731  <shoton><value><stats><shoton>1</shoton></stat...   \n",
       "1732  <shoton><value><stats><blocked>1</blocked></st...   \n",
       "\n",
       "                                                shotoff  \\\n",
       "1728  <shotoff><value><stats><shotoff>1</shotoff></s...   \n",
       "1729  <shotoff><value><stats><shotoff>1</shotoff></s...   \n",
       "1730  <shotoff><value><stats><shotoff>1</shotoff></s...   \n",
       "1731  <shotoff><value><stats><shotoff>1</shotoff></s...   \n",
       "1732  <shotoff><value><stats><shotoff>1</shotoff></s...   \n",
       "\n",
       "                                             foulcommit  \\\n",
       "1728  <foulcommit><value><stats><foulscommitted>1</f...   \n",
       "1729  <foulcommit><value><stats><foulscommitted>1</f...   \n",
       "1730  <foulcommit><value><stats><foulscommitted>1</f...   \n",
       "1731  <foulcommit><value><stats><foulscommitted>1</f...   \n",
       "1732  <foulcommit><value><stats><foulscommitted>1</f...   \n",
       "\n",
       "                                                   card  \\\n",
       "1728  <card><value><comment>y</comment><stats><ycard...   \n",
       "1729                                           <card />   \n",
       "1730  <card><value><comment>y</comment><stats><ycard...   \n",
       "1731  <card><value><comment>y</comment><stats><ycard...   \n",
       "1732  <card><value><comment>y</comment><stats><ycard...   \n",
       "\n",
       "                                                  cross  \\\n",
       "1728  <cross><value><stats><crosses>1</crosses></sta...   \n",
       "1729  <cross><value><stats><crosses>1</crosses></sta...   \n",
       "1730  <cross><value><stats><crosses>1</crosses></sta...   \n",
       "1731  <cross><value><stats><crosses>1</crosses></sta...   \n",
       "1732  <cross><value><stats><corners>1</corners></sta...   \n",
       "\n",
       "                                                 corner  \\\n",
       "1728  <corner><value><stats><corners>1</corners></st...   \n",
       "1729  <corner><value><stats><corners>1</corners></st...   \n",
       "1730  <corner><value><stats><corners>1</corners></st...   \n",
       "1731  <corner><value><stats><corners>1</corners></st...   \n",
       "1732  <corner><value><stats><corners>1</corners></st...   \n",
       "\n",
       "                                             possession  \n",
       "1728  <possession><value><comment>56</comment><event...  \n",
       "1729  <possession><value><comment>65</comment><event...  \n",
       "1730  <possession><value><comment>45</comment><event...  \n",
       "1731  <possession><value><comment>50</comment><event...  \n",
       "1732  <possession><value><comment>51</comment><event...  \n",
       "\n",
       "[5 rows x 85 columns]"
      ]
     },
     "execution_count": 656,
     "metadata": {},
     "output_type": "execute_result"
    }
   ],
   "source": [
    "matches_prem.head()"
   ]
  },
  {
   "cell_type": "markdown",
   "metadata": {},
   "source": [
    "### Comments for initial cleaning & EDA"
   ]
  },
  {
   "cell_type": "markdown",
   "metadata": {},
   "source": [
    "- We don't need the country_id and league_id when we know all of these are Premier League games for the MVP. We can remove these columns, keep the id as the index column.\n",
    "\n",
    "- We can clean the other columns so it is readable e.g. the match stats look like they've been scraped from HTML. We can parse and extract the important stuff like goals.\n",
    "\n",
    "- Maybe later, we will feature engineer for last five results to show recent form going into this game (date will be important)\n",
    "\n",
    "- For prediction, the **base rate** is important. Before we introduce any specific team information at all, how often do Home wins, draws or away wins occur? we should look at all leagues for a solid base rate not just England"
   ]
  },
  {
   "cell_type": "code",
   "execution_count": 657,
   "metadata": {},
   "outputs": [],
   "source": [
    "# make a prem df where we drop the country_id and league_id columns\n",
    "prem = matches_prem.drop(['country_id', 'league_id'], axis=1)"
   ]
  },
  {
   "cell_type": "code",
   "execution_count": 658,
   "metadata": {},
   "outputs": [],
   "source": [
    "# rename columns to make them more understandable\n",
    "\n",
    "# rename stage to round / 38 rounds in a premier league season\n",
    "prem = prem.rename(columns={'stage': 'Round / 38'})\n",
    "\n",
    "# rename values in season - split the season before and after the / and take the last two characters of both\n",
    "prem['season'] = prem['season'].apply(lambda x: x.split('/')[0][2:] + '/' + x.split('/')[1][2:])\n",
    "\n",
    "prem = prem.rename(columns={'home_team_goal': 'Home GS', 'away_team_goal': 'Away GS', 'home_team_api_id': 'Home ID', 'away_team_api_id': 'Away ID'})\n",
    "\n",
    "# the same for all_matches\n",
    "european_matches = european_matches.rename(columns={'home_team_goal': 'Home GS', 'away_team_goal': 'Away GS', 'home_team_api_id': 'Home ID', 'away_team_api_id': 'Away ID'})\n",
    "\n",
    "# cast the date column to datetime\n",
    "prem['date'] = pd.to_datetime(prem['date'])"
   ]
  },
  {
   "cell_type": "markdown",
   "metadata": {},
   "source": [
    "For now we won't use the X and Y coordinates of the players so we will remove those columns"
   ]
  },
  {
   "cell_type": "code",
   "execution_count": 659,
   "metadata": {},
   "outputs": [],
   "source": [
    "# remove player coordinates more concisely\n",
    "prem = prem[prem.columns.drop(list(prem.filter(regex='(home|away)_player_(X|Y)[1-9]|(home|away)_player_(X|Y)10|(home|away)_player_(X|Y)11')))]\n",
    "\n",
    "# cast home_player_1 to home_player_11 to int\n",
    "# Use a combined regex to match and cast both 'home_player_1' to 'home_player_11' and 'away_player_1' to 'away_player_11' to Int64\n",
    "prem[prem.filter(regex='(home|away)_player_[1-9]|(home|away)_player_10|11').columns] = \\\n",
    "    prem.filter(regex='(home|away)_player_[1-9]|(home|away)_player_10|11').astype('Int64')"
   ]
  },
  {
   "cell_type": "code",
   "execution_count": 660,
   "metadata": {},
   "outputs": [
    {
     "data": {
      "text/html": [
       "<div>\n",
       "<style scoped>\n",
       "    .dataframe tbody tr th:only-of-type {\n",
       "        vertical-align: middle;\n",
       "    }\n",
       "\n",
       "    .dataframe tbody tr th {\n",
       "        vertical-align: top;\n",
       "    }\n",
       "\n",
       "    .dataframe thead th {\n",
       "        text-align: right;\n",
       "    }\n",
       "</style>\n",
       "<table border=\"1\" class=\"dataframe\">\n",
       "  <thead>\n",
       "    <tr style=\"text-align: right;\">\n",
       "      <th></th>\n",
       "      <th>id</th>\n",
       "      <th>season</th>\n",
       "      <th>Round / 38</th>\n",
       "      <th>date</th>\n",
       "      <th>match_api_id</th>\n",
       "      <th>Home ID</th>\n",
       "      <th>Away ID</th>\n",
       "      <th>Home GS</th>\n",
       "      <th>Away GS</th>\n",
       "      <th>home_player_1</th>\n",
       "      <th>...</th>\n",
       "      <th>away_player_10</th>\n",
       "      <th>away_player_11</th>\n",
       "      <th>goal</th>\n",
       "      <th>shoton</th>\n",
       "      <th>shotoff</th>\n",
       "      <th>foulcommit</th>\n",
       "      <th>card</th>\n",
       "      <th>cross</th>\n",
       "      <th>corner</th>\n",
       "      <th>possession</th>\n",
       "    </tr>\n",
       "  </thead>\n",
       "  <tbody>\n",
       "    <tr>\n",
       "      <th>2714</th>\n",
       "      <td>2715</td>\n",
       "      <td>10/11</td>\n",
       "      <td>3</td>\n",
       "      <td>2010-08-28</td>\n",
       "      <td>839840</td>\n",
       "      <td>8655</td>\n",
       "      <td>9825</td>\n",
       "      <td>1</td>\n",
       "      <td>2</td>\n",
       "      <td>30622</td>\n",
       "      <td>...</td>\n",
       "      <td>3520</td>\n",
       "      <td>30843</td>\n",
       "      <td>&lt;goal&gt;&lt;value&gt;&lt;comment&gt;n&lt;/comment&gt;&lt;stats&gt;&lt;goals...</td>\n",
       "      <td>&lt;shoton&gt;&lt;value&gt;&lt;stats&gt;&lt;blocked&gt;1&lt;/blocked&gt;&lt;/st...</td>\n",
       "      <td>&lt;shotoff&gt;&lt;value&gt;&lt;stats&gt;&lt;shotoff&gt;1&lt;/shotoff&gt;&lt;/s...</td>\n",
       "      <td>&lt;foulcommit&gt;&lt;value&gt;&lt;stats&gt;&lt;foulscommitted&gt;1&lt;/f...</td>\n",
       "      <td>&lt;card&gt;&lt;value&gt;&lt;comment&gt;y&lt;/comment&gt;&lt;stats&gt;&lt;ycard...</td>\n",
       "      <td>&lt;cross&gt;&lt;value&gt;&lt;stats&gt;&lt;crosses&gt;1&lt;/crosses&gt;&lt;/sta...</td>\n",
       "      <td>&lt;corner&gt;&lt;value&gt;&lt;stats&gt;&lt;corners&gt;1&lt;/corners&gt;&lt;/st...</td>\n",
       "      <td>&lt;possession&gt;&lt;value&gt;&lt;comment&gt;48&lt;/comment&gt;&lt;event...</td>\n",
       "    </tr>\n",
       "    <tr>\n",
       "      <th>4551</th>\n",
       "      <td>4552</td>\n",
       "      <td>15/16</td>\n",
       "      <td>24</td>\n",
       "      <td>2016-02-02</td>\n",
       "      <td>1988943</td>\n",
       "      <td>8472</td>\n",
       "      <td>8456</td>\n",
       "      <td>0</td>\n",
       "      <td>1</td>\n",
       "      <td>37233</td>\n",
       "      <td>...</td>\n",
       "      <td>643709</td>\n",
       "      <td>37412</td>\n",
       "      <td>&lt;goal&gt;&lt;value&gt;&lt;comment&gt;n&lt;/comment&gt;&lt;stats&gt;&lt;goals...</td>\n",
       "      <td>&lt;shoton&gt;&lt;value&gt;&lt;stats&gt;&lt;blocked&gt;1&lt;/blocked&gt;&lt;/st...</td>\n",
       "      <td>&lt;shotoff&gt;&lt;value&gt;&lt;stats&gt;&lt;shotoff&gt;1&lt;/shotoff&gt;&lt;/s...</td>\n",
       "      <td>&lt;foulcommit&gt;&lt;value&gt;&lt;stats&gt;&lt;foulscommitted&gt;1&lt;/f...</td>\n",
       "      <td>&lt;card&gt;&lt;value&gt;&lt;comment&gt;y&lt;/comment&gt;&lt;stats&gt;&lt;ycard...</td>\n",
       "      <td>&lt;cross&gt;&lt;value&gt;&lt;stats&gt;&lt;crosses&gt;1&lt;/crosses&gt;&lt;/sta...</td>\n",
       "      <td>&lt;corner&gt;&lt;value&gt;&lt;stats&gt;&lt;corners&gt;1&lt;/corners&gt;&lt;/st...</td>\n",
       "      <td>&lt;possession&gt;&lt;value&gt;&lt;comment&gt;36&lt;/comment&gt;&lt;stats...</td>\n",
       "    </tr>\n",
       "    <tr>\n",
       "      <th>4480</th>\n",
       "      <td>4481</td>\n",
       "      <td>15/16</td>\n",
       "      <td>18</td>\n",
       "      <td>2015-12-26</td>\n",
       "      <td>1988882</td>\n",
       "      <td>8455</td>\n",
       "      <td>9817</td>\n",
       "      <td>2</td>\n",
       "      <td>2</td>\n",
       "      <td>170323</td>\n",
       "      <td>...</td>\n",
       "      <td>72436</td>\n",
       "      <td>101419</td>\n",
       "      <td>&lt;goal&gt;&lt;value&gt;&lt;comment&gt;n&lt;/comment&gt;&lt;stats&gt;&lt;goals...</td>\n",
       "      <td>&lt;shoton&gt;&lt;value&gt;&lt;stats&gt;&lt;blocked&gt;1&lt;/blocked&gt;&lt;/st...</td>\n",
       "      <td>&lt;shotoff&gt;&lt;value&gt;&lt;stats&gt;&lt;shotoff&gt;1&lt;/shotoff&gt;&lt;/s...</td>\n",
       "      <td>&lt;foulcommit&gt;&lt;value&gt;&lt;stats&gt;&lt;foulscommitted&gt;1&lt;/f...</td>\n",
       "      <td>&lt;card&gt;&lt;value&gt;&lt;comment&gt;y&lt;/comment&gt;&lt;stats&gt;&lt;ycard...</td>\n",
       "      <td>&lt;cross&gt;&lt;value&gt;&lt;stats&gt;&lt;crosses&gt;1&lt;/crosses&gt;&lt;/sta...</td>\n",
       "      <td>&lt;corner&gt;&lt;value&gt;&lt;stats&gt;&lt;corners&gt;1&lt;/corners&gt;&lt;/st...</td>\n",
       "      <td>&lt;possession&gt;&lt;value&gt;&lt;comment&gt;65&lt;/comment&gt;&lt;stats...</td>\n",
       "    </tr>\n",
       "    <tr>\n",
       "      <th>3071</th>\n",
       "      <td>3072</td>\n",
       "      <td>11/12</td>\n",
       "      <td>28</td>\n",
       "      <td>2012-03-10</td>\n",
       "      <td>1025689</td>\n",
       "      <td>8455</td>\n",
       "      <td>10194</td>\n",
       "      <td>1</td>\n",
       "      <td>0</td>\n",
       "      <td>30859</td>\n",
       "      <td>...</td>\n",
       "      <td>30988</td>\n",
       "      <td>33881</td>\n",
       "      <td>&lt;goal&gt;&lt;value&gt;&lt;comment&gt;n&lt;/comment&gt;&lt;stats&gt;&lt;goals...</td>\n",
       "      <td>&lt;shoton&gt;&lt;value&gt;&lt;stats&gt;&lt;shoton&gt;1&lt;/shoton&gt;&lt;/stat...</td>\n",
       "      <td>&lt;shotoff&gt;&lt;value&gt;&lt;stats&gt;&lt;shotoff&gt;1&lt;/shotoff&gt;&lt;/s...</td>\n",
       "      <td>&lt;foulcommit&gt;&lt;value&gt;&lt;stats&gt;&lt;foulscommitted&gt;1&lt;/f...</td>\n",
       "      <td>&lt;card&gt;&lt;value&gt;&lt;comment&gt;y&lt;/comment&gt;&lt;stats&gt;&lt;ycard...</td>\n",
       "      <td>&lt;cross&gt;&lt;value&gt;&lt;stats&gt;&lt;corners&gt;1&lt;/corners&gt;&lt;/sta...</td>\n",
       "      <td>&lt;corner&gt;&lt;value&gt;&lt;stats&gt;&lt;corners&gt;1&lt;/corners&gt;&lt;/st...</td>\n",
       "      <td>&lt;possession&gt;&lt;value&gt;&lt;comment&gt;76&lt;/comment&gt;&lt;event...</td>\n",
       "    </tr>\n",
       "    <tr>\n",
       "      <th>4530</th>\n",
       "      <td>4531</td>\n",
       "      <td>15/16</td>\n",
       "      <td>22</td>\n",
       "      <td>2016-01-16</td>\n",
       "      <td>1988922</td>\n",
       "      <td>8455</td>\n",
       "      <td>8668</td>\n",
       "      <td>3</td>\n",
       "      <td>3</td>\n",
       "      <td>170323</td>\n",
       "      <td>...</td>\n",
       "      <td>26151</td>\n",
       "      <td>181276</td>\n",
       "      <td>&lt;goal&gt;&lt;value&gt;&lt;comment&gt;o&lt;/comment&gt;&lt;stats&gt;&lt;owngo...</td>\n",
       "      <td>&lt;shoton&gt;&lt;value&gt;&lt;stats&gt;&lt;blocked&gt;1&lt;/blocked&gt;&lt;/st...</td>\n",
       "      <td>&lt;shotoff&gt;&lt;value&gt;&lt;stats&gt;&lt;shotoff&gt;1&lt;/shotoff&gt;&lt;/s...</td>\n",
       "      <td>&lt;foulcommit&gt;&lt;value&gt;&lt;stats&gt;&lt;foulscommitted&gt;1&lt;/f...</td>\n",
       "      <td>&lt;card&gt;&lt;value&gt;&lt;comment&gt;y&lt;/comment&gt;&lt;stats&gt;&lt;ycard...</td>\n",
       "      <td>&lt;cross&gt;&lt;value&gt;&lt;stats&gt;&lt;crosses&gt;1&lt;/crosses&gt;&lt;/sta...</td>\n",
       "      <td>&lt;corner&gt;&lt;value&gt;&lt;stats&gt;&lt;corners&gt;1&lt;/corners&gt;&lt;/st...</td>\n",
       "      <td>&lt;possession&gt;&lt;value&gt;&lt;comment&gt;57&lt;/comment&gt;&lt;stats...</td>\n",
       "    </tr>\n",
       "  </tbody>\n",
       "</table>\n",
       "<p>5 rows × 39 columns</p>\n",
       "</div>"
      ],
      "text/plain": [
       "        id season  Round / 38       date  match_api_id  Home ID  Away ID  \\\n",
       "2714  2715  10/11           3 2010-08-28        839840     8655     9825   \n",
       "4551  4552  15/16          24 2016-02-02       1988943     8472     8456   \n",
       "4480  4481  15/16          18 2015-12-26       1988882     8455     9817   \n",
       "3071  3072  11/12          28 2012-03-10       1025689     8455    10194   \n",
       "4530  4531  15/16          22 2016-01-16       1988922     8455     8668   \n",
       "\n",
       "      Home GS  Away GS  home_player_1  ...  away_player_10  away_player_11  \\\n",
       "2714        1        2          30622  ...            3520           30843   \n",
       "4551        0        1          37233  ...          643709           37412   \n",
       "4480        2        2         170323  ...           72436          101419   \n",
       "3071        1        0          30859  ...           30988           33881   \n",
       "4530        3        3         170323  ...           26151          181276   \n",
       "\n",
       "                                                   goal  \\\n",
       "2714  <goal><value><comment>n</comment><stats><goals...   \n",
       "4551  <goal><value><comment>n</comment><stats><goals...   \n",
       "4480  <goal><value><comment>n</comment><stats><goals...   \n",
       "3071  <goal><value><comment>n</comment><stats><goals...   \n",
       "4530  <goal><value><comment>o</comment><stats><owngo...   \n",
       "\n",
       "                                                 shoton  \\\n",
       "2714  <shoton><value><stats><blocked>1</blocked></st...   \n",
       "4551  <shoton><value><stats><blocked>1</blocked></st...   \n",
       "4480  <shoton><value><stats><blocked>1</blocked></st...   \n",
       "3071  <shoton><value><stats><shoton>1</shoton></stat...   \n",
       "4530  <shoton><value><stats><blocked>1</blocked></st...   \n",
       "\n",
       "                                                shotoff  \\\n",
       "2714  <shotoff><value><stats><shotoff>1</shotoff></s...   \n",
       "4551  <shotoff><value><stats><shotoff>1</shotoff></s...   \n",
       "4480  <shotoff><value><stats><shotoff>1</shotoff></s...   \n",
       "3071  <shotoff><value><stats><shotoff>1</shotoff></s...   \n",
       "4530  <shotoff><value><stats><shotoff>1</shotoff></s...   \n",
       "\n",
       "                                             foulcommit  \\\n",
       "2714  <foulcommit><value><stats><foulscommitted>1</f...   \n",
       "4551  <foulcommit><value><stats><foulscommitted>1</f...   \n",
       "4480  <foulcommit><value><stats><foulscommitted>1</f...   \n",
       "3071  <foulcommit><value><stats><foulscommitted>1</f...   \n",
       "4530  <foulcommit><value><stats><foulscommitted>1</f...   \n",
       "\n",
       "                                                   card  \\\n",
       "2714  <card><value><comment>y</comment><stats><ycard...   \n",
       "4551  <card><value><comment>y</comment><stats><ycard...   \n",
       "4480  <card><value><comment>y</comment><stats><ycard...   \n",
       "3071  <card><value><comment>y</comment><stats><ycard...   \n",
       "4530  <card><value><comment>y</comment><stats><ycard...   \n",
       "\n",
       "                                                  cross  \\\n",
       "2714  <cross><value><stats><crosses>1</crosses></sta...   \n",
       "4551  <cross><value><stats><crosses>1</crosses></sta...   \n",
       "4480  <cross><value><stats><crosses>1</crosses></sta...   \n",
       "3071  <cross><value><stats><corners>1</corners></sta...   \n",
       "4530  <cross><value><stats><crosses>1</crosses></sta...   \n",
       "\n",
       "                                                 corner  \\\n",
       "2714  <corner><value><stats><corners>1</corners></st...   \n",
       "4551  <corner><value><stats><corners>1</corners></st...   \n",
       "4480  <corner><value><stats><corners>1</corners></st...   \n",
       "3071  <corner><value><stats><corners>1</corners></st...   \n",
       "4530  <corner><value><stats><corners>1</corners></st...   \n",
       "\n",
       "                                             possession  \n",
       "2714  <possession><value><comment>48</comment><event...  \n",
       "4551  <possession><value><comment>36</comment><stats...  \n",
       "4480  <possession><value><comment>65</comment><stats...  \n",
       "3071  <possession><value><comment>76</comment><event...  \n",
       "4530  <possession><value><comment>57</comment><stats...  \n",
       "\n",
       "[5 rows x 39 columns]"
      ]
     },
     "execution_count": 660,
     "metadata": {},
     "output_type": "execute_result"
    }
   ],
   "source": [
    "prem.sample(5)"
   ]
  },
  {
   "cell_type": "markdown",
   "metadata": {},
   "source": [
    "Notice the data stops in October 2015 - 9 fixtures into the season when Leicester City won!"
   ]
  },
  {
   "cell_type": "code",
   "execution_count": 661,
   "metadata": {},
   "outputs": [
    {
     "data": {
      "text/plain": [
       "Index(['id', 'season', 'Round / 38', 'date', 'match_api_id', 'Home ID',\n",
       "       'Away ID', 'Home GS', 'Away GS', 'home_player_1', 'home_player_2',\n",
       "       'home_player_3', 'home_player_4', 'home_player_5', 'home_player_6',\n",
       "       'home_player_7', 'home_player_8', 'home_player_9', 'home_player_10',\n",
       "       'home_player_11', 'away_player_1', 'away_player_2', 'away_player_3',\n",
       "       'away_player_4', 'away_player_5', 'away_player_6', 'away_player_7',\n",
       "       'away_player_8', 'away_player_9', 'away_player_10', 'away_player_11',\n",
       "       'goal', 'shoton', 'shotoff', 'foulcommit', 'card', 'cross', 'corner',\n",
       "       'possession'],\n",
       "      dtype='object')"
      ]
     },
     "execution_count": 661,
     "metadata": {},
     "output_type": "execute_result"
    }
   ],
   "source": [
    "prem.columns"
   ]
  },
  {
   "cell_type": "code",
   "execution_count": 662,
   "metadata": {},
   "outputs": [
    {
     "data": {
      "text/plain": [
       "3253     36374\n",
       "2779     30455\n",
       "4459     30974\n",
       "3868     69650\n",
       "4701    182917\n",
       "Name: home_player_1, dtype: Int64"
      ]
     },
     "execution_count": 662,
     "metadata": {},
     "output_type": "execute_result"
    }
   ],
   "source": [
    "prem['home_player_1'].sample(5) # spot check for some player IDs later"
   ]
  },
  {
   "cell_type": "markdown",
   "metadata": {},
   "source": [
    "Add a Result column below - positive for home win (+3 means 3 goal victory), 0 for draw, negative for away win"
   ]
  },
  {
   "cell_type": "code",
   "execution_count": 663,
   "metadata": {},
   "outputs": [],
   "source": [
    "# add the Result Column - 1 if home team wins, 0 if draw, -1 if away team wins\n",
    "prem.insert(9, 'Result', np.sign(prem['Home GS'] - prem['Away GS']))\n",
    "\n",
    "# add the Margin column = gives the margin of victory for the home / away team\n",
    "prem.insert(10, 'Margin', prem['Home GS'] - prem['Away GS'])\n",
    "\n",
    "# same with the all_matches table\n",
    "european_matches.insert(9, 'Result', np.sign(european_matches['Home GS'] - european_matches['Away GS']))\n",
    "\n",
    "european_matches.insert(10, 'Margin', european_matches['Home GS'] - european_matches['Away GS'])"
   ]
  },
  {
   "cell_type": "code",
   "execution_count": 664,
   "metadata": {},
   "outputs": [
    {
     "data": {
      "text/html": [
       "<div>\n",
       "<style scoped>\n",
       "    .dataframe tbody tr th:only-of-type {\n",
       "        vertical-align: middle;\n",
       "    }\n",
       "\n",
       "    .dataframe tbody tr th {\n",
       "        vertical-align: top;\n",
       "    }\n",
       "\n",
       "    .dataframe thead th {\n",
       "        text-align: right;\n",
       "    }\n",
       "</style>\n",
       "<table border=\"1\" class=\"dataframe\">\n",
       "  <thead>\n",
       "    <tr style=\"text-align: right;\">\n",
       "      <th></th>\n",
       "      <th>id</th>\n",
       "      <th>country_id</th>\n",
       "      <th>league_id</th>\n",
       "      <th>season</th>\n",
       "      <th>stage</th>\n",
       "      <th>date</th>\n",
       "      <th>match_api_id</th>\n",
       "      <th>Home ID</th>\n",
       "      <th>Away ID</th>\n",
       "      <th>Result</th>\n",
       "      <th>...</th>\n",
       "      <th>SJA</th>\n",
       "      <th>VCH</th>\n",
       "      <th>VCD</th>\n",
       "      <th>VCA</th>\n",
       "      <th>GBH</th>\n",
       "      <th>GBD</th>\n",
       "      <th>GBA</th>\n",
       "      <th>BSH</th>\n",
       "      <th>BSD</th>\n",
       "      <th>BSA</th>\n",
       "    </tr>\n",
       "  </thead>\n",
       "  <tbody>\n",
       "  </tbody>\n",
       "</table>\n",
       "<p>0 rows × 117 columns</p>\n",
       "</div>"
      ],
      "text/plain": [
       "Empty DataFrame\n",
       "Columns: [id, country_id, league_id, season, stage, date, match_api_id, Home ID, Away ID, Result, Margin, Home GS, Away GS, home_player_X1, home_player_X2, home_player_X3, home_player_X4, home_player_X5, home_player_X6, home_player_X7, home_player_X8, home_player_X9, home_player_X10, home_player_X11, away_player_X1, away_player_X2, away_player_X3, away_player_X4, away_player_X5, away_player_X6, away_player_X7, away_player_X8, away_player_X9, away_player_X10, away_player_X11, home_player_Y1, home_player_Y2, home_player_Y3, home_player_Y4, home_player_Y5, home_player_Y6, home_player_Y7, home_player_Y8, home_player_Y9, home_player_Y10, home_player_Y11, away_player_Y1, away_player_Y2, away_player_Y3, away_player_Y4, away_player_Y5, away_player_Y6, away_player_Y7, away_player_Y8, away_player_Y9, away_player_Y10, away_player_Y11, home_player_1, home_player_2, home_player_3, home_player_4, home_player_5, home_player_6, home_player_7, home_player_8, home_player_9, home_player_10, home_player_11, away_player_1, away_player_2, away_player_3, away_player_4, away_player_5, away_player_6, away_player_7, away_player_8, away_player_9, away_player_10, away_player_11, goal, shoton, shotoff, foulcommit, card, cross, corner, possession, B365H, B365D, B365A, BWH, BWD, BWA, IWH, IWD, IWA, LBH, LBD, LBA, PSH, ...]\n",
       "Index: []\n",
       "\n",
       "[0 rows x 117 columns]"
      ]
     },
     "execution_count": 664,
     "metadata": {},
     "output_type": "execute_result"
    }
   ],
   "source": [
    "european_matches[european_matches['league_id'] == 1729].head()"
   ]
  },
  {
   "cell_type": "code",
   "execution_count": 665,
   "metadata": {},
   "outputs": [
    {
     "data": {
      "text/html": [
       "<div>\n",
       "<style scoped>\n",
       "    .dataframe tbody tr th:only-of-type {\n",
       "        vertical-align: middle;\n",
       "    }\n",
       "\n",
       "    .dataframe tbody tr th {\n",
       "        vertical-align: top;\n",
       "    }\n",
       "\n",
       "    .dataframe thead th {\n",
       "        text-align: right;\n",
       "    }\n",
       "</style>\n",
       "<table border=\"1\" class=\"dataframe\">\n",
       "  <thead>\n",
       "    <tr style=\"text-align: right;\">\n",
       "      <th></th>\n",
       "      <th>id</th>\n",
       "      <th>season</th>\n",
       "      <th>Round / 38</th>\n",
       "      <th>date</th>\n",
       "      <th>match_api_id</th>\n",
       "      <th>Home ID</th>\n",
       "      <th>Away ID</th>\n",
       "      <th>Home GS</th>\n",
       "      <th>Away GS</th>\n",
       "      <th>Result</th>\n",
       "      <th>...</th>\n",
       "      <th>away_player_10</th>\n",
       "      <th>away_player_11</th>\n",
       "      <th>goal</th>\n",
       "      <th>shoton</th>\n",
       "      <th>shotoff</th>\n",
       "      <th>foulcommit</th>\n",
       "      <th>card</th>\n",
       "      <th>cross</th>\n",
       "      <th>corner</th>\n",
       "      <th>possession</th>\n",
       "    </tr>\n",
       "  </thead>\n",
       "  <tbody>\n",
       "    <tr>\n",
       "      <th>1892</th>\n",
       "      <td>1893</td>\n",
       "      <td>08/09</td>\n",
       "      <td>24</td>\n",
       "      <td>2009-01-31</td>\n",
       "      <td>489277</td>\n",
       "      <td>8549</td>\n",
       "      <td>8655</td>\n",
       "      <td>0</td>\n",
       "      <td>0</td>\n",
       "      <td>0</td>\n",
       "      <td>...</td>\n",
       "      <td>30646</td>\n",
       "      <td>34947</td>\n",
       "      <td>&lt;goal /&gt;</td>\n",
       "      <td>&lt;shoton&gt;&lt;value&gt;&lt;stats&gt;&lt;shoton&gt;1&lt;/shoton&gt;&lt;/stat...</td>\n",
       "      <td>&lt;shotoff&gt;&lt;value&gt;&lt;stats&gt;&lt;shotoff&gt;1&lt;/shotoff&gt;&lt;/s...</td>\n",
       "      <td>&lt;foulcommit&gt;&lt;value&gt;&lt;stats&gt;&lt;foulscommitted&gt;1&lt;/f...</td>\n",
       "      <td>&lt;card&gt;&lt;value&gt;&lt;comment&gt;y&lt;/comment&gt;&lt;stats&gt;&lt;ycard...</td>\n",
       "      <td>&lt;cross&gt;&lt;value&gt;&lt;stats&gt;&lt;crosses&gt;1&lt;/crosses&gt;&lt;/sta...</td>\n",
       "      <td>&lt;corner&gt;&lt;value&gt;&lt;stats&gt;&lt;corners&gt;1&lt;/corners&gt;&lt;/st...</td>\n",
       "      <td>&lt;possession&gt;&lt;value&gt;&lt;comment&gt;60&lt;/comment&gt;&lt;event...</td>\n",
       "    </tr>\n",
       "    <tr>\n",
       "      <th>4624</th>\n",
       "      <td>4625</td>\n",
       "      <td>15/16</td>\n",
       "      <td>30</td>\n",
       "      <td>2016-03-12</td>\n",
       "      <td>1989006</td>\n",
       "      <td>9850</td>\n",
       "      <td>8456</td>\n",
       "      <td>0</td>\n",
       "      <td>0</td>\n",
       "      <td>0</td>\n",
       "      <td>...</td>\n",
       "      <td>143365</td>\n",
       "      <td>37412</td>\n",
       "      <td>&lt;goal /&gt;</td>\n",
       "      <td>&lt;shoton&gt;&lt;value&gt;&lt;event_incident_typefk&gt;876&lt;/eve...</td>\n",
       "      <td>&lt;shotoff&gt;&lt;value&gt;&lt;stats&gt;&lt;shotoff&gt;1&lt;/shotoff&gt;&lt;/s...</td>\n",
       "      <td>&lt;foulcommit&gt;&lt;value&gt;&lt;stats&gt;&lt;foulscommitted&gt;1&lt;/f...</td>\n",
       "      <td>&lt;card&gt;&lt;value&gt;&lt;comment&gt;y&lt;/comment&gt;&lt;stats&gt;&lt;ycard...</td>\n",
       "      <td>&lt;cross&gt;&lt;value&gt;&lt;stats&gt;&lt;crosses&gt;1&lt;/crosses&gt;&lt;/sta...</td>\n",
       "      <td>&lt;corner&gt;&lt;value&gt;&lt;stats&gt;&lt;corners&gt;1&lt;/corners&gt;&lt;/st...</td>\n",
       "      <td>&lt;possession&gt;&lt;value&gt;&lt;comment&gt;21&lt;/comment&gt;&lt;stats...</td>\n",
       "    </tr>\n",
       "    <tr>\n",
       "      <th>4158</th>\n",
       "      <td>4159</td>\n",
       "      <td>14/15</td>\n",
       "      <td>23</td>\n",
       "      <td>2015-02-01</td>\n",
       "      <td>1724202</td>\n",
       "      <td>9825</td>\n",
       "      <td>10252</td>\n",
       "      <td>5</td>\n",
       "      <td>0</td>\n",
       "      <td>1</td>\n",
       "      <td>...</td>\n",
       "      <td>148315</td>\n",
       "      <td>184360</td>\n",
       "      <td>&lt;goal&gt;&lt;value&gt;&lt;comment&gt;n&lt;/comment&gt;&lt;stats&gt;&lt;goals...</td>\n",
       "      <td>&lt;shoton&gt;&lt;value&gt;&lt;stats&gt;&lt;blocked&gt;1&lt;/blocked&gt;&lt;/st...</td>\n",
       "      <td>&lt;shotoff&gt;&lt;value&gt;&lt;stats&gt;&lt;shotoff&gt;1&lt;/shotoff&gt;&lt;/s...</td>\n",
       "      <td>&lt;foulcommit&gt;&lt;value&gt;&lt;stats&gt;&lt;foulscommitted&gt;1&lt;/f...</td>\n",
       "      <td>&lt;card&gt;&lt;value&gt;&lt;comment&gt;y&lt;/comment&gt;&lt;stats&gt;&lt;ycard...</td>\n",
       "      <td>&lt;cross&gt;&lt;value&gt;&lt;stats&gt;&lt;crosses&gt;1&lt;/crosses&gt;&lt;/sta...</td>\n",
       "      <td>&lt;corner&gt;&lt;value&gt;&lt;stats&gt;&lt;corners&gt;1&lt;/corners&gt;&lt;/st...</td>\n",
       "      <td>&lt;possession&gt;&lt;value&gt;&lt;comment&gt;49&lt;/comment&gt;&lt;event...</td>\n",
       "    </tr>\n",
       "    <tr>\n",
       "      <th>3318</th>\n",
       "      <td>3319</td>\n",
       "      <td>12/13</td>\n",
       "      <td>16</td>\n",
       "      <td>2012-12-08</td>\n",
       "      <td>1229261</td>\n",
       "      <td>9825</td>\n",
       "      <td>8659</td>\n",
       "      <td>2</td>\n",
       "      <td>0</td>\n",
       "      <td>1</td>\n",
       "      <td>...</td>\n",
       "      <td>25550</td>\n",
       "      <td>23293</td>\n",
       "      <td>&lt;goal&gt;&lt;value&gt;&lt;comment&gt;p&lt;/comment&gt;&lt;stats&gt;&lt;penal...</td>\n",
       "      <td>&lt;shoton&gt;&lt;value&gt;&lt;stats&gt;&lt;blocked&gt;1&lt;/blocked&gt;&lt;/st...</td>\n",
       "      <td>&lt;shotoff&gt;&lt;value&gt;&lt;stats&gt;&lt;shotoff&gt;1&lt;/shotoff&gt;&lt;/s...</td>\n",
       "      <td>&lt;foulcommit&gt;&lt;value&gt;&lt;stats&gt;&lt;foulscommitted&gt;1&lt;/f...</td>\n",
       "      <td>&lt;card&gt;&lt;value&gt;&lt;comment&gt;y&lt;/comment&gt;&lt;stats&gt;&lt;ycard...</td>\n",
       "      <td>&lt;cross&gt;&lt;value&gt;&lt;stats&gt;&lt;crosses&gt;1&lt;/crosses&gt;&lt;/sta...</td>\n",
       "      <td>&lt;corner&gt;&lt;value&gt;&lt;stats&gt;&lt;corners&gt;1&lt;/corners&gt;&lt;/st...</td>\n",
       "      <td>&lt;possession&gt;&lt;value&gt;&lt;comment&gt;59&lt;/comment&gt;&lt;event...</td>\n",
       "    </tr>\n",
       "    <tr>\n",
       "      <th>2454</th>\n",
       "      <td>2455</td>\n",
       "      <td>09/10</td>\n",
       "      <td>6</td>\n",
       "      <td>2009-09-19</td>\n",
       "      <td>658629</td>\n",
       "      <td>8559</td>\n",
       "      <td>10194</td>\n",
       "      <td>1</td>\n",
       "      <td>1</td>\n",
       "      <td>0</td>\n",
       "      <td>...</td>\n",
       "      <td>38755</td>\n",
       "      <td>23288</td>\n",
       "      <td>&lt;goal&gt;&lt;value&gt;&lt;comment&gt;n&lt;/comment&gt;&lt;stats&gt;&lt;goals...</td>\n",
       "      <td>&lt;shoton&gt;&lt;value&gt;&lt;stats&gt;&lt;shoton&gt;1&lt;/shoton&gt;&lt;/stat...</td>\n",
       "      <td>&lt;shotoff&gt;&lt;value&gt;&lt;stats&gt;&lt;shotoff&gt;1&lt;/shotoff&gt;&lt;/s...</td>\n",
       "      <td>&lt;foulcommit&gt;&lt;value&gt;&lt;stats&gt;&lt;foulscommitted&gt;1&lt;/f...</td>\n",
       "      <td>&lt;card&gt;&lt;value&gt;&lt;comment&gt;y&lt;/comment&gt;&lt;stats&gt;&lt;ycard...</td>\n",
       "      <td>&lt;cross&gt;&lt;value&gt;&lt;stats&gt;&lt;crosses&gt;1&lt;/crosses&gt;&lt;/sta...</td>\n",
       "      <td>&lt;corner&gt;&lt;value&gt;&lt;stats&gt;&lt;corners&gt;1&lt;/corners&gt;&lt;/st...</td>\n",
       "      <td>&lt;possession&gt;&lt;value&gt;&lt;comment&gt;51&lt;/comment&gt;&lt;event...</td>\n",
       "    </tr>\n",
       "  </tbody>\n",
       "</table>\n",
       "<p>5 rows × 41 columns</p>\n",
       "</div>"
      ],
      "text/plain": [
       "        id season  Round / 38       date  match_api_id  Home ID  Away ID  \\\n",
       "1892  1893  08/09          24 2009-01-31        489277     8549     8655   \n",
       "4624  4625  15/16          30 2016-03-12       1989006     9850     8456   \n",
       "4158  4159  14/15          23 2015-02-01       1724202     9825    10252   \n",
       "3318  3319  12/13          16 2012-12-08       1229261     9825     8659   \n",
       "2454  2455  09/10           6 2009-09-19        658629     8559    10194   \n",
       "\n",
       "      Home GS  Away GS  Result  ...  away_player_10  away_player_11  \\\n",
       "1892        0        0       0  ...           30646           34947   \n",
       "4624        0        0       0  ...          143365           37412   \n",
       "4158        5        0       1  ...          148315          184360   \n",
       "3318        2        0       1  ...           25550           23293   \n",
       "2454        1        1       0  ...           38755           23288   \n",
       "\n",
       "                                                   goal  \\\n",
       "1892                                           <goal />   \n",
       "4624                                           <goal />   \n",
       "4158  <goal><value><comment>n</comment><stats><goals...   \n",
       "3318  <goal><value><comment>p</comment><stats><penal...   \n",
       "2454  <goal><value><comment>n</comment><stats><goals...   \n",
       "\n",
       "                                                 shoton  \\\n",
       "1892  <shoton><value><stats><shoton>1</shoton></stat...   \n",
       "4624  <shoton><value><event_incident_typefk>876</eve...   \n",
       "4158  <shoton><value><stats><blocked>1</blocked></st...   \n",
       "3318  <shoton><value><stats><blocked>1</blocked></st...   \n",
       "2454  <shoton><value><stats><shoton>1</shoton></stat...   \n",
       "\n",
       "                                                shotoff  \\\n",
       "1892  <shotoff><value><stats><shotoff>1</shotoff></s...   \n",
       "4624  <shotoff><value><stats><shotoff>1</shotoff></s...   \n",
       "4158  <shotoff><value><stats><shotoff>1</shotoff></s...   \n",
       "3318  <shotoff><value><stats><shotoff>1</shotoff></s...   \n",
       "2454  <shotoff><value><stats><shotoff>1</shotoff></s...   \n",
       "\n",
       "                                             foulcommit  \\\n",
       "1892  <foulcommit><value><stats><foulscommitted>1</f...   \n",
       "4624  <foulcommit><value><stats><foulscommitted>1</f...   \n",
       "4158  <foulcommit><value><stats><foulscommitted>1</f...   \n",
       "3318  <foulcommit><value><stats><foulscommitted>1</f...   \n",
       "2454  <foulcommit><value><stats><foulscommitted>1</f...   \n",
       "\n",
       "                                                   card  \\\n",
       "1892  <card><value><comment>y</comment><stats><ycard...   \n",
       "4624  <card><value><comment>y</comment><stats><ycard...   \n",
       "4158  <card><value><comment>y</comment><stats><ycard...   \n",
       "3318  <card><value><comment>y</comment><stats><ycard...   \n",
       "2454  <card><value><comment>y</comment><stats><ycard...   \n",
       "\n",
       "                                                  cross  \\\n",
       "1892  <cross><value><stats><crosses>1</crosses></sta...   \n",
       "4624  <cross><value><stats><crosses>1</crosses></sta...   \n",
       "4158  <cross><value><stats><crosses>1</crosses></sta...   \n",
       "3318  <cross><value><stats><crosses>1</crosses></sta...   \n",
       "2454  <cross><value><stats><crosses>1</crosses></sta...   \n",
       "\n",
       "                                                 corner  \\\n",
       "1892  <corner><value><stats><corners>1</corners></st...   \n",
       "4624  <corner><value><stats><corners>1</corners></st...   \n",
       "4158  <corner><value><stats><corners>1</corners></st...   \n",
       "3318  <corner><value><stats><corners>1</corners></st...   \n",
       "2454  <corner><value><stats><corners>1</corners></st...   \n",
       "\n",
       "                                             possession  \n",
       "1892  <possession><value><comment>60</comment><event...  \n",
       "4624  <possession><value><comment>21</comment><stats...  \n",
       "4158  <possession><value><comment>49</comment><event...  \n",
       "3318  <possession><value><comment>59</comment><event...  \n",
       "2454  <possession><value><comment>51</comment><event...  \n",
       "\n",
       "[5 rows x 41 columns]"
      ]
     },
     "execution_count": 665,
     "metadata": {},
     "output_type": "execute_result"
    }
   ],
   "source": [
    "prem.sample(5)"
   ]
  },
  {
   "cell_type": "markdown",
   "metadata": {},
   "source": [
    "### Establishing a Base Rate prediction for Home Win, Draw, Away Win"
   ]
  },
  {
   "cell_type": "markdown",
   "metadata": {},
   "source": [
    "So far we have made the results and margin columns, which indicate 1 for a home win, 0 for draw and -1 for home loss.\n",
    "\n",
    "I think we can make a 'base rate' that the model could in future use to predict a result. Let's get some visuals on a very large level how common home vs away wins are."
   ]
  },
  {
   "cell_type": "code",
   "execution_count": 666,
   "metadata": {},
   "outputs": [
    {
     "data": {
      "image/png": "[encoded data removed]",
      "text/plain": [
       "<Figure size 800x600 with 1 Axes>"
      ]
     },
     "metadata": {},
     "output_type": "display_data"
    },
    {
     "data": {
      "image/png": "[encoded data removed]",
      "text/plain": [
       "<Figure size 800x600 with 1 Axes>"
      ]
     },
     "metadata": {},
     "output_type": "display_data"
    }
   ],
   "source": [
    "import matplotlib.pyplot as plt\n",
    "\n",
    "# First figure for the 'prem' dataframe\n",
    "plt.figure(figsize=(8, 6))\n",
    "prem['Result'].value_counts().plot(kind='bar', color=['red', 'blue', 'green'])\n",
    "plt.xticks(ticks=[0, 1, 2], labels=['Home Win', 'Draw', 'Away Win'], rotation=0)\n",
    "plt.ylabel('Number of Games')\n",
    "plt.title('Premier League Results from 3040 games, 08/09 - 15/16')\n",
    "plt.show()\n",
    "\n",
    "# Second figure for the 'all_matches' dataframe\n",
    "plt.figure(figsize=(8, 6))\n",
    "european_matches['Result'].value_counts().plot(kind='bar', color=['red', 'blue', 'green'])\n",
    "plt.xticks(ticks=[0, 1, 2], labels=['Home Win', 'Draw', 'Away Win'], rotation=0)\n",
    "# label y axis with total number of games - 25979\n",
    "plt.ylabel('Number of Games')\n",
    "\n",
    "# title - Results Across European Leagues from 25979 games, 08/09 - 15/16\n",
    "plt.title('Results Across European Leagues from 25979 games, 08/09 - 15/16')\n",
    "plt.show()\n"
   ]
  },
  {
   "cell_type": "code",
   "execution_count": 667,
   "metadata": {},
   "outputs": [
    {
     "data": {
      "application/vnd.plotly.v1+json": {
       "config": {
        "plotlyServerURL": "https://plot.ly"
       },
       "data": [
        {
         "domain": {
          "x": [
           0,
           0.45
          ],
          "y": [
           0,
           1
          ]
         },
         "hole": 0.33,
         "labels": [
          "Home Win",
          "Draw",
          "Away Win"
         ],
         "showlegend": false,
         "textinfo": "label+percent",
         "textposition": "outside",
         "type": "pie",
         "values": [
          1390,
          783,
          867
         ]
        },
        {
         "domain": {
          "x": [
           0.55,
           1
          ],
          "y": [
           0,
           1
          ]
         },
         "hole": 0.33,
         "labels": [
          "Home Win",
          "Draw",
          "Away Win"
         ],
         "showlegend": false,
         "textinfo": "label+percent",
         "textposition": "outside",
         "type": "pie",
         "values": [
          10527,
          5813,
          6599
         ]
        }
       ],
       "layout": {
        "annotations": [
         {
          "font": {
           "size": 16
          },
          "showarrow": false,
          "text": "Premier League Results, 3040 games, 08/09 - 15/16",
          "x": 0.225,
          "xanchor": "center",
          "xref": "paper",
          "y": 1,
          "yanchor": "bottom",
          "yref": "paper"
         },
         {
          "font": {
           "size": 16
          },
          "showarrow": false,
          "text": "Europe (non-PL) Results, 22939 games, 08/09 - 15/16",
          "x": 0.775,
          "xanchor": "center",
          "xref": "paper",
          "y": 1,
          "yanchor": "bottom",
          "yref": "paper"
         }
        ],
        "template": {
         "data": {
          "bar": [
           {
            "error_x": {
             "color": "#2a3f5f"
            },
            "error_y": {
             "color": "#2a3f5f"
            },
            "marker": {
             "line": {
              "color": "#E5ECF6",
              "width": 0.5
             },
             "pattern": {
              "fillmode": "overlay",
              "size": 10,
              "solidity": 0.2
             }
            },
            "type": "bar"
           }
          ],
          "barpolar": [
           {
            "marker": {
             "line": {
              "color": "#E5ECF6",
              "width": 0.5
             },
             "pattern": {
              "fillmode": "overlay",
              "size": 10,
              "solidity": 0.2
             }
            },
            "type": "barpolar"
           }
          ],
          "carpet": [
           {
            "aaxis": {
             "endlinecolor": "#2a3f5f",
             "gridcolor": "white",
             "linecolor": "white",
             "minorgridcolor": "white",
             "startlinecolor": "#2a3f5f"
            },
            "baxis": {
             "endlinecolor": "#2a3f5f",
             "gridcolor": "white",
             "linecolor": "white",
             "minorgridcolor": "white",
             "startlinecolor": "#2a3f5f"
            },
            "type": "carpet"
           }
          ],
          "choropleth": [
           {
            "colorbar": {
             "outlinewidth": 0,
             "ticks": ""
            },
            "type": "choropleth"
           }
          ],
          "contour": [
           {
            "colorbar": {
             "outlinewidth": 0,
             "ticks": ""
            },
            "colorscale": [
             [
              0,
              "#0d0887"
             ],
             [
              0.1111111111111111,
              "#46039f"
             ],
             [
              0.2222222222222222,
              "#7201a8"
             ],
             [
              0.3333333333333333,
              "#9c179e"
             ],
             [
              0.4444444444444444,
              "#bd3786"
             ],
             [
              0.5555555555555556,
              "#d8576b"
             ],
             [
              0.6666666666666666,
              "#ed7953"
             ],
             [
              0.7777777777777778,
              "#fb9f3a"
             ],
             [
              0.8888888888888888,
              "#fdca26"
             ],
             [
              1,
              "#f0f921"
             ]
            ],
            "type": "contour"
           }
          ],
          "contourcarpet": [
           {
            "colorbar": {
             "outlinewidth": 0,
             "ticks": ""
            },
            "type": "contourcarpet"
           }
          ],
          "heatmap": [
           {
            "colorbar": {
             "outlinewidth": 0,
             "ticks": ""
            },
            "colorscale": [
             [
              0,
              "#0d0887"
             ],
             [
              0.1111111111111111,
              "#46039f"
             ],
             [
              0.2222222222222222,
              "#7201a8"
             ],
             [
              0.3333333333333333,
              "#9c179e"
             ],
             [
              0.4444444444444444,
              "#bd3786"
             ],
             [
              0.5555555555555556,
              "#d8576b"
             ],
             [
              0.6666666666666666,
              "#ed7953"
             ],
             [
              0.7777777777777778,
              "#fb9f3a"
             ],
             [
              0.8888888888888888,
              "#fdca26"
             ],
             [
              1,
              "#f0f921"
             ]
            ],
            "type": "heatmap"
           }
          ],
          "heatmapgl": [
           {
            "colorbar": {
             "outlinewidth": 0,
             "ticks": ""
            },
            "colorscale": [
             [
              0,
              "#0d0887"
             ],
             [
              0.1111111111111111,
              "#46039f"
             ],
             [
              0.2222222222222222,
              "#7201a8"
             ],
             [
              0.3333333333333333,
              "#9c179e"
             ],
             [
              0.4444444444444444,
              "#bd3786"
             ],
             [
              0.5555555555555556,
              "#d8576b"
             ],
             [
              0.6666666666666666,
              "#ed7953"
             ],
             [
              0.7777777777777778,
              "#fb9f3a"
             ],
             [
              0.8888888888888888,
              "#fdca26"
             ],
             [
              1,
              "#f0f921"
             ]
            ],
            "type": "heatmapgl"
           }
          ],
          "histogram": [
           {
            "marker": {
             "pattern": {
              "fillmode": "overlay",
              "size": 10,
              "solidity": 0.2
             }
            },
            "type": "histogram"
           }
          ],
          "histogram2d": [
           {
            "colorbar": {
             "outlinewidth": 0,
             "ticks": ""
            },
            "colorscale": [
             [
              0,
              "#0d0887"
             ],
             [
              0.1111111111111111,
              "#46039f"
             ],
             [
              0.2222222222222222,
              "#7201a8"
             ],
             [
              0.3333333333333333,
              "#9c179e"
             ],
             [
              0.4444444444444444,
              "#bd3786"
             ],
             [
              0.5555555555555556,
              "#d8576b"
             ],
             [
              0.6666666666666666,
              "#ed7953"
             ],
             [
              0.7777777777777778,
              "#fb9f3a"
             ],
             [
              0.8888888888888888,
              "#fdca26"
             ],
             [
              1,
              "#f0f921"
             ]
            ],
            "type": "histogram2d"
           }
          ],
          "histogram2dcontour": [
           {
            "colorbar": {
             "outlinewidth": 0,
             "ticks": ""
            },
            "colorscale": [
             [
              0,
              "#0d0887"
             ],
             [
              0.1111111111111111,
              "#46039f"
             ],
             [
              0.2222222222222222,
              "#7201a8"
             ],
             [
              0.3333333333333333,
              "#9c179e"
             ],
             [
              0.4444444444444444,
              "#bd3786"
             ],
             [
              0.5555555555555556,
              "#d8576b"
             ],
             [
              0.6666666666666666,
              "#ed7953"
             ],
             [
              0.7777777777777778,
              "#fb9f3a"
             ],
             [
              0.8888888888888888,
              "#fdca26"
             ],
             [
              1,
              "#f0f921"
             ]
            ],
            "type": "histogram2dcontour"
           }
          ],
          "mesh3d": [
           {
            "colorbar": {
             "outlinewidth": 0,
             "ticks": ""
            },
            "type": "mesh3d"
           }
          ],
          "parcoords": [
           {
            "line": {
             "colorbar": {
              "outlinewidth": 0,
              "ticks": ""
             }
            },
            "type": "parcoords"
           }
          ],
          "pie": [
           {
            "automargin": true,
            "type": "pie"
           }
          ],
          "scatter": [
           {
            "fillpattern": {
             "fillmode": "overlay",
             "size": 10,
             "solidity": 0.2
            },
            "type": "scatter"
           }
          ],
          "scatter3d": [
           {
            "line": {
             "colorbar": {
              "outlinewidth": 0,
              "ticks": ""
             }
            },
            "marker": {
             "colorbar": {
              "outlinewidth": 0,
              "ticks": ""
             }
            },
            "type": "scatter3d"
           }
          ],
          "scattercarpet": [
           {
            "marker": {
             "colorbar": {
              "outlinewidth": 0,
              "ticks": ""
             }
            },
            "type": "scattercarpet"
           }
          ],
          "scattergeo": [
           {
            "marker": {
             "colorbar": {
              "outlinewidth": 0,
              "ticks": ""
             }
            },
            "type": "scattergeo"
           }
          ],
          "scattergl": [
           {
            "marker": {
             "colorbar": {
              "outlinewidth": 0,
              "ticks": ""
             }
            },
            "type": "scattergl"
           }
          ],
          "scattermapbox": [
           {
            "marker": {
             "colorbar": {
              "outlinewidth": 0,
              "ticks": ""
             }
            },
            "type": "scattermapbox"
           }
          ],
          "scatterpolar": [
           {
            "marker": {
             "colorbar": {
              "outlinewidth": 0,
              "ticks": ""
             }
            },
            "type": "scatterpolar"
           }
          ],
          "scatterpolargl": [
           {
            "marker": {
             "colorbar": {
              "outlinewidth": 0,
              "ticks": ""
             }
            },
            "type": "scatterpolargl"
           }
          ],
          "scatterternary": [
           {
            "marker": {
             "colorbar": {
              "outlinewidth": 0,
              "ticks": ""
             }
            },
            "type": "scatterternary"
           }
          ],
          "surface": [
           {
            "colorbar": {
             "outlinewidth": 0,
             "ticks": ""
            },
            "colorscale": [
             [
              0,
              "#0d0887"
             ],
             [
              0.1111111111111111,
              "#46039f"
             ],
             [
              0.2222222222222222,
              "#7201a8"
             ],
             [
              0.3333333333333333,
              "#9c179e"
             ],
             [
              0.4444444444444444,
              "#bd3786"
             ],
             [
              0.5555555555555556,
              "#d8576b"
             ],
             [
              0.6666666666666666,
              "#ed7953"
             ],
             [
              0.7777777777777778,
              "#fb9f3a"
             ],
             [
              0.8888888888888888,
              "#fdca26"
             ],
             [
              1,
              "#f0f921"
             ]
            ],
            "type": "surface"
           }
          ],
          "table": [
           {
            "cells": {
             "fill": {
              "color": "#EBF0F8"
             },
             "line": {
              "color": "white"
             }
            },
            "header": {
             "fill": {
              "color": "#C8D4E3"
             },
             "line": {
              "color": "white"
             }
            },
            "type": "table"
           }
          ]
         },
         "layout": {
          "annotationdefaults": {
           "arrowcolor": "#2a3f5f",
           "arrowhead": 0,
           "arrowwidth": 1
          },
          "autotypenumbers": "strict",
          "coloraxis": {
           "colorbar": {
            "outlinewidth": 0,
            "ticks": ""
           }
          },
          "colorscale": {
           "diverging": [
            [
             0,
             "#8e0152"
            ],
            [
             0.1,
             "#c51b7d"
            ],
            [
             0.2,
             "#de77ae"
            ],
            [
             0.3,
             "#f1b6da"
            ],
            [
             0.4,
             "#fde0ef"
            ],
            [
             0.5,
             "#f7f7f7"
            ],
            [
             0.6,
             "#e6f5d0"
            ],
            [
             0.7,
             "#b8e186"
            ],
            [
             0.8,
             "#7fbc41"
            ],
            [
             0.9,
             "#4d9221"
            ],
            [
             1,
             "#276419"
            ]
           ],
           "sequential": [
            [
             0,
             "#0d0887"
            ],
            [
             0.1111111111111111,
             "#46039f"
            ],
            [
             0.2222222222222222,
             "#7201a8"
            ],
            [
             0.3333333333333333,
             "#9c179e"
            ],
            [
             0.4444444444444444,
             "#bd3786"
            ],
            [
             0.5555555555555556,
             "#d8576b"
            ],
            [
             0.6666666666666666,
             "#ed7953"
            ],
            [
             0.7777777777777778,
             "#fb9f3a"
            ],
            [
             0.8888888888888888,
             "#fdca26"
            ],
            [
             1,
             "#f0f921"
            ]
           ],
           "sequentialminus": [
            [
             0,
             "#0d0887"
            ],
            [
             0.1111111111111111,
             "#46039f"
            ],
            [
             0.2222222222222222,
             "#7201a8"
            ],
            [
             0.3333333333333333,
             "#9c179e"
            ],
            [
             0.4444444444444444,
             "#bd3786"
            ],
            [
             0.5555555555555556,
             "#d8576b"
            ],
            [
             0.6666666666666666,
             "#ed7953"
            ],
            [
             0.7777777777777778,
             "#fb9f3a"
            ],
            [
             0.8888888888888888,
             "#fdca26"
            ],
            [
             1,
             "#f0f921"
            ]
           ]
          },
          "colorway": [
           "#636efa",
           "#EF553B",
           "#00cc96",
           "#ab63fa",
           "#FFA15A",
           "#19d3f3",
           "#FF6692",
           "#B6E880",
           "#FF97FF",
           "#FECB52"
          ],
          "font": {
           "color": "#2a3f5f"
          },
          "geo": {
           "bgcolor": "white",
           "lakecolor": "white",
           "landcolor": "#E5ECF6",
           "showlakes": true,
           "showland": true,
           "subunitcolor": "white"
          },
          "hoverlabel": {
           "align": "left"
          },
          "hovermode": "closest",
          "mapbox": {
           "style": "light"
          },
          "paper_bgcolor": "white",
          "plot_bgcolor": "#E5ECF6",
          "polar": {
           "angularaxis": {
            "gridcolor": "white",
            "linecolor": "white",
            "ticks": ""
           },
           "bgcolor": "#E5ECF6",
           "radialaxis": {
            "gridcolor": "white",
            "linecolor": "white",
            "ticks": ""
           }
          },
          "scene": {
           "xaxis": {
            "backgroundcolor": "#E5ECF6",
            "gridcolor": "white",
            "gridwidth": 2,
            "linecolor": "white",
            "showbackground": true,
            "ticks": "",
            "zerolinecolor": "white"
           },
           "yaxis": {
            "backgroundcolor": "#E5ECF6",
            "gridcolor": "white",
            "gridwidth": 2,
            "linecolor": "white",
            "showbackground": true,
            "ticks": "",
            "zerolinecolor": "white"
           },
           "zaxis": {
            "backgroundcolor": "#E5ECF6",
            "gridcolor": "white",
            "gridwidth": 2,
            "linecolor": "white",
            "showbackground": true,
            "ticks": "",
            "zerolinecolor": "white"
           }
          },
          "shapedefaults": {
           "line": {
            "color": "#2a3f5f"
           }
          },
          "ternary": {
           "aaxis": {
            "gridcolor": "white",
            "linecolor": "white",
            "ticks": ""
           },
           "baxis": {
            "gridcolor": "white",
            "linecolor": "white",
            "ticks": ""
           },
           "bgcolor": "#E5ECF6",
           "caxis": {
            "gridcolor": "white",
            "linecolor": "white",
            "ticks": ""
           }
          },
          "title": {
           "x": 0.05
          },
          "xaxis": {
           "automargin": true,
           "gridcolor": "white",
           "linecolor": "white",
           "ticks": "",
           "title": {
            "standoff": 15
           },
           "zerolinecolor": "white",
           "zerolinewidth": 2
          },
          "yaxis": {
           "automargin": true,
           "gridcolor": "white",
           "linecolor": "white",
           "ticks": "",
           "title": {
            "standoff": 15
           },
           "zerolinecolor": "white",
           "zerolinewidth": 2
          }
         }
        },
        "title": {
         "text": "Comparison of Match Results in England and rest of Europe",
         "x": 0.5
        }
       }
      }
     },
     "metadata": {},
     "output_type": "display_data"
    }
   ],
   "source": [
    "import plotly.express as px\n",
    "from plotly.subplots import make_subplots\n",
    "import plotly.graph_objects as go\n",
    "\n",
    "# Count the number of occurrences of each result for 'prem'\n",
    "prem_result_counts = prem['Result'].value_counts()\n",
    "prem_labels = ['Home Win', 'Draw', 'Away Win']\n",
    "prem_values = [prem_result_counts[1], prem_result_counts[0], prem_result_counts[-1]]\n",
    "\n",
    "# Count the number of occurrences of each result for 'all_matches'\n",
    "european_matches_result_counts = european_matches['Result'].value_counts()\n",
    "european_matches_labels = ['Home Win', 'Draw', 'Away Win']\n",
    "european_matches_values = [european_matches_result_counts[1], european_matches_result_counts[0], european_matches_result_counts[-1]]\n",
    "\n",
    "# Create a subplot figure with two pie charts\n",
    "fig = make_subplots(\n",
    "    rows=1, cols=2, \n",
    "    specs=[[{'type': 'domain'}, {'type': 'domain'}]],\n",
    "    subplot_titles=[\n",
    "    'Premier League Results, 3040 games, 08/09 - 15/16',\n",
    "    'Europe (non-PL) Results, 22939 games, 08/09 - 15/16'\n",
    "])\n",
    "\n",
    "# Add the first pie chart (for 'prem')\n",
    "fig.add_trace(\n",
    "    go.Pie(\n",
    "        labels=prem_labels,\n",
    "        values=prem_values,\n",
    "        hole=0.33,\n",
    "        textinfo='label+percent',\n",
    "        textposition='outside',\n",
    "        showlegend=False\n",
    "    ),\n",
    "    row=1, col=1\n",
    ")\n",
    "\n",
    "# Add the second pie chart (for 'all_matches')\n",
    "fig.add_trace(\n",
    "    go.Pie(\n",
    "        labels=european_matches_labels,\n",
    "        values=european_matches_values,\n",
    "        hole=0.33,\n",
    "        textinfo='label+percent',\n",
    "        textposition='outside',\n",
    "        showlegend=False\n",
    "    ),\n",
    "    row=1, col=2\n",
    ")\n",
    "\n",
    "# Update the layout of the figure\n",
    "fig.update_layout(title_text='Comparison of Match Results in England and rest of Europe', title_x=0.5)\n",
    "\n",
    "# Show the figure\n",
    "fig.show()\n"
   ]
  },
  {
   "cell_type": "markdown",
   "metadata": {},
   "source": [
    "So we can see that Home Win is the most common result by far, almost twice as common as a draw and also far more likely than an Away Win.\n",
    "\n",
    "These results in England and Europe are remarkably similar across tens of thousands of games in ten years. \n",
    "\n",
    "These are strong base rates. I will add these ad columns in the Prem dataframe for the model to see."
   ]
  },
  {
   "cell_type": "code",
   "execution_count": 668,
   "metadata": {},
   "outputs": [],
   "source": [
    "# add three columns - P(Home), P(Draw), P(Away) - the probability of each result\n",
    "prem.insert(11, 'p(Home)', 0.457)\n",
    "prem.insert(12, 'p(Draw)', 0.258)\n",
    "prem.insert(13, 'p(Away)', 0.285)"
   ]
  },
  {
   "cell_type": "markdown",
   "metadata": {},
   "source": [
    "Now we can compare the Margins - how are these distributed? What are specifically the most common results?"
   ]
  },
  {
   "cell_type": "code",
   "execution_count": 669,
   "metadata": {},
   "outputs": [
    {
     "data": {
      "image/png": "[encoded data removed]",
      "text/plain": [
       "<Figure size 1000x600 with 1 Axes>"
      ]
     },
     "metadata": {},
     "output_type": "display_data"
    },
    {
     "data": {
      "image/png": "[encoded data removed]",
      "text/plain": [
       "<Figure size 1000x600 with 1 Axes>"
      ]
     },
     "metadata": {},
     "output_type": "display_data"
    }
   ],
   "source": [
    "# First figure for the 'prem' dataframe\n",
    "plt.figure(figsize=(10, 6))\n",
    "prem['Margin'].value_counts().sort_index().plot(kind='bar', color='skyblue')\n",
    "plt.xlabel('Margin of Victory')\n",
    "plt.ylabel('Number of Games')\n",
    "plt.title('Results for Premier League Games (08/09 - 15/16)')\n",
    "plt.xticks(rotation=0)\n",
    "plt.show()\n",
    "\n",
    "# Second figure for the 'all_matches' dataframe\n",
    "plt.figure(figsize=(10, 6))\n",
    "european_matches['Margin'].value_counts().sort_index().plot(kind='bar', color='lightcoral')\n",
    "plt.xlabel('Margin of Victory')\n",
    "plt.ylabel('Number of Games')\n",
    "plt.title('Results Across European Leagues (08/09 - 15/16)')\n",
    "plt.xticks(rotation=0)\n",
    "plt.show()\n"
   ]
  },
  {
   "cell_type": "markdown",
   "metadata": {},
   "source": [
    "Again, the results are remarkably similar! Bear in mind that 0 here represents *all draws*, not a 0-0 draw which is how all games begin, so the tendency of a home win by 1 goal is still quite close in frequency."
   ]
  },
  {
   "cell_type": "markdown",
   "metadata": {},
   "source": [
    "We will want to tease out 0-0 draws from 1-1 draws if we want to predict the Margin later on, but that is a Stretch goal.\n",
    "\n",
    "For now, the previous few cells show that a Home Win is nearly twice as frequent as any other result with remarkable consistency across different European football leagues.\n",
    "\n",
    "**Base Rates**\n",
    "- Home Win: ~46%\n",
    "- Away Win: ~28.5%\n",
    "- Draw: ~ 25.5%"
   ]
  },
  {
   "cell_type": "markdown",
   "metadata": {},
   "source": [
    "### Frequency of individual results (e.g. 1-0, 2-2, 0-2)"
   ]
  },
  {
   "cell_type": "code",
   "execution_count": 670,
   "metadata": {},
   "outputs": [
    {
     "data": {
      "text/html": [
       "<div>\n",
       "<style scoped>\n",
       "    .dataframe tbody tr th:only-of-type {\n",
       "        vertical-align: middle;\n",
       "    }\n",
       "\n",
       "    .dataframe tbody tr th {\n",
       "        vertical-align: top;\n",
       "    }\n",
       "\n",
       "    .dataframe thead th {\n",
       "        text-align: right;\n",
       "    }\n",
       "</style>\n",
       "<table border=\"1\" class=\"dataframe\">\n",
       "  <thead>\n",
       "    <tr style=\"text-align: right;\">\n",
       "      <th></th>\n",
       "      <th>Home GS</th>\n",
       "      <th>Away GS</th>\n",
       "      <th>Count</th>\n",
       "    </tr>\n",
       "  </thead>\n",
       "  <tbody>\n",
       "    <tr>\n",
       "      <th>0</th>\n",
       "      <td>0</td>\n",
       "      <td>0</td>\n",
       "      <td>251</td>\n",
       "    </tr>\n",
       "    <tr>\n",
       "      <th>1</th>\n",
       "      <td>0</td>\n",
       "      <td>1</td>\n",
       "      <td>213</td>\n",
       "    </tr>\n",
       "    <tr>\n",
       "      <th>2</th>\n",
       "      <td>0</td>\n",
       "      <td>2</td>\n",
       "      <td>120</td>\n",
       "    </tr>\n",
       "    <tr>\n",
       "      <th>3</th>\n",
       "      <td>0</td>\n",
       "      <td>3</td>\n",
       "      <td>72</td>\n",
       "    </tr>\n",
       "    <tr>\n",
       "      <th>4</th>\n",
       "      <td>0</td>\n",
       "      <td>4</td>\n",
       "      <td>23</td>\n",
       "    </tr>\n",
       "    <tr>\n",
       "      <th>5</th>\n",
       "      <td>0</td>\n",
       "      <td>5</td>\n",
       "      <td>11</td>\n",
       "    </tr>\n",
       "    <tr>\n",
       "      <th>6</th>\n",
       "      <td>0</td>\n",
       "      <td>6</td>\n",
       "      <td>3</td>\n",
       "    </tr>\n",
       "    <tr>\n",
       "      <th>7</th>\n",
       "      <td>1</td>\n",
       "      <td>0</td>\n",
       "      <td>308</td>\n",
       "    </tr>\n",
       "    <tr>\n",
       "      <th>8</th>\n",
       "      <td>1</td>\n",
       "      <td>1</td>\n",
       "      <td>317</td>\n",
       "    </tr>\n",
       "    <tr>\n",
       "      <th>9</th>\n",
       "      <td>1</td>\n",
       "      <td>2</td>\n",
       "      <td>205</td>\n",
       "    </tr>\n",
       "  </tbody>\n",
       "</table>\n",
       "</div>"
      ],
      "text/plain": [
       "   Home GS  Away GS  Count\n",
       "0        0        0    251\n",
       "1        0        1    213\n",
       "2        0        2    120\n",
       "3        0        3     72\n",
       "4        0        4     23\n",
       "5        0        5     11\n",
       "6        0        6      3\n",
       "7        1        0    308\n",
       "8        1        1    317\n",
       "9        1        2    205"
      ]
     },
     "execution_count": 670,
     "metadata": {},
     "output_type": "execute_result"
    }
   ],
   "source": [
    "# count every unique combination of home goals vs away goals\n",
    "prem_goals = prem.groupby(['Home GS', 'Away GS']).size().reset_index(name='Count')\n",
    "european_matches_goals = european_matches.groupby(['Home GS', 'Away GS']).size().reset_index(name='Count')\n",
    "prem_goals.head(10)"
   ]
  },
  {
   "cell_type": "code",
   "execution_count": 671,
   "metadata": {},
   "outputs": [],
   "source": [
    "# create \"Final Score\" column to show the result of the match\n",
    "prem_goals['Final Score'] = prem_goals['Home GS'].astype(str) + ' - ' + prem_goals['Away GS'].astype(str)\n",
    "european_matches_goals['Final Score'] = european_matches_goals['Home GS'].astype(str) + ' - ' + european_matches_goals['Away GS'].astype(str)\n"
   ]
  },
  {
   "cell_type": "code",
   "execution_count": 672,
   "metadata": {},
   "outputs": [
    {
     "data": {
      "text/html": [
       "<div>\n",
       "<style scoped>\n",
       "    .dataframe tbody tr th:only-of-type {\n",
       "        vertical-align: middle;\n",
       "    }\n",
       "\n",
       "    .dataframe tbody tr th {\n",
       "        vertical-align: top;\n",
       "    }\n",
       "\n",
       "    .dataframe thead th {\n",
       "        text-align: right;\n",
       "    }\n",
       "</style>\n",
       "<table border=\"1\" class=\"dataframe\">\n",
       "  <thead>\n",
       "    <tr style=\"text-align: right;\">\n",
       "      <th></th>\n",
       "      <th>Home GS</th>\n",
       "      <th>Away GS</th>\n",
       "      <th>Final Score</th>\n",
       "      <th>Count</th>\n",
       "    </tr>\n",
       "  </thead>\n",
       "  <tbody>\n",
       "    <tr>\n",
       "      <th>14</th>\n",
       "      <td>2</td>\n",
       "      <td>0</td>\n",
       "      <td>2 - 0</td>\n",
       "      <td>246</td>\n",
       "    </tr>\n",
       "    <tr>\n",
       "      <th>24</th>\n",
       "      <td>3</td>\n",
       "      <td>4</td>\n",
       "      <td>3 - 4</td>\n",
       "      <td>6</td>\n",
       "    </tr>\n",
       "    <tr>\n",
       "      <th>33</th>\n",
       "      <td>5</td>\n",
       "      <td>0</td>\n",
       "      <td>5 - 0</td>\n",
       "      <td>22</td>\n",
       "    </tr>\n",
       "    <tr>\n",
       "      <th>34</th>\n",
       "      <td>5</td>\n",
       "      <td>1</td>\n",
       "      <td>5 - 1</td>\n",
       "      <td>17</td>\n",
       "    </tr>\n",
       "    <tr>\n",
       "      <th>39</th>\n",
       "      <td>6</td>\n",
       "      <td>1</td>\n",
       "      <td>6 - 1</td>\n",
       "      <td>7</td>\n",
       "    </tr>\n",
       "  </tbody>\n",
       "</table>\n",
       "</div>"
      ],
      "text/plain": [
       "    Home GS  Away GS Final Score  Count\n",
       "14        2        0       2 - 0    246\n",
       "24        3        4       3 - 4      6\n",
       "33        5        0       5 - 0     22\n",
       "34        5        1       5 - 1     17\n",
       "39        6        1       6 - 1      7"
      ]
     },
     "execution_count": 672,
     "metadata": {},
     "output_type": "execute_result"
    }
   ],
   "source": [
    "prem_goals[['Home GS', 'Away GS', 'Final Score', 'Count']].sample(5)"
   ]
  },
  {
   "cell_type": "code",
   "execution_count": 673,
   "metadata": {},
   "outputs": [
    {
     "data": {
      "image/png": "[encoded data removed]",
      "text/plain": [
       "<Figure size 2000x800 with 4 Axes>"
      ]
     },
     "metadata": {},
     "output_type": "display_data"
    }
   ],
   "source": [
    "import numpy as np\n",
    "\n",
    "# Define the range for Home GS and Away GS\n",
    "goal_range = np.arange(0, 7)  # From 0 to 6 inclusive\n",
    "\n",
    "# Filter the Premier League matrix to include only 0-6 goals\n",
    "fixture_matrix = (\n",
    "    prem_goals.pivot_table(\n",
    "        index='Home GS',\n",
    "        columns='Away GS',\n",
    "        values='Count',\n",
    "        aggfunc='sum',\n",
    "        fill_value=0\n",
    "    )\n",
    "    .reindex(index=goal_range, columns=goal_range, fill_value=0)\n",
    ")\n",
    "\n",
    "# Filter the European Matches matrix to include only 0-6 goals\n",
    "european_fixture_matrix = (\n",
    "    european_matches_goals.pivot_table(\n",
    "        index='Home GS',\n",
    "        columns='Away GS',\n",
    "        values='Count',\n",
    "        aggfunc='sum',\n",
    "        fill_value=0\n",
    "    )\n",
    "    .reindex(index=goal_range, columns=goal_range, fill_value=0)\n",
    ")\n",
    "\n",
    "# Reverse the order of rows and columns for both matrices to align (0, 0) in the bottom-left corner\n",
    "fixture_matrix = fixture_matrix.iloc[::-1]\n",
    "european_fixture_matrix = european_fixture_matrix.iloc[::-1]\n",
    "\n",
    "# Create side-by-side heatmaps\n",
    "fig, axes = plt.subplots(1, 2, figsize=(20, 8), sharey=True)\n",
    "\n",
    "# Heatmap for Premier League\n",
    "sns.heatmap(\n",
    "    fixture_matrix,\n",
    "    annot=True,\n",
    "    fmt='d',\n",
    "    cmap='YlGnBu',\n",
    "    cbar=True,\n",
    "    ax=axes[0]\n",
    ")\n",
    "axes[0].set_title('Premier League Goals Heatmap (0-6 Goals) Seasons 08/09 - 15/16')\n",
    "axes[0].set_xlabel('Away Goals')\n",
    "axes[0].set_ylabel('Home Goals')\n",
    "\n",
    "# Heatmap for European Matches\n",
    "sns.heatmap(\n",
    "    european_fixture_matrix,\n",
    "    annot=True,\n",
    "    fmt='d',\n",
    "    cmap='YlGnBu',\n",
    "    cbar=True,\n",
    "    ax=axes[1]\n",
    ")\n",
    "axes[1].set_title('European Matches Goals Heatmap (0-6 Goals) Seasons 08/09 - 15/16')\n",
    "axes[1].set_xlabel('Away Goals')\n",
    "axes[1].set_ylabel('')  # No y-label on the second plot to avoid redundancy\n",
    "\n",
    "# Adjust layout\n",
    "plt.tight_layout()\n",
    "plt.show()\n"
   ]
  },
  {
   "cell_type": "markdown",
   "metadata": {},
   "source": [
    "so 1-1 is the most likely individual score followed by 1-0 (very closely in both!) and from eyeballing this, the % of results are also eerily close for both. 1-0 is a couple of percentage points behind 1-1 in both."
   ]
  },
  {
   "cell_type": "code",
   "execution_count": 674,
   "metadata": {},
   "outputs": [
    {
     "data": {
      "image/png": "[encoded data removed]",
      "text/plain": [
       "<Figure size 1400x1200 with 2 Axes>"
      ]
     },
     "metadata": {},
     "output_type": "display_data"
    }
   ],
   "source": [
    "# Filter and sort the Premier League data - trim out the very rare scores\n",
    "prem_filtered = prem_goals[prem_goals['Count'] >= 5].sort_values(by='Count', ascending=False)\n",
    "\n",
    "# Filter and sort the European Matches data - trim out the very rare scores\n",
    "european_filtered = european_matches_goals[european_matches_goals['Count'] >= 10].sort_values(by='Count', ascending=False)\n",
    "\n",
    "# Create subplots for the filtered bar charts\n",
    "fig, axes = plt.subplots(2, 1, figsize=(14, 12), sharex=False)\n",
    "\n",
    "# Bar chart for Premier League\n",
    "axes[0].bar(prem_filtered['Final Score'], prem_filtered['Count'], color='blue')\n",
    "axes[0].set_title('Filtered Final Scores in Premier League (≥ 5 Occurrences)')\n",
    "axes[0].set_ylabel('Count')\n",
    "axes[0].tick_params(axis='x', rotation=90)\n",
    "\n",
    "# Bar chart for European Matches\n",
    "axes[1].bar(european_filtered['Final Score'], european_filtered['Count'], color='red')\n",
    "axes[1].set_title('Filtered Final Scores in European Matches (≥ 10 Occurrences)')\n",
    "axes[1].set_ylabel('Count')\n",
    "axes[1].tick_params(axis='x', rotation=90)\n",
    "\n",
    "# Adjust layout and show the plot\n",
    "plt.tight_layout()\n",
    "plt.show()\n"
   ]
  },
  {
   "cell_type": "markdown",
   "metadata": {},
   "source": [
    "Some differences starting to emerge now - but 1-1, 1-0 and 2-1 still in order the most common results! 0-0 and 2-0 are reversed in Europe and the Prem, but then 0-1, 1-2 and 2-2 are the next most frequent scores in both datasets.\n",
    "\n",
    "Let's get a % pie chart for the results"
   ]
  },
  {
   "cell_type": "code",
   "execution_count": 675,
   "metadata": {},
   "outputs": [
    {
     "data": {
      "application/vnd.plotly.v1+json": {
       "config": {
        "plotlyServerURL": "https://plot.ly"
       },
       "data": [
        {
         "domain": {
          "x": [
           0,
           1
          ],
          "y": [
           0,
           1
          ]
         },
         "hole": 0.3,
         "hovertemplate": "Final Score=%{label}<br>Count=%{value}<extra></extra>",
         "labels": [
          "0 - 0",
          "0 - 1",
          "0 - 2",
          "0 - 3",
          "1 - 0",
          "1 - 1",
          "1 - 2",
          "1 - 3",
          "2 - 0",
          "2 - 1",
          "2 - 2",
          "2 - 3",
          "3 - 0",
          "3 - 1",
          "3 - 2",
          "Other < 2%"
         ],
         "legendgroup": "",
         "name": "",
         "showlegend": true,
         "textinfo": "label+percent",
         "textposition": "outside",
         "type": "pie",
         "values": [
          251,
          213,
          120,
          72,
          308,
          317,
          205,
          90,
          246,
          269,
          175,
          65,
          143,
          135,
          68,
          363
         ]
        }
       ],
       "layout": {
        "legend": {
         "tracegroupgap": 0
        },
        "template": {
         "data": {
          "bar": [
           {
            "error_x": {
             "color": "#2a3f5f"
            },
            "error_y": {
             "color": "#2a3f5f"
            },
            "marker": {
             "line": {
              "color": "#E5ECF6",
              "width": 0.5
             },
             "pattern": {
              "fillmode": "overlay",
              "size": 10,
              "solidity": 0.2
             }
            },
            "type": "bar"
           }
          ],
          "barpolar": [
           {
            "marker": {
             "line": {
              "color": "#E5ECF6",
              "width": 0.5
             },
             "pattern": {
              "fillmode": "overlay",
              "size": 10,
              "solidity": 0.2
             }
            },
            "type": "barpolar"
           }
          ],
          "carpet": [
           {
            "aaxis": {
             "endlinecolor": "#2a3f5f",
             "gridcolor": "white",
             "linecolor": "white",
             "minorgridcolor": "white",
             "startlinecolor": "#2a3f5f"
            },
            "baxis": {
             "endlinecolor": "#2a3f5f",
             "gridcolor": "white",
             "linecolor": "white",
             "minorgridcolor": "white",
             "startlinecolor": "#2a3f5f"
            },
            "type": "carpet"
           }
          ],
          "choropleth": [
           {
            "colorbar": {
             "outlinewidth": 0,
             "ticks": ""
            },
            "type": "choropleth"
           }
          ],
          "contour": [
           {
            "colorbar": {
             "outlinewidth": 0,
             "ticks": ""
            },
            "colorscale": [
             [
              0,
              "#0d0887"
             ],
             [
              0.1111111111111111,
              "#46039f"
             ],
             [
              0.2222222222222222,
              "#7201a8"
             ],
             [
              0.3333333333333333,
              "#9c179e"
             ],
             [
              0.4444444444444444,
              "#bd3786"
             ],
             [
              0.5555555555555556,
              "#d8576b"
             ],
             [
              0.6666666666666666,
              "#ed7953"
             ],
             [
              0.7777777777777778,
              "#fb9f3a"
             ],
             [
              0.8888888888888888,
              "#fdca26"
             ],
             [
              1,
              "#f0f921"
             ]
            ],
            "type": "contour"
           }
          ],
          "contourcarpet": [
           {
            "colorbar": {
             "outlinewidth": 0,
             "ticks": ""
            },
            "type": "contourcarpet"
           }
          ],
          "heatmap": [
           {
            "colorbar": {
             "outlinewidth": 0,
             "ticks": ""
            },
            "colorscale": [
             [
              0,
              "#0d0887"
             ],
             [
              0.1111111111111111,
              "#46039f"
             ],
             [
              0.2222222222222222,
              "#7201a8"
             ],
             [
              0.3333333333333333,
              "#9c179e"
             ],
             [
              0.4444444444444444,
              "#bd3786"
             ],
             [
              0.5555555555555556,
              "#d8576b"
             ],
             [
              0.6666666666666666,
              "#ed7953"
             ],
             [
              0.7777777777777778,
              "#fb9f3a"
             ],
             [
              0.8888888888888888,
              "#fdca26"
             ],
             [
              1,
              "#f0f921"
             ]
            ],
            "type": "heatmap"
           }
          ],
          "heatmapgl": [
           {
            "colorbar": {
             "outlinewidth": 0,
             "ticks": ""
            },
            "colorscale": [
             [
              0,
              "#0d0887"
             ],
             [
              0.1111111111111111,
              "#46039f"
             ],
             [
              0.2222222222222222,
              "#7201a8"
             ],
             [
              0.3333333333333333,
              "#9c179e"
             ],
             [
              0.4444444444444444,
              "#bd3786"
             ],
             [
              0.5555555555555556,
              "#d8576b"
             ],
             [
              0.6666666666666666,
              "#ed7953"
             ],
             [
              0.7777777777777778,
              "#fb9f3a"
             ],
             [
              0.8888888888888888,
              "#fdca26"
             ],
             [
              1,
              "#f0f921"
             ]
            ],
            "type": "heatmapgl"
           }
          ],
          "histogram": [
           {
            "marker": {
             "pattern": {
              "fillmode": "overlay",
              "size": 10,
              "solidity": 0.2
             }
            },
            "type": "histogram"
           }
          ],
          "histogram2d": [
           {
            "colorbar": {
             "outlinewidth": 0,
             "ticks": ""
            },
            "colorscale": [
             [
              0,
              "#0d0887"
             ],
             [
              0.1111111111111111,
              "#46039f"
             ],
             [
              0.2222222222222222,
              "#7201a8"
             ],
             [
              0.3333333333333333,
              "#9c179e"
             ],
             [
              0.4444444444444444,
              "#bd3786"
             ],
             [
              0.5555555555555556,
              "#d8576b"
             ],
             [
              0.6666666666666666,
              "#ed7953"
             ],
             [
              0.7777777777777778,
              "#fb9f3a"
             ],
             [
              0.8888888888888888,
              "#fdca26"
             ],
             [
              1,
              "#f0f921"
             ]
            ],
            "type": "histogram2d"
           }
          ],
          "histogram2dcontour": [
           {
            "colorbar": {
             "outlinewidth": 0,
             "ticks": ""
            },
            "colorscale": [
             [
              0,
              "#0d0887"
             ],
             [
              0.1111111111111111,
              "#46039f"
             ],
             [
              0.2222222222222222,
              "#7201a8"
             ],
             [
              0.3333333333333333,
              "#9c179e"
             ],
             [
              0.4444444444444444,
              "#bd3786"
             ],
             [
              0.5555555555555556,
              "#d8576b"
             ],
             [
              0.6666666666666666,
              "#ed7953"
             ],
             [
              0.7777777777777778,
              "#fb9f3a"
             ],
             [
              0.8888888888888888,
              "#fdca26"
             ],
             [
              1,
              "#f0f921"
             ]
            ],
            "type": "histogram2dcontour"
           }
          ],
          "mesh3d": [
           {
            "colorbar": {
             "outlinewidth": 0,
             "ticks": ""
            },
            "type": "mesh3d"
           }
          ],
          "parcoords": [
           {
            "line": {
             "colorbar": {
              "outlinewidth": 0,
              "ticks": ""
             }
            },
            "type": "parcoords"
           }
          ],
          "pie": [
           {
            "automargin": true,
            "type": "pie"
           }
          ],
          "scatter": [
           {
            "fillpattern": {
             "fillmode": "overlay",
             "size": 10,
             "solidity": 0.2
            },
            "type": "scatter"
           }
          ],
          "scatter3d": [
           {
            "line": {
             "colorbar": {
              "outlinewidth": 0,
              "ticks": ""
             }
            },
            "marker": {
             "colorbar": {
              "outlinewidth": 0,
              "ticks": ""
             }
            },
            "type": "scatter3d"
           }
          ],
          "scattercarpet": [
           {
            "marker": {
             "colorbar": {
              "outlinewidth": 0,
              "ticks": ""
             }
            },
            "type": "scattercarpet"
           }
          ],
          "scattergeo": [
           {
            "marker": {
             "colorbar": {
              "outlinewidth": 0,
              "ticks": ""
             }
            },
            "type": "scattergeo"
           }
          ],
          "scattergl": [
           {
            "marker": {
             "colorbar": {
              "outlinewidth": 0,
              "ticks": ""
             }
            },
            "type": "scattergl"
           }
          ],
          "scattermapbox": [
           {
            "marker": {
             "colorbar": {
              "outlinewidth": 0,
              "ticks": ""
             }
            },
            "type": "scattermapbox"
           }
          ],
          "scatterpolar": [
           {
            "marker": {
             "colorbar": {
              "outlinewidth": 0,
              "ticks": ""
             }
            },
            "type": "scatterpolar"
           }
          ],
          "scatterpolargl": [
           {
            "marker": {
             "colorbar": {
              "outlinewidth": 0,
              "ticks": ""
             }
            },
            "type": "scatterpolargl"
           }
          ],
          "scatterternary": [
           {
            "marker": {
             "colorbar": {
              "outlinewidth": 0,
              "ticks": ""
             }
            },
            "type": "scatterternary"
           }
          ],
          "surface": [
           {
            "colorbar": {
             "outlinewidth": 0,
             "ticks": ""
            },
            "colorscale": [
             [
              0,
              "#0d0887"
             ],
             [
              0.1111111111111111,
              "#46039f"
             ],
             [
              0.2222222222222222,
              "#7201a8"
             ],
             [
              0.3333333333333333,
              "#9c179e"
             ],
             [
              0.4444444444444444,
              "#bd3786"
             ],
             [
              0.5555555555555556,
              "#d8576b"
             ],
             [
              0.6666666666666666,
              "#ed7953"
             ],
             [
              0.7777777777777778,
              "#fb9f3a"
             ],
             [
              0.8888888888888888,
              "#fdca26"
             ],
             [
              1,
              "#f0f921"
             ]
            ],
            "type": "surface"
           }
          ],
          "table": [
           {
            "cells": {
             "fill": {
              "color": "#EBF0F8"
             },
             "line": {
              "color": "white"
             }
            },
            "header": {
             "fill": {
              "color": "#C8D4E3"
             },
             "line": {
              "color": "white"
             }
            },
            "type": "table"
           }
          ]
         },
         "layout": {
          "annotationdefaults": {
           "arrowcolor": "#2a3f5f",
           "arrowhead": 0,
           "arrowwidth": 1
          },
          "autotypenumbers": "strict",
          "coloraxis": {
           "colorbar": {
            "outlinewidth": 0,
            "ticks": ""
           }
          },
          "colorscale": {
           "diverging": [
            [
             0,
             "#8e0152"
            ],
            [
             0.1,
             "#c51b7d"
            ],
            [
             0.2,
             "#de77ae"
            ],
            [
             0.3,
             "#f1b6da"
            ],
            [
             0.4,
             "#fde0ef"
            ],
            [
             0.5,
             "#f7f7f7"
            ],
            [
             0.6,
             "#e6f5d0"
            ],
            [
             0.7,
             "#b8e186"
            ],
            [
             0.8,
             "#7fbc41"
            ],
            [
             0.9,
             "#4d9221"
            ],
            [
             1,
             "#276419"
            ]
           ],
           "sequential": [
            [
             0,
             "#0d0887"
            ],
            [
             0.1111111111111111,
             "#46039f"
            ],
            [
             0.2222222222222222,
             "#7201a8"
            ],
            [
             0.3333333333333333,
             "#9c179e"
            ],
            [
             0.4444444444444444,
             "#bd3786"
            ],
            [
             0.5555555555555556,
             "#d8576b"
            ],
            [
             0.6666666666666666,
             "#ed7953"
            ],
            [
             0.7777777777777778,
             "#fb9f3a"
            ],
            [
             0.8888888888888888,
             "#fdca26"
            ],
            [
             1,
             "#f0f921"
            ]
           ],
           "sequentialminus": [
            [
             0,
             "#0d0887"
            ],
            [
             0.1111111111111111,
             "#46039f"
            ],
            [
             0.2222222222222222,
             "#7201a8"
            ],
            [
             0.3333333333333333,
             "#9c179e"
            ],
            [
             0.4444444444444444,
             "#bd3786"
            ],
            [
             0.5555555555555556,
             "#d8576b"
            ],
            [
             0.6666666666666666,
             "#ed7953"
            ],
            [
             0.7777777777777778,
             "#fb9f3a"
            ],
            [
             0.8888888888888888,
             "#fdca26"
            ],
            [
             1,
             "#f0f921"
            ]
           ]
          },
          "colorway": [
           "#636efa",
           "#EF553B",
           "#00cc96",
           "#ab63fa",
           "#FFA15A",
           "#19d3f3",
           "#FF6692",
           "#B6E880",
           "#FF97FF",
           "#FECB52"
          ],
          "font": {
           "color": "#2a3f5f"
          },
          "geo": {
           "bgcolor": "white",
           "lakecolor": "white",
           "landcolor": "#E5ECF6",
           "showlakes": true,
           "showland": true,
           "subunitcolor": "white"
          },
          "hoverlabel": {
           "align": "left"
          },
          "hovermode": "closest",
          "mapbox": {
           "style": "light"
          },
          "paper_bgcolor": "white",
          "plot_bgcolor": "#E5ECF6",
          "polar": {
           "angularaxis": {
            "gridcolor": "white",
            "linecolor": "white",
            "ticks": ""
           },
           "bgcolor": "#E5ECF6",
           "radialaxis": {
            "gridcolor": "white",
            "linecolor": "white",
            "ticks": ""
           }
          },
          "scene": {
           "xaxis": {
            "backgroundcolor": "#E5ECF6",
            "gridcolor": "white",
            "gridwidth": 2,
            "linecolor": "white",
            "showbackground": true,
            "ticks": "",
            "zerolinecolor": "white"
           },
           "yaxis": {
            "backgroundcolor": "#E5ECF6",
            "gridcolor": "white",
            "gridwidth": 2,
            "linecolor": "white",
            "showbackground": true,
            "ticks": "",
            "zerolinecolor": "white"
           },
           "zaxis": {
            "backgroundcolor": "#E5ECF6",
            "gridcolor": "white",
            "gridwidth": 2,
            "linecolor": "white",
            "showbackground": true,
            "ticks": "",
            "zerolinecolor": "white"
           }
          },
          "shapedefaults": {
           "line": {
            "color": "#2a3f5f"
           }
          },
          "ternary": {
           "aaxis": {
            "gridcolor": "white",
            "linecolor": "white",
            "ticks": ""
           },
           "baxis": {
            "gridcolor": "white",
            "linecolor": "white",
            "ticks": ""
           },
           "bgcolor": "#E5ECF6",
           "caxis": {
            "gridcolor": "white",
            "linecolor": "white",
            "ticks": ""
           }
          },
          "title": {
           "x": 0.05
          },
          "xaxis": {
           "automargin": true,
           "gridcolor": "white",
           "linecolor": "white",
           "ticks": "",
           "title": {
            "standoff": 15
           },
           "zerolinecolor": "white",
           "zerolinewidth": 2
          },
          "yaxis": {
           "automargin": true,
           "gridcolor": "white",
           "linecolor": "white",
           "ticks": "",
           "title": {
            "standoff": 15
           },
           "zerolinecolor": "white",
           "zerolinewidth": 2
          }
         }
        },
        "title": {
         "text": "How often does the result occur in 3,000 Premier League matches? (08/09 - 15/16)"
        }
       }
      }
     },
     "metadata": {},
     "output_type": "display_data"
    },
    {
     "data": {
      "application/vnd.plotly.v1+json": {
       "config": {
        "plotlyServerURL": "https://plot.ly"
       },
       "data": [
        {
         "domain": {
          "x": [
           0,
           1
          ],
          "y": [
           0,
           1
          ]
         },
         "hole": 0.3,
         "hovertemplate": "Final Score=%{label}<br>Count=%{value}<extra></extra>",
         "labels": [
          "0 - 0",
          "0 - 1",
          "0 - 2",
          "0 - 3",
          "1 - 0",
          "1 - 1",
          "1 - 2",
          "1 - 3",
          "2 - 0",
          "2 - 1",
          "2 - 2",
          "3 - 0",
          "3 - 1",
          "3 - 2",
          "4 - 0",
          "Other < 2%"
         ],
         "legendgroup": "",
         "name": "",
         "showlegend": true,
         "textinfo": "label+percent",
         "textposition": "outside",
         "type": "pie",
         "values": [
          1727,
          1650,
          1085,
          462,
          2335,
          2697,
          1454,
          651,
          1886,
          1911,
          1135,
          984,
          1071,
          545,
          479,
          2867
         ]
        }
       ],
       "layout": {
        "legend": {
         "tracegroupgap": 0
        },
        "template": {
         "data": {
          "bar": [
           {
            "error_x": {
             "color": "#2a3f5f"
            },
            "error_y": {
             "color": "#2a3f5f"
            },
            "marker": {
             "line": {
              "color": "#E5ECF6",
              "width": 0.5
             },
             "pattern": {
              "fillmode": "overlay",
              "size": 10,
              "solidity": 0.2
             }
            },
            "type": "bar"
           }
          ],
          "barpolar": [
           {
            "marker": {
             "line": {
              "color": "#E5ECF6",
              "width": 0.5
             },
             "pattern": {
              "fillmode": "overlay",
              "size": 10,
              "solidity": 0.2
             }
            },
            "type": "barpolar"
           }
          ],
          "carpet": [
           {
            "aaxis": {
             "endlinecolor": "#2a3f5f",
             "gridcolor": "white",
             "linecolor": "white",
             "minorgridcolor": "white",
             "startlinecolor": "#2a3f5f"
            },
            "baxis": {
             "endlinecolor": "#2a3f5f",
             "gridcolor": "white",
             "linecolor": "white",
             "minorgridcolor": "white",
             "startlinecolor": "#2a3f5f"
            },
            "type": "carpet"
           }
          ],
          "choropleth": [
           {
            "colorbar": {
             "outlinewidth": 0,
             "ticks": ""
            },
            "type": "choropleth"
           }
          ],
          "contour": [
           {
            "colorbar": {
             "outlinewidth": 0,
             "ticks": ""
            },
            "colorscale": [
             [
              0,
              "#0d0887"
             ],
             [
              0.1111111111111111,
              "#46039f"
             ],
             [
              0.2222222222222222,
              "#7201a8"
             ],
             [
              0.3333333333333333,
              "#9c179e"
             ],
             [
              0.4444444444444444,
              "#bd3786"
             ],
             [
              0.5555555555555556,
              "#d8576b"
             ],
             [
              0.6666666666666666,
              "#ed7953"
             ],
             [
              0.7777777777777778,
              "#fb9f3a"
             ],
             [
              0.8888888888888888,
              "#fdca26"
             ],
             [
              1,
              "#f0f921"
             ]
            ],
            "type": "contour"
           }
          ],
          "contourcarpet": [
           {
            "colorbar": {
             "outlinewidth": 0,
             "ticks": ""
            },
            "type": "contourcarpet"
           }
          ],
          "heatmap": [
           {
            "colorbar": {
             "outlinewidth": 0,
             "ticks": ""
            },
            "colorscale": [
             [
              0,
              "#0d0887"
             ],
             [
              0.1111111111111111,
              "#46039f"
             ],
             [
              0.2222222222222222,
              "#7201a8"
             ],
             [
              0.3333333333333333,
              "#9c179e"
             ],
             [
              0.4444444444444444,
              "#bd3786"
             ],
             [
              0.5555555555555556,
              "#d8576b"
             ],
             [
              0.6666666666666666,
              "#ed7953"
             ],
             [
              0.7777777777777778,
              "#fb9f3a"
             ],
             [
              0.8888888888888888,
              "#fdca26"
             ],
             [
              1,
              "#f0f921"
             ]
            ],
            "type": "heatmap"
           }
          ],
          "heatmapgl": [
           {
            "colorbar": {
             "outlinewidth": 0,
             "ticks": ""
            },
            "colorscale": [
             [
              0,
              "#0d0887"
             ],
             [
              0.1111111111111111,
              "#46039f"
             ],
             [
              0.2222222222222222,
              "#7201a8"
             ],
             [
              0.3333333333333333,
              "#9c179e"
             ],
             [
              0.4444444444444444,
              "#bd3786"
             ],
             [
              0.5555555555555556,
              "#d8576b"
             ],
             [
              0.6666666666666666,
              "#ed7953"
             ],
             [
              0.7777777777777778,
              "#fb9f3a"
             ],
             [
              0.8888888888888888,
              "#fdca26"
             ],
             [
              1,
              "#f0f921"
             ]
            ],
            "type": "heatmapgl"
           }
          ],
          "histogram": [
           {
            "marker": {
             "pattern": {
              "fillmode": "overlay",
              "size": 10,
              "solidity": 0.2
             }
            },
            "type": "histogram"
           }
          ],
          "histogram2d": [
           {
            "colorbar": {
             "outlinewidth": 0,
             "ticks": ""
            },
            "colorscale": [
             [
              0,
              "#0d0887"
             ],
             [
              0.1111111111111111,
              "#46039f"
             ],
             [
              0.2222222222222222,
              "#7201a8"
             ],
             [
              0.3333333333333333,
              "#9c179e"
             ],
             [
              0.4444444444444444,
              "#bd3786"
             ],
             [
              0.5555555555555556,
              "#d8576b"
             ],
             [
              0.6666666666666666,
              "#ed7953"
             ],
             [
              0.7777777777777778,
              "#fb9f3a"
             ],
             [
              0.8888888888888888,
              "#fdca26"
             ],
             [
              1,
              "#f0f921"
             ]
            ],
            "type": "histogram2d"
           }
          ],
          "histogram2dcontour": [
           {
            "colorbar": {
             "outlinewidth": 0,
             "ticks": ""
            },
            "colorscale": [
             [
              0,
              "#0d0887"
             ],
             [
              0.1111111111111111,
              "#46039f"
             ],
             [
              0.2222222222222222,
              "#7201a8"
             ],
             [
              0.3333333333333333,
              "#9c179e"
             ],
             [
              0.4444444444444444,
              "#bd3786"
             ],
             [
              0.5555555555555556,
              "#d8576b"
             ],
             [
              0.6666666666666666,
              "#ed7953"
             ],
             [
              0.7777777777777778,
              "#fb9f3a"
             ],
             [
              0.8888888888888888,
              "#fdca26"
             ],
             [
              1,
              "#f0f921"
             ]
            ],
            "type": "histogram2dcontour"
           }
          ],
          "mesh3d": [
           {
            "colorbar": {
             "outlinewidth": 0,
             "ticks": ""
            },
            "type": "mesh3d"
           }
          ],
          "parcoords": [
           {
            "line": {
             "colorbar": {
              "outlinewidth": 0,
              "ticks": ""
             }
            },
            "type": "parcoords"
           }
          ],
          "pie": [
           {
            "automargin": true,
            "type": "pie"
           }
          ],
          "scatter": [
           {
            "fillpattern": {
             "fillmode": "overlay",
             "size": 10,
             "solidity": 0.2
            },
            "type": "scatter"
           }
          ],
          "scatter3d": [
           {
            "line": {
             "colorbar": {
              "outlinewidth": 0,
              "ticks": ""
             }
            },
            "marker": {
             "colorbar": {
              "outlinewidth": 0,
              "ticks": ""
             }
            },
            "type": "scatter3d"
           }
          ],
          "scattercarpet": [
           {
            "marker": {
             "colorbar": {
              "outlinewidth": 0,
              "ticks": ""
             }
            },
            "type": "scattercarpet"
           }
          ],
          "scattergeo": [
           {
            "marker": {
             "colorbar": {
              "outlinewidth": 0,
              "ticks": ""
             }
            },
            "type": "scattergeo"
           }
          ],
          "scattergl": [
           {
            "marker": {
             "colorbar": {
              "outlinewidth": 0,
              "ticks": ""
             }
            },
            "type": "scattergl"
           }
          ],
          "scattermapbox": [
           {
            "marker": {
             "colorbar": {
              "outlinewidth": 0,
              "ticks": ""
             }
            },
            "type": "scattermapbox"
           }
          ],
          "scatterpolar": [
           {
            "marker": {
             "colorbar": {
              "outlinewidth": 0,
              "ticks": ""
             }
            },
            "type": "scatterpolar"
           }
          ],
          "scatterpolargl": [
           {
            "marker": {
             "colorbar": {
              "outlinewidth": 0,
              "ticks": ""
             }
            },
            "type": "scatterpolargl"
           }
          ],
          "scatterternary": [
           {
            "marker": {
             "colorbar": {
              "outlinewidth": 0,
              "ticks": ""
             }
            },
            "type": "scatterternary"
           }
          ],
          "surface": [
           {
            "colorbar": {
             "outlinewidth": 0,
             "ticks": ""
            },
            "colorscale": [
             [
              0,
              "#0d0887"
             ],
             [
              0.1111111111111111,
              "#46039f"
             ],
             [
              0.2222222222222222,
              "#7201a8"
             ],
             [
              0.3333333333333333,
              "#9c179e"
             ],
             [
              0.4444444444444444,
              "#bd3786"
             ],
             [
              0.5555555555555556,
              "#d8576b"
             ],
             [
              0.6666666666666666,
              "#ed7953"
             ],
             [
              0.7777777777777778,
              "#fb9f3a"
             ],
             [
              0.8888888888888888,
              "#fdca26"
             ],
             [
              1,
              "#f0f921"
             ]
            ],
            "type": "surface"
           }
          ],
          "table": [
           {
            "cells": {
             "fill": {
              "color": "#EBF0F8"
             },
             "line": {
              "color": "white"
             }
            },
            "header": {
             "fill": {
              "color": "#C8D4E3"
             },
             "line": {
              "color": "white"
             }
            },
            "type": "table"
           }
          ]
         },
         "layout": {
          "annotationdefaults": {
           "arrowcolor": "#2a3f5f",
           "arrowhead": 0,
           "arrowwidth": 1
          },
          "autotypenumbers": "strict",
          "coloraxis": {
           "colorbar": {
            "outlinewidth": 0,
            "ticks": ""
           }
          },
          "colorscale": {
           "diverging": [
            [
             0,
             "#8e0152"
            ],
            [
             0.1,
             "#c51b7d"
            ],
            [
             0.2,
             "#de77ae"
            ],
            [
             0.3,
             "#f1b6da"
            ],
            [
             0.4,
             "#fde0ef"
            ],
            [
             0.5,
             "#f7f7f7"
            ],
            [
             0.6,
             "#e6f5d0"
            ],
            [
             0.7,
             "#b8e186"
            ],
            [
             0.8,
             "#7fbc41"
            ],
            [
             0.9,
             "#4d9221"
            ],
            [
             1,
             "#276419"
            ]
           ],
           "sequential": [
            [
             0,
             "#0d0887"
            ],
            [
             0.1111111111111111,
             "#46039f"
            ],
            [
             0.2222222222222222,
             "#7201a8"
            ],
            [
             0.3333333333333333,
             "#9c179e"
            ],
            [
             0.4444444444444444,
             "#bd3786"
            ],
            [
             0.5555555555555556,
             "#d8576b"
            ],
            [
             0.6666666666666666,
             "#ed7953"
            ],
            [
             0.7777777777777778,
             "#fb9f3a"
            ],
            [
             0.8888888888888888,
             "#fdca26"
            ],
            [
             1,
             "#f0f921"
            ]
           ],
           "sequentialminus": [
            [
             0,
             "#0d0887"
            ],
            [
             0.1111111111111111,
             "#46039f"
            ],
            [
             0.2222222222222222,
             "#7201a8"
            ],
            [
             0.3333333333333333,
             "#9c179e"
            ],
            [
             0.4444444444444444,
             "#bd3786"
            ],
            [
             0.5555555555555556,
             "#d8576b"
            ],
            [
             0.6666666666666666,
             "#ed7953"
            ],
            [
             0.7777777777777778,
             "#fb9f3a"
            ],
            [
             0.8888888888888888,
             "#fdca26"
            ],
            [
             1,
             "#f0f921"
            ]
           ]
          },
          "colorway": [
           "#636efa",
           "#EF553B",
           "#00cc96",
           "#ab63fa",
           "#FFA15A",
           "#19d3f3",
           "#FF6692",
           "#B6E880",
           "#FF97FF",
           "#FECB52"
          ],
          "font": {
           "color": "#2a3f5f"
          },
          "geo": {
           "bgcolor": "white",
           "lakecolor": "white",
           "landcolor": "#E5ECF6",
           "showlakes": true,
           "showland": true,
           "subunitcolor": "white"
          },
          "hoverlabel": {
           "align": "left"
          },
          "hovermode": "closest",
          "mapbox": {
           "style": "light"
          },
          "paper_bgcolor": "white",
          "plot_bgcolor": "#E5ECF6",
          "polar": {
           "angularaxis": {
            "gridcolor": "white",
            "linecolor": "white",
            "ticks": ""
           },
           "bgcolor": "#E5ECF6",
           "radialaxis": {
            "gridcolor": "white",
            "linecolor": "white",
            "ticks": ""
           }
          },
          "scene": {
           "xaxis": {
            "backgroundcolor": "#E5ECF6",
            "gridcolor": "white",
            "gridwidth": 2,
            "linecolor": "white",
            "showbackground": true,
            "ticks": "",
            "zerolinecolor": "white"
           },
           "yaxis": {
            "backgroundcolor": "#E5ECF6",
            "gridcolor": "white",
            "gridwidth": 2,
            "linecolor": "white",
            "showbackground": true,
            "ticks": "",
            "zerolinecolor": "white"
           },
           "zaxis": {
            "backgroundcolor": "#E5ECF6",
            "gridcolor": "white",
            "gridwidth": 2,
            "linecolor": "white",
            "showbackground": true,
            "ticks": "",
            "zerolinecolor": "white"
           }
          },
          "shapedefaults": {
           "line": {
            "color": "#2a3f5f"
           }
          },
          "ternary": {
           "aaxis": {
            "gridcolor": "white",
            "linecolor": "white",
            "ticks": ""
           },
           "baxis": {
            "gridcolor": "white",
            "linecolor": "white",
            "ticks": ""
           },
           "bgcolor": "#E5ECF6",
           "caxis": {
            "gridcolor": "white",
            "linecolor": "white",
            "ticks": ""
           }
          },
          "title": {
           "x": 0.05
          },
          "xaxis": {
           "automargin": true,
           "gridcolor": "white",
           "linecolor": "white",
           "ticks": "",
           "title": {
            "standoff": 15
           },
           "zerolinecolor": "white",
           "zerolinewidth": 2
          },
          "yaxis": {
           "automargin": true,
           "gridcolor": "white",
           "linecolor": "white",
           "ticks": "",
           "title": {
            "standoff": 15
           },
           "zerolinecolor": "white",
           "zerolinewidth": 2
          }
         }
        },
        "title": {
         "text": "How often does the result occur in 22,000 European league matches? (08/09 - 15/16)"
        }
       }
      }
     },
     "metadata": {},
     "output_type": "display_data"
    }
   ],
   "source": [
    "import plotly.express as px\n",
    "\n",
    "# Calculate total matches for each dataset\n",
    "prem_total = prem_goals['Count'].sum()\n",
    "european_total = european_matches_goals['Count'].sum()\n",
    "\n",
    "# Filter and group results for Premier League\n",
    "prem_goals['Percentage'] = prem_goals['Count'] / prem_total * 100\n",
    "prem_filtered = prem_goals[prem_goals['Percentage'] >= 2]\n",
    "prem_other = pd.DataFrame({\n",
    "    'Final Score': ['Other < 2%'],\n",
    "    'Count': [prem_goals[prem_goals['Percentage'] < 2]['Count'].sum()]\n",
    "})\n",
    "prem_pie_data = pd.concat([prem_filtered[['Final Score', 'Count']], prem_other])\n",
    "\n",
    "# Filter and group results for European Matches\n",
    "european_matches_goals['Percentage'] = european_matches_goals['Count'] / european_total * 100\n",
    "european_filtered = european_matches_goals[european_matches_goals['Percentage'] >= 2]\n",
    "european_other = pd.DataFrame({\n",
    "    'Final Score': ['Other < 2%'],\n",
    "    'Count': [european_matches_goals[european_matches_goals['Percentage'] < 2]['Count'].sum()]\n",
    "})\n",
    "european_pie_data = pd.concat([european_filtered[['Final Score', 'Count']], european_other])\n",
    "\n",
    "# Pie chart for Premier League Final Scores\n",
    "prem_pie = px.pie(\n",
    "    prem_pie_data,\n",
    "    names='Final Score',\n",
    "    values='Count',\n",
    "    title='How often does the result occur in 3,000 Premier League matches? (08/09 - 15/16)',\n",
    "    hole=0.3\n",
    ")\n",
    "prem_pie.update_traces(textinfo='label+percent', textposition='outside')\n",
    "prem_pie.show()\n",
    "\n",
    "# Pie chart for European Matches Final Scores\n",
    "european_pie = px.pie(\n",
    "    european_pie_data,\n",
    "    names='Final Score',\n",
    "    values='Count',\n",
    "    title='How often does the result occur in 22,000 European league matches? (08/09 - 15/16)',\n",
    "    hole=0.3\n",
    ")\n",
    "european_pie.update_traces(textinfo='label+percent', textposition='outside')\n",
    "european_pie.show()"
   ]
  },
  {
   "cell_type": "markdown",
   "metadata": {},
   "source": [
    "#### Observations\n",
    "- The frequency of results across these leagues is staggering! Many individual results are only a single percentage point off each other at most\n",
    "- Many results are in the same order with less than a quarter of a percentage point off in frequency is very interesting. These give a good base rate of longer term trends we can see.\n",
    "    - Perhaps later we'll check out if these base rates are changing over time (is home field advantage decreasing over time, for instance?)\n",
    "- 1-1 is the most common result and in the larger European sample, it is even more so than the PL. 1-0 is next, followed by 2-1 about 1.5 percent down which is close by with 2-0. \n",
    "- 0-0 draws are the fourth (PL) or fifth (Europe) most common result and a little bit more frequent in the Premier League.\n"
   ]
  },
  {
   "cell_type": "markdown",
   "metadata": {},
   "source": [
    "### Let's explore the HTML of the match stats columns"
   ]
  },
  {
   "cell_type": "code",
   "execution_count": 676,
   "metadata": {},
   "outputs": [
    {
     "data": {
      "text/plain": [
       "'<goal><value><comment>n</comment><stats><goals>1</goals><shoton>1</shoton></stats><event_incident_typefk>406</event_incident_typefk><elapsed>22</elapsed><player2>38807</player2><subtype>header</subtype><player1>37799</player1><sortorder>5</sortorder><team>10261</team><id>378998</id><n>295</n><type>goal</type><goal_type>n</goal_type></value><value><comment>n</comment><stats><goals>1</goals><shoton>1</shoton></stats><event_incident_typefk>393</event_incident_typefk><elapsed>24</elapsed><player2>24154</player2><subtype>shot</subtype><player1>24148</player1><sortorder>4</sortorder><team>10260</team><id>379019</id><n>298</n><type>goal</type><goal_type>n</goal_type></value></goal>'"
      ]
     },
     "execution_count": 676,
     "metadata": {},
     "output_type": "execute_result"
    }
   ],
   "source": [
    "prem['goal'].iloc[0]"
   ]
  },
  {
   "cell_type": "code",
   "execution_count": 677,
   "metadata": {},
   "outputs": [
    {
     "data": {
      "text/plain": [
       "4765    <goal />\n",
       "Name: goal, dtype: object"
      ]
     },
     "execution_count": 677,
     "metadata": {},
     "output_type": "execute_result"
    }
   ],
   "source": [
    "# check the record with id column 4766 in the goal column - a 0-0 draw\n",
    "prem[prem['id'] == 4766]['goal']"
   ]
  },
  {
   "cell_type": "code",
   "execution_count": 678,
   "metadata": {},
   "outputs": [
    {
     "data": {
      "text/plain": [
       "'<goal><value><comment>n</comment><stats><goals>1</goals><shoton>1</shoton></stats><event_incident_typefk>649</event_incident_typefk><coordinates><value>21</value><value>2</value></coordinates><elapsed>54</elapsed><subtype>tap_in</subtype><player1>239807</player1><sortorder>4</sortorder><team>8659</team><id>4910256</id><n>559</n><type>goal</type><goal_type>n</goal_type></value></goal>'"
      ]
     },
     "execution_count": 678,
     "metadata": {},
     "output_type": "execute_result"
    }
   ],
   "source": [
    "# check where it's a 1-0 win just one entry - the last entry in the data\n",
    "prem['goal'].iloc[-1]"
   ]
  },
  {
   "cell_type": "markdown",
   "metadata": {},
   "source": [
    "It's very hard to read without seeing the nesting. We can use BeautifulSoup to parse this and see what is actually in here, is it anything more detailed than what we see in the goals scored column already?"
   ]
  },
  {
   "cell_type": "code",
   "execution_count": 679,
   "metadata": {},
   "outputs": [
    {
     "name": "stdout",
     "output_type": "stream",
     "text": [
      "<goal>\n",
      " <value>\n",
      "  <comment>\n",
      "   n\n",
      "  </comment>\n",
      "  <stats>\n",
      "   <goals>\n",
      "    1\n",
      "   </goals>\n",
      "   <shoton>\n",
      "    1\n",
      "   </shoton>\n",
      "  </stats>\n",
      "  <event_incident_typefk>\n",
      "   406\n",
      "  </event_incident_typefk>\n",
      "  <elapsed>\n",
      "   22\n",
      "  </elapsed>\n",
      "  <player2>\n",
      "   38807\n",
      "  </player2>\n",
      "  <subtype>\n",
      "   header\n",
      "  </subtype>\n",
      "  <player1>\n",
      "   37799\n",
      "  </player1>\n",
      "  <sortorder>\n",
      "   5\n",
      "  </sortorder>\n",
      "  <team>\n",
      "   10261\n",
      "  </team>\n",
      "  <id>\n",
      "   378998\n",
      "  </id>\n",
      "  <n>\n",
      "   295\n",
      "  </n>\n",
      "  <type>\n",
      "   goal\n",
      "  </type>\n",
      "  <goal_type>\n",
      "   n\n",
      "  </goal_type>\n",
      " </value>\n",
      " <value>\n",
      "  <comment>\n",
      "   n\n",
      "  </comment>\n",
      "  <stats>\n",
      "   <goals>\n",
      "    1\n",
      "   </goals>\n",
      "   <shoton>\n",
      "    1\n",
      "   </shoton>\n",
      "  </stats>\n",
      "  <event_incident_typefk>\n",
      "   393\n",
      "  </event_incident_typefk>\n",
      "  <elapsed>\n",
      "   24\n",
      "  </elapsed>\n",
      "  <player2>\n",
      "   24154\n",
      "  </player2>\n",
      "  <subtype>\n",
      "   shot\n",
      "  </subtype>\n",
      "  <player1>\n",
      "   24148\n",
      "  </player1>\n",
      "  <sortorder>\n",
      "   4\n",
      "  </sortorder>\n",
      "  <team>\n",
      "   10260\n",
      "  </team>\n",
      "  <id>\n",
      "   379019\n",
      "  </id>\n",
      "  <n>\n",
      "   298\n",
      "  </n>\n",
      "  <type>\n",
      "   goal\n",
      "  </type>\n",
      "  <goal_type>\n",
      "   n\n",
      "  </goal_type>\n",
      " </value>\n",
      "</goal>\n",
      "\n"
     ]
    }
   ],
   "source": [
    "from bs4 import BeautifulSoup\n",
    "\n",
    "# prettify the HTML content from a dataframe\n",
    "def prettify_column(col):\n",
    "    soup = BeautifulSoup(col, 'html.parser')\n",
    "    return soup.prettify()\n",
    "\n",
    "# Applying the function to the goal column\n",
    "prem['goal_parsed'] = prem['goal'].apply(prettify_column)\n",
    "\n",
    "# Now, you can print an example entry to see the formatted HTML\n",
    "print(prem['goal_parsed'].iloc[0])\n"
   ]
  },
  {
   "cell_type": "code",
   "execution_count": 680,
   "metadata": {},
   "outputs": [
    {
     "name": "stdout",
     "output_type": "stream",
     "text": [
      "<goal>\n",
      " <value>\n",
      "  <comment>\n",
      "   n\n",
      "  </comment>\n",
      "  <stats>\n",
      "   <goals>\n",
      "    1\n",
      "   </goals>\n",
      "   <shoton>\n",
      "    1\n",
      "   </shoton>\n",
      "  </stats>\n",
      "  <event_incident_typefk>\n",
      "   649\n",
      "  </event_incident_typefk>\n",
      "  <coordinates>\n",
      "   <value>\n",
      "    21\n",
      "   </value>\n",
      "   <value>\n",
      "    2\n",
      "   </value>\n",
      "  </coordinates>\n",
      "  <elapsed>\n",
      "   54\n",
      "  </elapsed>\n",
      "  <subtype>\n",
      "   tap_in\n",
      "  </subtype>\n",
      "  <player1>\n",
      "   239807\n",
      "  </player1>\n",
      "  <sortorder>\n",
      "   4\n",
      "  </sortorder>\n",
      "  <team>\n",
      "   8659\n",
      "  </team>\n",
      "  <id>\n",
      "   4910256\n",
      "  </id>\n",
      "  <n>\n",
      "   559\n",
      "  </n>\n",
      "  <type>\n",
      "   goal\n",
      "  </type>\n",
      "  <goal_type>\n",
      "   n\n",
      "  </goal_type>\n",
      " </value>\n",
      "</goal>\n",
      "\n"
     ]
    }
   ],
   "source": [
    "print(prem['goal_parsed'].iloc[-1])"
   ]
  },
  {
   "cell_type": "markdown",
   "metadata": {},
   "source": [
    "### goal column contains:\n",
    "- a < goal /> tag if there are no goals\n",
    "\n",
    "- a value tag for every goal\n",
    "    - within this value tag, there is a comment tag which has mostly 'n' but also other letters. I don't know the meaning of it yet\n",
    "    - elapsed, which may be the minute of the game it was scored,\n",
    "    - **goal subtype** including header, tap-in, good data here!\n",
    "    - **coordinates** which must be X and Y, e.g. the tap-in has coordinates value 21, 2 (2 yards out from the goal?)\n",
    "    - team id\n",
    "    - id which I assume is a goal_id?"
   ]
  },
  {
   "cell_type": "markdown",
   "metadata": {},
   "source": [
    "I want to extract:\n",
    "- goal subtype and see what types they have recorded\n",
    "- comment, to see if it can be entirely ignored if it's just 'n'\n",
    "- later on, we will get elapsed, assuming this is time the goal was scored"
   ]
  },
  {
   "cell_type": "code",
   "execution_count": 681,
   "metadata": {},
   "outputs": [
    {
     "name": "stdout",
     "output_type": "stream",
     "text": [
      "Unique Comments: {'o', 'npm', 'rp', 'n', 'psm', 'dg', 'p'}\n",
      "Unique Subtypes: {'lob', 'saved_back_into_play', 'indirect freekick', 'missed', 'bicycle_kick', 'shot', 'deflected', 'crossbar', 'volley', 'distance', 'backheel', 'header', 'tap_in', 'direct_freekick', 'loose_ball', 'saved', 'post'}\n"
     ]
    }
   ],
   "source": [
    "# Function to extract <comment> and <subtype> values, with a check for <value> tags\n",
    "def extract_comment_and_subtype(html_content):\n",
    "    soup = BeautifulSoup(html_content, 'html.parser')\n",
    "    \n",
    "    # Check if there is a <goal> tag and if it contains <value> tags\n",
    "    goal_tag = soup.find('goal')\n",
    "    if not goal_tag or not goal_tag.find_all('value'):\n",
    "        return [], []  # Return empty lists if <goal> or <value> is not found\n",
    "    \n",
    "    # Extract all <comment> and <subtype> values within each <value> tag\n",
    "    comments = [value_tag.find('comment').get_text() for value_tag in goal_tag.find_all('value') if value_tag.find('comment')]\n",
    "    subtypes = [value_tag.find('subtype').get_text() for value_tag in goal_tag.find_all('value') if value_tag.find('subtype')]\n",
    "    \n",
    "    return comments, subtypes\n",
    "\n",
    "# Apply the function to extract <comment> and <subtype> values from the 'goal' column\n",
    "prem['goal_comments'], prem['goal_subtypes'] = zip(*prem['goal'].apply(extract_comment_and_subtype))\n",
    "\n",
    "# Flatten the lists and get unique values\n",
    "unique_comments = set([comment for sublist in prem['goal_comments'] for comment in sublist])\n",
    "unique_subtypes = set([subtype for sublist in prem['goal_subtypes'] for subtype in sublist])\n",
    "\n",
    "# Print the unique comments and subtypes\n",
    "print(\"Unique Comments:\", unique_comments)\n",
    "print(\"Unique Subtypes:\", unique_subtypes)\n"
   ]
  },
  {
   "cell_type": "markdown",
   "metadata": {},
   "source": [
    "We can see a lot of different subtypes including 'saved' or 'missed' which doesn't make sense. Let's see which fields have those"
   ]
  },
  {
   "cell_type": "code",
   "execution_count": 682,
   "metadata": {},
   "outputs": [
    {
     "data": {
      "text/html": [
       "<div>\n",
       "<style scoped>\n",
       "    .dataframe tbody tr th:only-of-type {\n",
       "        vertical-align: middle;\n",
       "    }\n",
       "\n",
       "    .dataframe tbody tr th {\n",
       "        vertical-align: top;\n",
       "    }\n",
       "\n",
       "    .dataframe thead th {\n",
       "        text-align: right;\n",
       "    }\n",
       "</style>\n",
       "<table border=\"1\" class=\"dataframe\">\n",
       "  <thead>\n",
       "    <tr style=\"text-align: right;\">\n",
       "      <th></th>\n",
       "      <th>id</th>\n",
       "      <th>season</th>\n",
       "      <th>Round / 38</th>\n",
       "      <th>date</th>\n",
       "      <th>match_api_id</th>\n",
       "      <th>Home ID</th>\n",
       "      <th>Away ID</th>\n",
       "      <th>Home GS</th>\n",
       "      <th>Away GS</th>\n",
       "      <th>Result</th>\n",
       "      <th>...</th>\n",
       "      <th>shoton</th>\n",
       "      <th>shotoff</th>\n",
       "      <th>foulcommit</th>\n",
       "      <th>card</th>\n",
       "      <th>cross</th>\n",
       "      <th>corner</th>\n",
       "      <th>possession</th>\n",
       "      <th>goal_parsed</th>\n",
       "      <th>goal_comments</th>\n",
       "      <th>goal_subtypes</th>\n",
       "    </tr>\n",
       "  </thead>\n",
       "  <tbody>\n",
       "    <tr>\n",
       "      <th>1769</th>\n",
       "      <td>1770</td>\n",
       "      <td>08/09</td>\n",
       "      <td>13</td>\n",
       "      <td>2008-11-15</td>\n",
       "      <td>489163</td>\n",
       "      <td>9825</td>\n",
       "      <td>10252</td>\n",
       "      <td>0</td>\n",
       "      <td>2</td>\n",
       "      <td>-1</td>\n",
       "      <td>...</td>\n",
       "      <td>&lt;shoton&gt;&lt;value&gt;&lt;stats&gt;&lt;shoton&gt;1&lt;/shoton&gt;&lt;/stat...</td>\n",
       "      <td>&lt;shotoff&gt;&lt;value&gt;&lt;stats&gt;&lt;shotoff&gt;1&lt;/shotoff&gt;&lt;/s...</td>\n",
       "      <td>&lt;foulcommit&gt;&lt;value&gt;&lt;stats&gt;&lt;foulscommitted&gt;1&lt;/f...</td>\n",
       "      <td>&lt;card&gt;&lt;value&gt;&lt;comment&gt;y&lt;/comment&gt;&lt;stats&gt;&lt;ycard...</td>\n",
       "      <td>&lt;cross&gt;&lt;value&gt;&lt;stats&gt;&lt;crosses&gt;1&lt;/crosses&gt;&lt;/sta...</td>\n",
       "      <td>&lt;corner&gt;&lt;value&gt;&lt;stats&gt;&lt;corners&gt;1&lt;/corners&gt;&lt;/st...</td>\n",
       "      <td>&lt;possession&gt;&lt;value&gt;&lt;comment&gt;56&lt;/comment&gt;&lt;event...</td>\n",
       "      <td>&lt;goal&gt;\\n &lt;value&gt;\\n  &lt;comment&gt;\\n   npm\\n  &lt;/com...</td>\n",
       "      <td>[npm, o, n]</td>\n",
       "      <td>[saved, shot]</td>\n",
       "    </tr>\n",
       "    <tr>\n",
       "      <th>1886</th>\n",
       "      <td>1887</td>\n",
       "      <td>08/09</td>\n",
       "      <td>23</td>\n",
       "      <td>2009-01-28</td>\n",
       "      <td>489271</td>\n",
       "      <td>8655</td>\n",
       "      <td>8559</td>\n",
       "      <td>2</td>\n",
       "      <td>2</td>\n",
       "      <td>0</td>\n",
       "      <td>...</td>\n",
       "      <td>&lt;shoton&gt;&lt;value&gt;&lt;stats&gt;&lt;shoton&gt;1&lt;/shoton&gt;&lt;/stat...</td>\n",
       "      <td>&lt;shotoff&gt;&lt;value&gt;&lt;stats&gt;&lt;shotoff&gt;1&lt;/shotoff&gt;&lt;/s...</td>\n",
       "      <td>&lt;foulcommit&gt;&lt;value&gt;&lt;stats&gt;&lt;foulscommitted&gt;1&lt;/f...</td>\n",
       "      <td>&lt;card&gt;&lt;value&gt;&lt;comment&gt;y&lt;/comment&gt;&lt;stats&gt;&lt;ycard...</td>\n",
       "      <td>&lt;cross&gt;&lt;value&gt;&lt;stats&gt;&lt;crosses&gt;1&lt;/crosses&gt;&lt;/sta...</td>\n",
       "      <td>&lt;corner&gt;&lt;value&gt;&lt;stats&gt;&lt;corners&gt;1&lt;/corners&gt;&lt;/st...</td>\n",
       "      <td>&lt;possession&gt;&lt;value&gt;&lt;comment&gt;41&lt;/comment&gt;&lt;event...</td>\n",
       "      <td>&lt;goal&gt;\\n &lt;value&gt;\\n  &lt;comment&gt;\\n   n\\n  &lt;/comme...</td>\n",
       "      <td>[n, n, n, npm, n]</td>\n",
       "      <td>[shot, shot, shot, saved, shot]</td>\n",
       "    </tr>\n",
       "    <tr>\n",
       "      <th>1951</th>\n",
       "      <td>1952</td>\n",
       "      <td>08/09</td>\n",
       "      <td>3</td>\n",
       "      <td>2008-08-30</td>\n",
       "      <td>489065</td>\n",
       "      <td>8654</td>\n",
       "      <td>8655</td>\n",
       "      <td>4</td>\n",
       "      <td>1</td>\n",
       "      <td>1</td>\n",
       "      <td>...</td>\n",
       "      <td>&lt;shoton&gt;&lt;value&gt;&lt;stats&gt;&lt;blocked&gt;1&lt;/blocked&gt;&lt;/st...</td>\n",
       "      <td>&lt;shotoff&gt;&lt;value&gt;&lt;stats&gt;&lt;shotoff&gt;1&lt;/shotoff&gt;&lt;/s...</td>\n",
       "      <td>&lt;foulcommit&gt;&lt;value&gt;&lt;stats&gt;&lt;foulscommitted&gt;1&lt;/f...</td>\n",
       "      <td>&lt;card&gt;&lt;value&gt;&lt;comment&gt;y&lt;/comment&gt;&lt;stats&gt;&lt;ycard...</td>\n",
       "      <td>&lt;cross&gt;&lt;value&gt;&lt;stats&gt;&lt;crosses&gt;1&lt;/crosses&gt;&lt;/sta...</td>\n",
       "      <td>&lt;corner&gt;&lt;value&gt;&lt;stats&gt;&lt;corners&gt;1&lt;/corners&gt;&lt;/st...</td>\n",
       "      <td>&lt;possession&gt;&lt;value&gt;&lt;comment&gt;68&lt;/comment&gt;&lt;event...</td>\n",
       "      <td>&lt;goal&gt;\\n &lt;value&gt;\\n  &lt;comment&gt;\\n   n\\n  &lt;/comme...</td>\n",
       "      <td>[n, o, n, dg, npm, n, n]</td>\n",
       "      <td>[header, shot, shot, saved, shot, shot]</td>\n",
       "    </tr>\n",
       "    <tr>\n",
       "      <th>1953</th>\n",
       "      <td>1954</td>\n",
       "      <td>08/09</td>\n",
       "      <td>3</td>\n",
       "      <td>2008-08-30</td>\n",
       "      <td>489067</td>\n",
       "      <td>8668</td>\n",
       "      <td>8462</td>\n",
       "      <td>0</td>\n",
       "      <td>3</td>\n",
       "      <td>-1</td>\n",
       "      <td>...</td>\n",
       "      <td>&lt;shoton&gt;&lt;value&gt;&lt;stats&gt;&lt;shoton&gt;1&lt;/shoton&gt;&lt;/stat...</td>\n",
       "      <td>&lt;shotoff&gt;&lt;value&gt;&lt;stats&gt;&lt;shotoff&gt;1&lt;/shotoff&gt;&lt;/s...</td>\n",
       "      <td>&lt;foulcommit&gt;&lt;value&gt;&lt;stats&gt;&lt;foulscommitted&gt;1&lt;/f...</td>\n",
       "      <td>&lt;card&gt;&lt;value&gt;&lt;comment&gt;y&lt;/comment&gt;&lt;stats&gt;&lt;ycard...</td>\n",
       "      <td>&lt;cross&gt;&lt;value&gt;&lt;stats&gt;&lt;crosses&gt;1&lt;/crosses&gt;&lt;/sta...</td>\n",
       "      <td>&lt;corner&gt;&lt;value&gt;&lt;stats&gt;&lt;corners&gt;1&lt;/corners&gt;&lt;/st...</td>\n",
       "      <td>&lt;possession&gt;&lt;value&gt;&lt;comment&gt;55&lt;/comment&gt;&lt;event...</td>\n",
       "      <td>&lt;goal&gt;\\n &lt;value&gt;\\n  &lt;comment&gt;\\n   n\\n  &lt;/comme...</td>\n",
       "      <td>[n, n, npm, n]</td>\n",
       "      <td>[shot, shot, saved, distance]</td>\n",
       "    </tr>\n",
       "    <tr>\n",
       "      <th>1960</th>\n",
       "      <td>1961</td>\n",
       "      <td>08/09</td>\n",
       "      <td>30</td>\n",
       "      <td>2009-03-21</td>\n",
       "      <td>489335</td>\n",
       "      <td>10261</td>\n",
       "      <td>9825</td>\n",
       "      <td>1</td>\n",
       "      <td>3</td>\n",
       "      <td>-1</td>\n",
       "      <td>...</td>\n",
       "      <td>&lt;shoton&gt;&lt;value&gt;&lt;stats&gt;&lt;shoton&gt;1&lt;/shoton&gt;&lt;/stat...</td>\n",
       "      <td>&lt;shotoff&gt;&lt;value&gt;&lt;stats&gt;&lt;shotoff&gt;1&lt;/shotoff&gt;&lt;/s...</td>\n",
       "      <td>&lt;foulcommit&gt;&lt;value&gt;&lt;stats&gt;&lt;foulscommitted&gt;1&lt;/f...</td>\n",
       "      <td>&lt;card&gt;&lt;value&gt;&lt;comment&gt;y&lt;/comment&gt;&lt;stats&gt;&lt;ycard...</td>\n",
       "      <td>&lt;cross&gt;&lt;value&gt;&lt;stats&gt;&lt;crosses&gt;1&lt;/crosses&gt;&lt;/sta...</td>\n",
       "      <td>&lt;corner&gt;&lt;value&gt;&lt;stats&gt;&lt;corners&gt;1&lt;/corners&gt;&lt;/st...</td>\n",
       "      <td>&lt;possession&gt;&lt;value&gt;&lt;comment&gt;45&lt;/comment&gt;&lt;event...</td>\n",
       "      <td>&lt;goal&gt;\\n &lt;value&gt;\\n  &lt;comment&gt;\\n   npm\\n  &lt;/com...</td>\n",
       "      <td>[npm, n, n, n, n]</td>\n",
       "      <td>[saved, header, loose_ball, shot, shot]</td>\n",
       "    </tr>\n",
       "    <tr>\n",
       "      <th>...</th>\n",
       "      <td>...</td>\n",
       "      <td>...</td>\n",
       "      <td>...</td>\n",
       "      <td>...</td>\n",
       "      <td>...</td>\n",
       "      <td>...</td>\n",
       "      <td>...</td>\n",
       "      <td>...</td>\n",
       "      <td>...</td>\n",
       "      <td>...</td>\n",
       "      <td>...</td>\n",
       "      <td>...</td>\n",
       "      <td>...</td>\n",
       "      <td>...</td>\n",
       "      <td>...</td>\n",
       "      <td>...</td>\n",
       "      <td>...</td>\n",
       "      <td>...</td>\n",
       "      <td>...</td>\n",
       "      <td>...</td>\n",
       "      <td>...</td>\n",
       "    </tr>\n",
       "    <tr>\n",
       "      <th>4480</th>\n",
       "      <td>4481</td>\n",
       "      <td>15/16</td>\n",
       "      <td>18</td>\n",
       "      <td>2015-12-26</td>\n",
       "      <td>1988882</td>\n",
       "      <td>8455</td>\n",
       "      <td>9817</td>\n",
       "      <td>2</td>\n",
       "      <td>2</td>\n",
       "      <td>0</td>\n",
       "      <td>...</td>\n",
       "      <td>&lt;shoton&gt;&lt;value&gt;&lt;stats&gt;&lt;blocked&gt;1&lt;/blocked&gt;&lt;/st...</td>\n",
       "      <td>&lt;shotoff&gt;&lt;value&gt;&lt;stats&gt;&lt;shotoff&gt;1&lt;/shotoff&gt;&lt;/s...</td>\n",
       "      <td>&lt;foulcommit&gt;&lt;value&gt;&lt;stats&gt;&lt;foulscommitted&gt;1&lt;/f...</td>\n",
       "      <td>&lt;card&gt;&lt;value&gt;&lt;comment&gt;y&lt;/comment&gt;&lt;stats&gt;&lt;ycard...</td>\n",
       "      <td>&lt;cross&gt;&lt;value&gt;&lt;stats&gt;&lt;crosses&gt;1&lt;/crosses&gt;&lt;/sta...</td>\n",
       "      <td>&lt;corner&gt;&lt;value&gt;&lt;stats&gt;&lt;corners&gt;1&lt;/corners&gt;&lt;/st...</td>\n",
       "      <td>&lt;possession&gt;&lt;value&gt;&lt;comment&gt;65&lt;/comment&gt;&lt;stats...</td>\n",
       "      <td>&lt;goal&gt;\\n &lt;value&gt;\\n  &lt;comment&gt;\\n   n\\n  &lt;/comme...</td>\n",
       "      <td>[n, p, o, n, npm]</td>\n",
       "      <td>[volley, shot, missed]</td>\n",
       "    </tr>\n",
       "    <tr>\n",
       "      <th>4482</th>\n",
       "      <td>4483</td>\n",
       "      <td>15/16</td>\n",
       "      <td>18</td>\n",
       "      <td>2015-12-26</td>\n",
       "      <td>1988884</td>\n",
       "      <td>8456</td>\n",
       "      <td>8472</td>\n",
       "      <td>4</td>\n",
       "      <td>1</td>\n",
       "      <td>1</td>\n",
       "      <td>...</td>\n",
       "      <td>&lt;shoton&gt;&lt;value&gt;&lt;stats&gt;&lt;shoton&gt;1&lt;/shoton&gt;&lt;/stat...</td>\n",
       "      <td>&lt;shotoff&gt;&lt;value&gt;&lt;stats&gt;&lt;shotoff&gt;1&lt;/shotoff&gt;&lt;/s...</td>\n",
       "      <td>&lt;foulcommit&gt;&lt;value&gt;&lt;stats&gt;&lt;foulscommitted&gt;1&lt;/f...</td>\n",
       "      <td>&lt;card&gt;&lt;value&gt;&lt;comment&gt;y&lt;/comment&gt;&lt;stats&gt;&lt;ycard...</td>\n",
       "      <td>&lt;cross&gt;&lt;value&gt;&lt;stats&gt;&lt;crosses&gt;1&lt;/crosses&gt;&lt;/sta...</td>\n",
       "      <td>&lt;corner&gt;&lt;value&gt;&lt;stats&gt;&lt;corners&gt;1&lt;/corners&gt;&lt;/st...</td>\n",
       "      <td>&lt;possession&gt;&lt;value&gt;&lt;comment&gt;72&lt;/comment&gt;&lt;stats...</td>\n",
       "      <td>&lt;goal&gt;\\n &lt;value&gt;\\n  &lt;comment&gt;\\n   n\\n  &lt;/comme...</td>\n",
       "      <td>[n, n, n, n, n, npm]</td>\n",
       "      <td>[header, distance, header, shot, shot, missed]</td>\n",
       "    </tr>\n",
       "    <tr>\n",
       "      <th>4616</th>\n",
       "      <td>4617</td>\n",
       "      <td>15/16</td>\n",
       "      <td>3</td>\n",
       "      <td>2015-08-23</td>\n",
       "      <td>1988738</td>\n",
       "      <td>8659</td>\n",
       "      <td>8455</td>\n",
       "      <td>2</td>\n",
       "      <td>3</td>\n",
       "      <td>-1</td>\n",
       "      <td>...</td>\n",
       "      <td>&lt;shoton&gt;&lt;value&gt;&lt;stats&gt;&lt;shoton&gt;1&lt;/shoton&gt;&lt;/stat...</td>\n",
       "      <td>&lt;shotoff&gt;&lt;value&gt;&lt;stats&gt;&lt;shotoff&gt;1&lt;/shotoff&gt;&lt;/s...</td>\n",
       "      <td>&lt;foulcommit&gt;&lt;value&gt;&lt;stats&gt;&lt;foulscommitted&gt;1&lt;/f...</td>\n",
       "      <td>&lt;card&gt;&lt;value&gt;&lt;comment&gt;y&lt;/comment&gt;&lt;stats&gt;&lt;ycard...</td>\n",
       "      <td>&lt;cross&gt;&lt;value&gt;&lt;stats&gt;&lt;crosses&gt;1&lt;/crosses&gt;&lt;/sta...</td>\n",
       "      <td>&lt;corner&gt;&lt;value&gt;&lt;stats&gt;&lt;corners&gt;1&lt;/corners&gt;&lt;/st...</td>\n",
       "      <td>&lt;possession&gt;&lt;value&gt;&lt;comment&gt;36&lt;/comment&gt;&lt;stats...</td>\n",
       "      <td>&lt;goal&gt;\\n &lt;value&gt;\\n  &lt;comment&gt;\\n   npm\\n  &lt;/com...</td>\n",
       "      <td>[npm, n, n, n, n, n]</td>\n",
       "      <td>[saved, shot, tap_in, volley, shot, header]</td>\n",
       "    </tr>\n",
       "    <tr>\n",
       "      <th>4667</th>\n",
       "      <td>4668</td>\n",
       "      <td>15/16</td>\n",
       "      <td>34</td>\n",
       "      <td>2016-04-16</td>\n",
       "      <td>1989049</td>\n",
       "      <td>8659</td>\n",
       "      <td>9817</td>\n",
       "      <td>0</td>\n",
       "      <td>1</td>\n",
       "      <td>-1</td>\n",
       "      <td>...</td>\n",
       "      <td>&lt;shoton&gt;&lt;value&gt;&lt;stats&gt;&lt;shoton&gt;1&lt;/shoton&gt;&lt;/stat...</td>\n",
       "      <td>&lt;shotoff&gt;&lt;value&gt;&lt;stats&gt;&lt;shotoff&gt;1&lt;/shotoff&gt;&lt;/s...</td>\n",
       "      <td>&lt;foulcommit&gt;&lt;value&gt;&lt;stats&gt;&lt;foulscommitted&gt;1&lt;/f...</td>\n",
       "      <td>&lt;card&gt;&lt;value&gt;&lt;comment&gt;y&lt;/comment&gt;&lt;stats&gt;&lt;ycard...</td>\n",
       "      <td>&lt;cross&gt;&lt;value&gt;&lt;stats&gt;&lt;crosses&gt;1&lt;/crosses&gt;&lt;/sta...</td>\n",
       "      <td>&lt;corner&gt;&lt;value&gt;&lt;stats&gt;&lt;corners&gt;1&lt;/corners&gt;&lt;/st...</td>\n",
       "      <td>&lt;possession&gt;&lt;value&gt;&lt;comment&gt;16&lt;/comment&gt;&lt;stats...</td>\n",
       "      <td>&lt;goal&gt;\\n &lt;value&gt;\\n  &lt;comment&gt;\\n   n\\n  &lt;/comme...</td>\n",
       "      <td>[n, npm, npm]</td>\n",
       "      <td>[volley, saved_back_into_play, saved]</td>\n",
       "    </tr>\n",
       "    <tr>\n",
       "      <th>4691</th>\n",
       "      <td>4692</td>\n",
       "      <td>15/16</td>\n",
       "      <td>37</td>\n",
       "      <td>2016-05-07</td>\n",
       "      <td>1989073</td>\n",
       "      <td>8197</td>\n",
       "      <td>8668</td>\n",
       "      <td>3</td>\n",
       "      <td>1</td>\n",
       "      <td>1</td>\n",
       "      <td>...</td>\n",
       "      <td>&lt;shoton&gt;&lt;value&gt;&lt;stats&gt;&lt;shoton&gt;1&lt;/shoton&gt;&lt;/stat...</td>\n",
       "      <td>&lt;shotoff&gt;&lt;value&gt;&lt;stats&gt;&lt;shotoff&gt;1&lt;/shotoff&gt;&lt;/s...</td>\n",
       "      <td>&lt;foulcommit&gt;&lt;value&gt;&lt;stats&gt;&lt;foulscommitted&gt;1&lt;/f...</td>\n",
       "      <td>&lt;card&gt;&lt;value&gt;&lt;comment&gt;y&lt;/comment&gt;&lt;stats&gt;&lt;ycard...</td>\n",
       "      <td>&lt;cross&gt;&lt;value&gt;&lt;stats&gt;&lt;crosses&gt;1&lt;/crosses&gt;&lt;/sta...</td>\n",
       "      <td>&lt;corner&gt;&lt;value&gt;&lt;stats&gt;&lt;corners&gt;1&lt;/corners&gt;&lt;/st...</td>\n",
       "      <td>&lt;possession&gt;&lt;value&gt;&lt;comment&gt;36&lt;/comment&gt;&lt;stats...</td>\n",
       "      <td>&lt;goal&gt;\\n &lt;value&gt;\\n  &lt;comment&gt;\\n   n\\n  &lt;/comme...</td>\n",
       "      <td>[n, n, p, npm, n]</td>\n",
       "      <td>[shot, shot, missed, shot]</td>\n",
       "    </tr>\n",
       "  </tbody>\n",
       "</table>\n",
       "<p>67 rows × 47 columns</p>\n",
       "</div>"
      ],
      "text/plain": [
       "        id season  Round / 38       date  match_api_id  Home ID  Away ID  \\\n",
       "1769  1770  08/09          13 2008-11-15        489163     9825    10252   \n",
       "1886  1887  08/09          23 2009-01-28        489271     8655     8559   \n",
       "1951  1952  08/09           3 2008-08-30        489065     8654     8655   \n",
       "1953  1954  08/09           3 2008-08-30        489067     8668     8462   \n",
       "1960  1961  08/09          30 2009-03-21        489335    10261     9825   \n",
       "...    ...    ...         ...        ...           ...      ...      ...   \n",
       "4480  4481  15/16          18 2015-12-26       1988882     8455     9817   \n",
       "4482  4483  15/16          18 2015-12-26       1988884     8456     8472   \n",
       "4616  4617  15/16           3 2015-08-23       1988738     8659     8455   \n",
       "4667  4668  15/16          34 2016-04-16       1989049     8659     9817   \n",
       "4691  4692  15/16          37 2016-05-07       1989073     8197     8668   \n",
       "\n",
       "      Home GS  Away GS  Result  ...  \\\n",
       "1769        0        2      -1  ...   \n",
       "1886        2        2       0  ...   \n",
       "1951        4        1       1  ...   \n",
       "1953        0        3      -1  ...   \n",
       "1960        1        3      -1  ...   \n",
       "...       ...      ...     ...  ...   \n",
       "4480        2        2       0  ...   \n",
       "4482        4        1       1  ...   \n",
       "4616        2        3      -1  ...   \n",
       "4667        0        1      -1  ...   \n",
       "4691        3        1       1  ...   \n",
       "\n",
       "                                                 shoton  \\\n",
       "1769  <shoton><value><stats><shoton>1</shoton></stat...   \n",
       "1886  <shoton><value><stats><shoton>1</shoton></stat...   \n",
       "1951  <shoton><value><stats><blocked>1</blocked></st...   \n",
       "1953  <shoton><value><stats><shoton>1</shoton></stat...   \n",
       "1960  <shoton><value><stats><shoton>1</shoton></stat...   \n",
       "...                                                 ...   \n",
       "4480  <shoton><value><stats><blocked>1</blocked></st...   \n",
       "4482  <shoton><value><stats><shoton>1</shoton></stat...   \n",
       "4616  <shoton><value><stats><shoton>1</shoton></stat...   \n",
       "4667  <shoton><value><stats><shoton>1</shoton></stat...   \n",
       "4691  <shoton><value><stats><shoton>1</shoton></stat...   \n",
       "\n",
       "                                                shotoff  \\\n",
       "1769  <shotoff><value><stats><shotoff>1</shotoff></s...   \n",
       "1886  <shotoff><value><stats><shotoff>1</shotoff></s...   \n",
       "1951  <shotoff><value><stats><shotoff>1</shotoff></s...   \n",
       "1953  <shotoff><value><stats><shotoff>1</shotoff></s...   \n",
       "1960  <shotoff><value><stats><shotoff>1</shotoff></s...   \n",
       "...                                                 ...   \n",
       "4480  <shotoff><value><stats><shotoff>1</shotoff></s...   \n",
       "4482  <shotoff><value><stats><shotoff>1</shotoff></s...   \n",
       "4616  <shotoff><value><stats><shotoff>1</shotoff></s...   \n",
       "4667  <shotoff><value><stats><shotoff>1</shotoff></s...   \n",
       "4691  <shotoff><value><stats><shotoff>1</shotoff></s...   \n",
       "\n",
       "                                             foulcommit  \\\n",
       "1769  <foulcommit><value><stats><foulscommitted>1</f...   \n",
       "1886  <foulcommit><value><stats><foulscommitted>1</f...   \n",
       "1951  <foulcommit><value><stats><foulscommitted>1</f...   \n",
       "1953  <foulcommit><value><stats><foulscommitted>1</f...   \n",
       "1960  <foulcommit><value><stats><foulscommitted>1</f...   \n",
       "...                                                 ...   \n",
       "4480  <foulcommit><value><stats><foulscommitted>1</f...   \n",
       "4482  <foulcommit><value><stats><foulscommitted>1</f...   \n",
       "4616  <foulcommit><value><stats><foulscommitted>1</f...   \n",
       "4667  <foulcommit><value><stats><foulscommitted>1</f...   \n",
       "4691  <foulcommit><value><stats><foulscommitted>1</f...   \n",
       "\n",
       "                                                   card  \\\n",
       "1769  <card><value><comment>y</comment><stats><ycard...   \n",
       "1886  <card><value><comment>y</comment><stats><ycard...   \n",
       "1951  <card><value><comment>y</comment><stats><ycard...   \n",
       "1953  <card><value><comment>y</comment><stats><ycard...   \n",
       "1960  <card><value><comment>y</comment><stats><ycard...   \n",
       "...                                                 ...   \n",
       "4480  <card><value><comment>y</comment><stats><ycard...   \n",
       "4482  <card><value><comment>y</comment><stats><ycard...   \n",
       "4616  <card><value><comment>y</comment><stats><ycard...   \n",
       "4667  <card><value><comment>y</comment><stats><ycard...   \n",
       "4691  <card><value><comment>y</comment><stats><ycard...   \n",
       "\n",
       "                                                  cross  \\\n",
       "1769  <cross><value><stats><crosses>1</crosses></sta...   \n",
       "1886  <cross><value><stats><crosses>1</crosses></sta...   \n",
       "1951  <cross><value><stats><crosses>1</crosses></sta...   \n",
       "1953  <cross><value><stats><crosses>1</crosses></sta...   \n",
       "1960  <cross><value><stats><crosses>1</crosses></sta...   \n",
       "...                                                 ...   \n",
       "4480  <cross><value><stats><crosses>1</crosses></sta...   \n",
       "4482  <cross><value><stats><crosses>1</crosses></sta...   \n",
       "4616  <cross><value><stats><crosses>1</crosses></sta...   \n",
       "4667  <cross><value><stats><crosses>1</crosses></sta...   \n",
       "4691  <cross><value><stats><crosses>1</crosses></sta...   \n",
       "\n",
       "                                                 corner  \\\n",
       "1769  <corner><value><stats><corners>1</corners></st...   \n",
       "1886  <corner><value><stats><corners>1</corners></st...   \n",
       "1951  <corner><value><stats><corners>1</corners></st...   \n",
       "1953  <corner><value><stats><corners>1</corners></st...   \n",
       "1960  <corner><value><stats><corners>1</corners></st...   \n",
       "...                                                 ...   \n",
       "4480  <corner><value><stats><corners>1</corners></st...   \n",
       "4482  <corner><value><stats><corners>1</corners></st...   \n",
       "4616  <corner><value><stats><corners>1</corners></st...   \n",
       "4667  <corner><value><stats><corners>1</corners></st...   \n",
       "4691  <corner><value><stats><corners>1</corners></st...   \n",
       "\n",
       "                                             possession  \\\n",
       "1769  <possession><value><comment>56</comment><event...   \n",
       "1886  <possession><value><comment>41</comment><event...   \n",
       "1951  <possession><value><comment>68</comment><event...   \n",
       "1953  <possession><value><comment>55</comment><event...   \n",
       "1960  <possession><value><comment>45</comment><event...   \n",
       "...                                                 ...   \n",
       "4480  <possession><value><comment>65</comment><stats...   \n",
       "4482  <possession><value><comment>72</comment><stats...   \n",
       "4616  <possession><value><comment>36</comment><stats...   \n",
       "4667  <possession><value><comment>16</comment><stats...   \n",
       "4691  <possession><value><comment>36</comment><stats...   \n",
       "\n",
       "                                            goal_parsed  \\\n",
       "1769  <goal>\\n <value>\\n  <comment>\\n   npm\\n  </com...   \n",
       "1886  <goal>\\n <value>\\n  <comment>\\n   n\\n  </comme...   \n",
       "1951  <goal>\\n <value>\\n  <comment>\\n   n\\n  </comme...   \n",
       "1953  <goal>\\n <value>\\n  <comment>\\n   n\\n  </comme...   \n",
       "1960  <goal>\\n <value>\\n  <comment>\\n   npm\\n  </com...   \n",
       "...                                                 ...   \n",
       "4480  <goal>\\n <value>\\n  <comment>\\n   n\\n  </comme...   \n",
       "4482  <goal>\\n <value>\\n  <comment>\\n   n\\n  </comme...   \n",
       "4616  <goal>\\n <value>\\n  <comment>\\n   npm\\n  </com...   \n",
       "4667  <goal>\\n <value>\\n  <comment>\\n   n\\n  </comme...   \n",
       "4691  <goal>\\n <value>\\n  <comment>\\n   n\\n  </comme...   \n",
       "\n",
       "                 goal_comments                                   goal_subtypes  \n",
       "1769               [npm, o, n]                                   [saved, shot]  \n",
       "1886         [n, n, n, npm, n]                 [shot, shot, shot, saved, shot]  \n",
       "1951  [n, o, n, dg, npm, n, n]         [header, shot, shot, saved, shot, shot]  \n",
       "1953            [n, n, npm, n]                   [shot, shot, saved, distance]  \n",
       "1960         [npm, n, n, n, n]         [saved, header, loose_ball, shot, shot]  \n",
       "...                        ...                                             ...  \n",
       "4480         [n, p, o, n, npm]                          [volley, shot, missed]  \n",
       "4482      [n, n, n, n, n, npm]  [header, distance, header, shot, shot, missed]  \n",
       "4616      [npm, n, n, n, n, n]     [saved, shot, tap_in, volley, shot, header]  \n",
       "4667             [n, npm, npm]           [volley, saved_back_into_play, saved]  \n",
       "4691         [n, n, p, npm, n]                      [shot, shot, missed, shot]  \n",
       "\n",
       "[67 rows x 47 columns]"
      ]
     },
     "execution_count": 682,
     "metadata": {},
     "output_type": "execute_result"
    }
   ],
   "source": [
    "# check goal_subtypes for entries containing 'missed' and 'saved'\n",
    "missed = prem[prem['goal_subtypes'].apply(lambda x: 'missed' in x or 'saved' in x)]\n",
    "\n",
    "missed"
   ]
  },
  {
   "cell_type": "markdown",
   "metadata": {},
   "source": [
    "I was manually trying to compare the sum of Home GS + Away GS with the number of goal subtypes and there are some inconsistencies where saved and missed are involved. We can:\n",
    "\n",
    "- spot check some records with those and see if goal has a value of 1 or 0\n",
    "- run a pandas query for these where the sum of goals should add up to the length of the goal_subtypes list"
   ]
  },
  {
   "cell_type": "code",
   "execution_count": 683,
   "metadata": {},
   "outputs": [
    {
     "name": "stdout",
     "output_type": "stream",
     "text": [
      "<goal>\n",
      " <value>\n",
      "  <comment>\n",
      "   n\n",
      "  </comment>\n",
      "  <stats>\n",
      "   <goals>\n",
      "    1\n",
      "   </goals>\n",
      "   <shoton>\n",
      "    1\n",
      "   </shoton>\n",
      "  </stats>\n",
      "  <event_incident_typefk>\n",
      "   393\n",
      "  </event_incident_typefk>\n",
      "  <coordinates>\n",
      "   <value>\n",
      "    23\n",
      "   </value>\n",
      "   <value>\n",
      "    6\n",
      "   </value>\n",
      "  </coordinates>\n",
      "  <elapsed>\n",
      "   5\n",
      "  </elapsed>\n",
      "  <player2>\n",
      "   103419\n",
      "  </player2>\n",
      "  <subtype>\n",
      "   shot\n",
      "  </subtype>\n",
      "  <player1>\n",
      "   286119\n",
      "  </player1>\n",
      "  <sortorder>\n",
      "   6\n",
      "  </sortorder>\n",
      "  <team>\n",
      "   8197\n",
      "  </team>\n",
      "  <id>\n",
      "   5581005\n",
      "  </id>\n",
      "  <n>\n",
      "   301\n",
      "  </n>\n",
      "  <type>\n",
      "   goal\n",
      "  </type>\n",
      "  <goal_type>\n",
      "   n\n",
      "  </goal_type>\n",
      " </value>\n",
      " <value>\n",
      "  <comment>\n",
      "   n\n",
      "  </comment>\n",
      "  <stats>\n",
      "   <goals>\n",
      "    1\n",
      "   </goals>\n",
      "   <shoton>\n",
      "    1\n",
      "   </shoton>\n",
      "  </stats>\n",
      "  <event_incident_typefk>\n",
      "   80\n",
      "  </event_incident_typefk>\n",
      "  <coordinates>\n",
      "   <value>\n",
      "    25\n",
      "   </value>\n",
      "   <value>\n",
      "    7\n",
      "   </value>\n",
      "  </coordinates>\n",
      "  <elapsed>\n",
      "   33\n",
      "  </elapsed>\n",
      "  <subtype>\n",
      "   shot\n",
      "  </subtype>\n",
      "  <player1>\n",
      "   103419\n",
      "  </player1>\n",
      "  <sortorder>\n",
      "   2\n",
      "  </sortorder>\n",
      "  <team>\n",
      "   8197\n",
      "  </team>\n",
      "  <id>\n",
      "   5581149\n",
      "  </id>\n",
      "  <n>\n",
      "   190\n",
      "  </n>\n",
      "  <type>\n",
      "   goal\n",
      "  </type>\n",
      "  <goal_type>\n",
      "   n\n",
      "  </goal_type>\n",
      " </value>\n",
      " <value>\n",
      "  <comment>\n",
      "   p\n",
      "  </comment>\n",
      "  <stats>\n",
      "   <penalties>\n",
      "    1\n",
      "   </penalties>\n",
      "   <goals>\n",
      "    1\n",
      "   </goals>\n",
      "  </stats>\n",
      "  <event_incident_typefk>\n",
      "   20\n",
      "  </event_incident_typefk>\n",
      "  <coordinates>\n",
      "   <value>\n",
      "    23\n",
      "   </value>\n",
      "   <value>\n",
      "    8\n",
      "   </value>\n",
      "  </coordinates>\n",
      "  <elapsed>\n",
      "   65\n",
      "  </elapsed>\n",
      "  <player1>\n",
      "   286119\n",
      "  </player1>\n",
      "  <sortorder>\n",
      "   1\n",
      "  </sortorder>\n",
      "  <team>\n",
      "   8197\n",
      "  </team>\n",
      "  <id>\n",
      "   5581425\n",
      "  </id>\n",
      "  <n>\n",
      "   423\n",
      "  </n>\n",
      "  <type>\n",
      "   goal\n",
      "  </type>\n",
      "  <goal_type>\n",
      "   p\n",
      "  </goal_type>\n",
      " </value>\n",
      " <value>\n",
      "  <comment>\n",
      "   npm\n",
      "  </comment>\n",
      "  <event_incident_typefk>\n",
      "   22\n",
      "  </event_incident_typefk>\n",
      "  <coordinates>\n",
      "   <value>\n",
      "    23\n",
      "   </value>\n",
      "   <value>\n",
      "    8\n",
      "   </value>\n",
      "  </coordinates>\n",
      "  <elapsed>\n",
      "   72\n",
      "  </elapsed>\n",
      "  <subtype>\n",
      "   missed\n",
      "  </subtype>\n",
      "  <player1>\n",
      "   286119\n",
      "  </player1>\n",
      "  <sortorder>\n",
      "   0\n",
      "  </sortorder>\n",
      "  <team>\n",
      "   8197\n",
      "  </team>\n",
      "  <id>\n",
      "   5581458\n",
      "  </id>\n",
      "  <n>\n",
      "   462\n",
      "  </n>\n",
      "  <type>\n",
      "   goal\n",
      "  </type>\n",
      "  <goal_type>\n",
      "   npm\n",
      "  </goal_type>\n",
      " </value>\n",
      " <value>\n",
      "  <comment>\n",
      "   n\n",
      "  </comment>\n",
      "  <stats>\n",
      "   <goals>\n",
      "    1\n",
      "   </goals>\n",
      "   <shoton>\n",
      "    1\n",
      "   </shoton>\n",
      "  </stats>\n",
      "  <event_incident_typefk>\n",
      "   393\n",
      "  </event_incident_typefk>\n",
      "  <coordinates>\n",
      "   <value>\n",
      "    29\n",
      "   </value>\n",
      "   <value>\n",
      "    63\n",
      "   </value>\n",
      "  </coordinates>\n",
      "  <elapsed>\n",
      "   88\n",
      "  </elapsed>\n",
      "  <player2>\n",
      "   24156\n",
      "  </player2>\n",
      "  <subtype>\n",
      "   shot\n",
      "  </subtype>\n",
      "  <player1>\n",
      "   26151\n",
      "  </player1>\n",
      "  <sortorder>\n",
      "   3\n",
      "  </sortorder>\n",
      "  <team>\n",
      "   8668\n",
      "  </team>\n",
      "  <id>\n",
      "   5581531\n",
      "  </id>\n",
      "  <n>\n",
      "   621\n",
      "  </n>\n",
      "  <type>\n",
      "   goal\n",
      "  </type>\n",
      "  <goal_type>\n",
      "   n\n",
      "  </goal_type>\n",
      " </value>\n",
      "</goal>\n",
      "\n"
     ]
    }
   ],
   "source": [
    "print(missed['goal_parsed'].iloc[-1])"
   ]
  },
  {
   "cell_type": "markdown",
   "metadata": {},
   "source": [
    "## Pause on Pandas: Bring in key information using SQL to aid the analysis\n",
    "\n",
    "SQL is going to be a lot easier to bring in information like how many goals on average did a given team score this season, team OVR rating for the season, player OVR ratings etc...\n",
    "\n",
    "Before going for types of goals, possession etc etc I should be looking at high level team information, which is definitely going to impact the predictive power of the model."
   ]
  },
  {
   "cell_type": "markdown",
   "metadata": {},
   "source": [
    "The SQL query to be built is:\n",
    "- Overall Rating From Player_Attributes, join their name\n",
    "    - we need code to match the player's OVR ability to the year the match takes place e.g. 2015 match takes the player's 2015 OVR\n",
    "- Joined by their player_api_id to Match table, which has player ID"
   ]
  },
  {
   "cell_type": "code",
   "execution_count": 684,
   "metadata": {},
   "outputs": [],
   "source": [
    "# import the database file\n",
    "with sqlite3.connect('/Users/thomasdoherty/Desktop/football-project/football-data/database.sqlite') as conn:\n",
    "    # countries = pd.read_sql_query(\"SELECT England FROM Country\", conn) # we don't need it for now, other than country id 1729\n",
    "\n",
    "    matches = pd.read_sql_query(\"SELECT * FROM Match WHERE country_id IS 1729\", conn)\n",
    "\n",
    "    # leagues = pd.read_sql_query(\"SELECT * FROM League\", conn) - we don't need this right now\n",
    "\n",
    "    team = pd.read_sql_query(\"SELECT * FROM Team\", conn)\n",
    "\n",
    "    team_attr = pd.read_sql_query(\"\"\"\n",
    "                                  SELECT Team.team_api_id, team_long_name, date, buildUpPlaySpeed, buildUpPlayPassing, chanceCreationPassing, chanceCreationCrossing, chanceCreationShooting, defencePressure, defenceAggression\n",
    "                                  FROM Team_Attributes\n",
    "                                  INNER JOIN Team ON Team.team_api_id = Team_Attributes.team_api_id\n",
    "                                  \"\"\", conn)\n",
    "\n",
    "    player_attr = pd.read_sql_query(\"\"\"\n",
    "                                    SELECT Player.player_api_id, player_name, date, overall_rating \n",
    "                                    FROM Player_Attributes \n",
    "                                    INNER JOIN Player ON Player.player_api_id = Player_Attributes.player_api_id\n",
    "                                    \"\"\", conn)\n",
    "\n",
    "    player = pd.read_sql_query(\"SELECT * FROM Player\", conn)"
   ]
  },
  {
   "cell_type": "markdown",
   "metadata": {},
   "source": [
    "### Preparing the player_attribute table"
   ]
  },
  {
   "cell_type": "markdown",
   "metadata": {},
   "source": [
    "The goal is to have the player id, their overall rating and the year in which it was assigned. This information will let the player easily be joined in to the matches table with their overall rating which is close to the time of the match in question.\n",
    "    - We can then later create an average OVR rating of the team in the starting 11.\n",
    "\n",
    "There are many instances of the same player having a new rating multiple times a year, so we will take an average of the overall rating that was given in each rating across each year."
   ]
  },
  {
   "cell_type": "code",
   "execution_count": 685,
   "metadata": {},
   "outputs": [
    {
     "data": {
      "text/html": [
       "<div>\n",
       "<style scoped>\n",
       "    .dataframe tbody tr th:only-of-type {\n",
       "        vertical-align: middle;\n",
       "    }\n",
       "\n",
       "    .dataframe tbody tr th {\n",
       "        vertical-align: top;\n",
       "    }\n",
       "\n",
       "    .dataframe thead th {\n",
       "        text-align: right;\n",
       "    }\n",
       "</style>\n",
       "<table border=\"1\" class=\"dataframe\">\n",
       "  <thead>\n",
       "    <tr style=\"text-align: right;\">\n",
       "      <th></th>\n",
       "      <th>player_api_id</th>\n",
       "      <th>player_name</th>\n",
       "      <th>date</th>\n",
       "      <th>overall_rating</th>\n",
       "    </tr>\n",
       "  </thead>\n",
       "  <tbody>\n",
       "    <tr>\n",
       "      <th>21897</th>\n",
       "      <td>23021</td>\n",
       "      <td>Boaz Myhill</td>\n",
       "      <td>2016-02-11 00:00:00</td>\n",
       "      <td>72.0</td>\n",
       "    </tr>\n",
       "    <tr>\n",
       "      <th>21898</th>\n",
       "      <td>23021</td>\n",
       "      <td>Boaz Myhill</td>\n",
       "      <td>2015-09-21 00:00:00</td>\n",
       "      <td>72.0</td>\n",
       "    </tr>\n",
       "    <tr>\n",
       "      <th>21899</th>\n",
       "      <td>23021</td>\n",
       "      <td>Boaz Myhill</td>\n",
       "      <td>2014-05-16 00:00:00</td>\n",
       "      <td>72.0</td>\n",
       "    </tr>\n",
       "    <tr>\n",
       "      <th>21900</th>\n",
       "      <td>23021</td>\n",
       "      <td>Boaz Myhill</td>\n",
       "      <td>2014-03-14 00:00:00</td>\n",
       "      <td>72.0</td>\n",
       "    </tr>\n",
       "    <tr>\n",
       "      <th>21901</th>\n",
       "      <td>23021</td>\n",
       "      <td>Boaz Myhill</td>\n",
       "      <td>2013-09-20 00:00:00</td>\n",
       "      <td>72.0</td>\n",
       "    </tr>\n",
       "  </tbody>\n",
       "</table>\n",
       "</div>"
      ],
      "text/plain": [
       "       player_api_id  player_name                 date  overall_rating\n",
       "21897          23021  Boaz Myhill  2016-02-11 00:00:00            72.0\n",
       "21898          23021  Boaz Myhill  2015-09-21 00:00:00            72.0\n",
       "21899          23021  Boaz Myhill  2014-05-16 00:00:00            72.0\n",
       "21900          23021  Boaz Myhill  2014-03-14 00:00:00            72.0\n",
       "21901          23021  Boaz Myhill  2013-09-20 00:00:00            72.0"
      ]
     },
     "execution_count": 685,
     "metadata": {},
     "output_type": "execute_result"
    }
   ],
   "source": [
    "player_attr[player_attr['player_api_id'] == 23021].head() # before preparation"
   ]
  },
  {
   "cell_type": "code",
   "execution_count": 686,
   "metadata": {},
   "outputs": [],
   "source": [
    "# cast date to datetime\n",
    "player_attr['date'] = pd.to_datetime(player_attr['date'])\n",
    "\n",
    "# extract just the year from the date\n",
    "player_attr['date'] = player_attr['date'].dt.year"
   ]
  },
  {
   "cell_type": "code",
   "execution_count": 687,
   "metadata": {},
   "outputs": [],
   "source": [
    "# now average the overall_rating for each player for each year, group by player_api_id and date\n",
    "player_attr = player_attr.groupby(['player_api_id', 'player_name', 'date'])['overall_rating'].mean().reset_index()\n",
    "\n",
    "# round the overall_rating to 1 decimal place\n",
    "player_attr['overall_rating'] = player_attr['overall_rating'].round(1)"
   ]
  },
  {
   "cell_type": "code",
   "execution_count": 688,
   "metadata": {},
   "outputs": [
    {
     "data": {
      "text/plain": [
       "player_api_id       int64\n",
       "player_name        object\n",
       "date                int32\n",
       "overall_rating    float64\n",
       "dtype: object"
      ]
     },
     "execution_count": 688,
     "metadata": {},
     "output_type": "execute_result"
    }
   ],
   "source": [
    "player_attr.dtypes"
   ]
  },
  {
   "cell_type": "code",
   "execution_count": 689,
   "metadata": {},
   "outputs": [
    {
     "data": {
      "text/html": [
       "<div>\n",
       "<style scoped>\n",
       "    .dataframe tbody tr th:only-of-type {\n",
       "        vertical-align: middle;\n",
       "    }\n",
       "\n",
       "    .dataframe tbody tr th {\n",
       "        vertical-align: top;\n",
       "    }\n",
       "\n",
       "    .dataframe thead th {\n",
       "        text-align: right;\n",
       "    }\n",
       "</style>\n",
       "<table border=\"1\" class=\"dataframe\">\n",
       "  <thead>\n",
       "    <tr style=\"text-align: right;\">\n",
       "      <th></th>\n",
       "      <th>player_api_id</th>\n",
       "      <th>player_name</th>\n",
       "      <th>date</th>\n",
       "      <th>overall_rating</th>\n",
       "    </tr>\n",
       "  </thead>\n",
       "  <tbody>\n",
       "    <tr>\n",
       "      <th>19165</th>\n",
       "      <td>34225</td>\n",
       "      <td>Tomasz Kupisz</td>\n",
       "      <td>2012</td>\n",
       "      <td>68.5</td>\n",
       "    </tr>\n",
       "    <tr>\n",
       "      <th>67382</th>\n",
       "      <td>355356</td>\n",
       "      <td>Marc-Oliver Kempf</td>\n",
       "      <td>2007</td>\n",
       "      <td>57.0</td>\n",
       "    </tr>\n",
       "    <tr>\n",
       "      <th>15679</th>\n",
       "      <td>31643</td>\n",
       "      <td>David Elm</td>\n",
       "      <td>2013</td>\n",
       "      <td>62.0</td>\n",
       "    </tr>\n",
       "    <tr>\n",
       "      <th>11057</th>\n",
       "      <td>27352</td>\n",
       "      <td>Jan Rosenthal</td>\n",
       "      <td>2010</td>\n",
       "      <td>73.0</td>\n",
       "    </tr>\n",
       "    <tr>\n",
       "      <th>17774</th>\n",
       "      <td>33579</td>\n",
       "      <td>Oscar Wendt</td>\n",
       "      <td>2015</td>\n",
       "      <td>76.0</td>\n",
       "    </tr>\n",
       "  </tbody>\n",
       "</table>\n",
       "</div>"
      ],
      "text/plain": [
       "       player_api_id        player_name  date  overall_rating\n",
       "19165          34225      Tomasz Kupisz  2012            68.5\n",
       "67382         355356  Marc-Oliver Kempf  2007            57.0\n",
       "15679          31643          David Elm  2013            62.0\n",
       "11057          27352      Jan Rosenthal  2010            73.0\n",
       "17774          33579        Oscar Wendt  2015            76.0"
      ]
     },
     "execution_count": 689,
     "metadata": {},
     "output_type": "execute_result"
    }
   ],
   "source": [
    "player_attr.sample(5) # after preparation"
   ]
  },
  {
   "cell_type": "markdown",
   "metadata": {},
   "source": [
    "### Preparing the team_attribute columns"
   ]
  },
  {
   "cell_type": "markdown",
   "metadata": {},
   "source": [
    "The goal is to have the team statistics for that year that the match took place. We may only bring in the team name but extra columns related to the style of play will be brought in too. \n",
    "\n",
    "I dropped buildUpPlayDribbling / chanceCreationDribbling because it only began getting recorded in 2014 - near the end of the data\n",
    "\n",
    "Other notes:\n",
    "- It looks like all teams get one annual rating for team_attr, so all we need to process is extract the year\n",
    "\n",
    "- Spot check West Ham (long ball) vs Arsenal (short possession based) - it appears the **larger values for passing indicate longer passing distance**, e.g. long-ball teams have a larger buildUpPlaySpeed and buildUpPlayPassing"
   ]
  },
  {
   "cell_type": "code",
   "execution_count": 690,
   "metadata": {},
   "outputs": [],
   "source": [
    "#teams[teams['team_api_id'] == 8654]"
   ]
  },
  {
   "cell_type": "code",
   "execution_count": 691,
   "metadata": {},
   "outputs": [
    {
     "data": {
      "text/html": [
       "<div>\n",
       "<style scoped>\n",
       "    .dataframe tbody tr th:only-of-type {\n",
       "        vertical-align: middle;\n",
       "    }\n",
       "\n",
       "    .dataframe tbody tr th {\n",
       "        vertical-align: top;\n",
       "    }\n",
       "\n",
       "    .dataframe thead th {\n",
       "        text-align: right;\n",
       "    }\n",
       "</style>\n",
       "<table border=\"1\" class=\"dataframe\">\n",
       "  <thead>\n",
       "    <tr style=\"text-align: right;\">\n",
       "      <th></th>\n",
       "      <th>team_api_id</th>\n",
       "      <th>team_long_name</th>\n",
       "      <th>date</th>\n",
       "      <th>buildUpPlaySpeed</th>\n",
       "      <th>buildUpPlayPassing</th>\n",
       "      <th>chanceCreationPassing</th>\n",
       "      <th>chanceCreationCrossing</th>\n",
       "      <th>chanceCreationShooting</th>\n",
       "      <th>defencePressure</th>\n",
       "      <th>defenceAggression</th>\n",
       "    </tr>\n",
       "  </thead>\n",
       "  <tbody>\n",
       "    <tr>\n",
       "      <th>659</th>\n",
       "      <td>8203</td>\n",
       "      <td>KV Mechelen</td>\n",
       "      <td>2010-02-22 00:00:00</td>\n",
       "      <td>65</td>\n",
       "      <td>60</td>\n",
       "      <td>50</td>\n",
       "      <td>40</td>\n",
       "      <td>50</td>\n",
       "      <td>60</td>\n",
       "      <td>70</td>\n",
       "    </tr>\n",
       "    <tr>\n",
       "      <th>1161</th>\n",
       "      <td>8302</td>\n",
       "      <td>Sevilla FC</td>\n",
       "      <td>2015-09-10 00:00:00</td>\n",
       "      <td>53</td>\n",
       "      <td>53</td>\n",
       "      <td>53</td>\n",
       "      <td>52</td>\n",
       "      <td>60</td>\n",
       "      <td>42</td>\n",
       "      <td>48</td>\n",
       "    </tr>\n",
       "    <tr>\n",
       "      <th>675</th>\n",
       "      <td>8543</td>\n",
       "      <td>Lazio</td>\n",
       "      <td>2010-02-22 00:00:00</td>\n",
       "      <td>60</td>\n",
       "      <td>50</td>\n",
       "      <td>50</td>\n",
       "      <td>40</td>\n",
       "      <td>70</td>\n",
       "      <td>55</td>\n",
       "      <td>50</td>\n",
       "    </tr>\n",
       "    <tr>\n",
       "      <th>445</th>\n",
       "      <td>10243</td>\n",
       "      <td>FC Zürich</td>\n",
       "      <td>2010-02-22 00:00:00</td>\n",
       "      <td>45</td>\n",
       "      <td>60</td>\n",
       "      <td>45</td>\n",
       "      <td>70</td>\n",
       "      <td>50</td>\n",
       "      <td>50</td>\n",
       "      <td>55</td>\n",
       "    </tr>\n",
       "    <tr>\n",
       "      <th>767</th>\n",
       "      <td>8689</td>\n",
       "      <td>FC Lorient</td>\n",
       "      <td>2013-09-20 00:00:00</td>\n",
       "      <td>60</td>\n",
       "      <td>42</td>\n",
       "      <td>48</td>\n",
       "      <td>53</td>\n",
       "      <td>64</td>\n",
       "      <td>43</td>\n",
       "      <td>47</td>\n",
       "    </tr>\n",
       "  </tbody>\n",
       "</table>\n",
       "</div>"
      ],
      "text/plain": [
       "      team_api_id team_long_name                 date  buildUpPlaySpeed  \\\n",
       "659          8203    KV Mechelen  2010-02-22 00:00:00                65   \n",
       "1161         8302     Sevilla FC  2015-09-10 00:00:00                53   \n",
       "675          8543          Lazio  2010-02-22 00:00:00                60   \n",
       "445         10243      FC Zürich  2010-02-22 00:00:00                45   \n",
       "767          8689     FC Lorient  2013-09-20 00:00:00                60   \n",
       "\n",
       "      buildUpPlayPassing  chanceCreationPassing  chanceCreationCrossing  \\\n",
       "659                   60                     50                      40   \n",
       "1161                  53                     53                      52   \n",
       "675                   50                     50                      40   \n",
       "445                   60                     45                      70   \n",
       "767                   42                     48                      53   \n",
       "\n",
       "      chanceCreationShooting  defencePressure  defenceAggression  \n",
       "659                       50               60                 70  \n",
       "1161                      60               42                 48  \n",
       "675                       70               55                 50  \n",
       "445                       50               50                 55  \n",
       "767                       64               43                 47  "
      ]
     },
     "execution_count": 691,
     "metadata": {},
     "output_type": "execute_result"
    }
   ],
   "source": [
    "team_attr.sample(5) # before processing"
   ]
  },
  {
   "cell_type": "code",
   "execution_count": 692,
   "metadata": {},
   "outputs": [
    {
     "data": {
      "text/plain": [
       "Index(['team_api_id', 'team_long_name', 'date', 'buildUpPlaySpeed',\n",
       "       'buildUpPlayPassing', 'chanceCreationPassing', 'chanceCreationCrossing',\n",
       "       'chanceCreationShooting', 'defencePressure', 'defenceAggression'],\n",
       "      dtype='object')"
      ]
     },
     "execution_count": 692,
     "metadata": {},
     "output_type": "execute_result"
    }
   ],
   "source": [
    "team_attr.columns"
   ]
  },
  {
   "cell_type": "code",
   "execution_count": 693,
   "metadata": {},
   "outputs": [
    {
     "data": {
      "text/html": [
       "<div>\n",
       "<style scoped>\n",
       "    .dataframe tbody tr th:only-of-type {\n",
       "        vertical-align: middle;\n",
       "    }\n",
       "\n",
       "    .dataframe tbody tr th {\n",
       "        vertical-align: top;\n",
       "    }\n",
       "\n",
       "    .dataframe thead th {\n",
       "        text-align: right;\n",
       "    }\n",
       "</style>\n",
       "<table border=\"1\" class=\"dataframe\">\n",
       "  <thead>\n",
       "    <tr style=\"text-align: right;\">\n",
       "      <th></th>\n",
       "      <th>team_api_id</th>\n",
       "      <th>team_long_name</th>\n",
       "      <th>date</th>\n",
       "      <th>buildUpPlaySpeed</th>\n",
       "      <th>buildUpPlayPassing</th>\n",
       "      <th>chanceCreationPassing</th>\n",
       "      <th>chanceCreationCrossing</th>\n",
       "      <th>chanceCreationShooting</th>\n",
       "      <th>defencePressure</th>\n",
       "      <th>defenceAggression</th>\n",
       "    </tr>\n",
       "  </thead>\n",
       "  <tbody>\n",
       "    <tr>\n",
       "      <th>70</th>\n",
       "      <td>9825</td>\n",
       "      <td>Arsenal</td>\n",
       "      <td>2010-02-22 00:00:00</td>\n",
       "      <td>66</td>\n",
       "      <td>30</td>\n",
       "      <td>30</td>\n",
       "      <td>45</td>\n",
       "      <td>35</td>\n",
       "      <td>30</td>\n",
       "      <td>40</td>\n",
       "    </tr>\n",
       "    <tr>\n",
       "      <th>71</th>\n",
       "      <td>9825</td>\n",
       "      <td>Arsenal</td>\n",
       "      <td>2011-02-22 00:00:00</td>\n",
       "      <td>75</td>\n",
       "      <td>40</td>\n",
       "      <td>40</td>\n",
       "      <td>45</td>\n",
       "      <td>65</td>\n",
       "      <td>50</td>\n",
       "      <td>40</td>\n",
       "    </tr>\n",
       "    <tr>\n",
       "      <th>72</th>\n",
       "      <td>9825</td>\n",
       "      <td>Arsenal</td>\n",
       "      <td>2012-02-22 00:00:00</td>\n",
       "      <td>25</td>\n",
       "      <td>32</td>\n",
       "      <td>41</td>\n",
       "      <td>34</td>\n",
       "      <td>30</td>\n",
       "      <td>57</td>\n",
       "      <td>57</td>\n",
       "    </tr>\n",
       "    <tr>\n",
       "      <th>73</th>\n",
       "      <td>9825</td>\n",
       "      <td>Arsenal</td>\n",
       "      <td>2013-09-20 00:00:00</td>\n",
       "      <td>30</td>\n",
       "      <td>29</td>\n",
       "      <td>41</td>\n",
       "      <td>55</td>\n",
       "      <td>39</td>\n",
       "      <td>64</td>\n",
       "      <td>54</td>\n",
       "    </tr>\n",
       "    <tr>\n",
       "      <th>74</th>\n",
       "      <td>9825</td>\n",
       "      <td>Arsenal</td>\n",
       "      <td>2014-09-19 00:00:00</td>\n",
       "      <td>59</td>\n",
       "      <td>26</td>\n",
       "      <td>28</td>\n",
       "      <td>55</td>\n",
       "      <td>64</td>\n",
       "      <td>51</td>\n",
       "      <td>44</td>\n",
       "    </tr>\n",
       "    <tr>\n",
       "      <th>75</th>\n",
       "      <td>9825</td>\n",
       "      <td>Arsenal</td>\n",
       "      <td>2015-09-10 00:00:00</td>\n",
       "      <td>59</td>\n",
       "      <td>30</td>\n",
       "      <td>28</td>\n",
       "      <td>44</td>\n",
       "      <td>46</td>\n",
       "      <td>51</td>\n",
       "      <td>44</td>\n",
       "    </tr>\n",
       "    <tr>\n",
       "      <th>1384</th>\n",
       "      <td>8654</td>\n",
       "      <td>West Ham United</td>\n",
       "      <td>2010-02-22 00:00:00</td>\n",
       "      <td>58</td>\n",
       "      <td>30</td>\n",
       "      <td>31</td>\n",
       "      <td>70</td>\n",
       "      <td>50</td>\n",
       "      <td>30</td>\n",
       "      <td>70</td>\n",
       "    </tr>\n",
       "    <tr>\n",
       "      <th>1385</th>\n",
       "      <td>8654</td>\n",
       "      <td>West Ham United</td>\n",
       "      <td>2011-02-22 00:00:00</td>\n",
       "      <td>35</td>\n",
       "      <td>35</td>\n",
       "      <td>30</td>\n",
       "      <td>45</td>\n",
       "      <td>45</td>\n",
       "      <td>45</td>\n",
       "      <td>45</td>\n",
       "    </tr>\n",
       "    <tr>\n",
       "      <th>1386</th>\n",
       "      <td>8654</td>\n",
       "      <td>West Ham United</td>\n",
       "      <td>2012-02-22 00:00:00</td>\n",
       "      <td>63</td>\n",
       "      <td>64</td>\n",
       "      <td>44</td>\n",
       "      <td>60</td>\n",
       "      <td>55</td>\n",
       "      <td>30</td>\n",
       "      <td>34</td>\n",
       "    </tr>\n",
       "    <tr>\n",
       "      <th>1387</th>\n",
       "      <td>8654</td>\n",
       "      <td>West Ham United</td>\n",
       "      <td>2013-09-20 00:00:00</td>\n",
       "      <td>72</td>\n",
       "      <td>73</td>\n",
       "      <td>61</td>\n",
       "      <td>74</td>\n",
       "      <td>32</td>\n",
       "      <td>30</td>\n",
       "      <td>37</td>\n",
       "    </tr>\n",
       "    <tr>\n",
       "      <th>1388</th>\n",
       "      <td>8654</td>\n",
       "      <td>West Ham United</td>\n",
       "      <td>2014-09-19 00:00:00</td>\n",
       "      <td>72</td>\n",
       "      <td>73</td>\n",
       "      <td>68</td>\n",
       "      <td>71</td>\n",
       "      <td>32</td>\n",
       "      <td>30</td>\n",
       "      <td>34</td>\n",
       "    </tr>\n",
       "    <tr>\n",
       "      <th>1389</th>\n",
       "      <td>8654</td>\n",
       "      <td>West Ham United</td>\n",
       "      <td>2015-09-10 00:00:00</td>\n",
       "      <td>77</td>\n",
       "      <td>57</td>\n",
       "      <td>68</td>\n",
       "      <td>73</td>\n",
       "      <td>29</td>\n",
       "      <td>30</td>\n",
       "      <td>37</td>\n",
       "    </tr>\n",
       "  </tbody>\n",
       "</table>\n",
       "</div>"
      ],
      "text/plain": [
       "      team_api_id   team_long_name                 date  buildUpPlaySpeed  \\\n",
       "70           9825          Arsenal  2010-02-22 00:00:00                66   \n",
       "71           9825          Arsenal  2011-02-22 00:00:00                75   \n",
       "72           9825          Arsenal  2012-02-22 00:00:00                25   \n",
       "73           9825          Arsenal  2013-09-20 00:00:00                30   \n",
       "74           9825          Arsenal  2014-09-19 00:00:00                59   \n",
       "75           9825          Arsenal  2015-09-10 00:00:00                59   \n",
       "1384         8654  West Ham United  2010-02-22 00:00:00                58   \n",
       "1385         8654  West Ham United  2011-02-22 00:00:00                35   \n",
       "1386         8654  West Ham United  2012-02-22 00:00:00                63   \n",
       "1387         8654  West Ham United  2013-09-20 00:00:00                72   \n",
       "1388         8654  West Ham United  2014-09-19 00:00:00                72   \n",
       "1389         8654  West Ham United  2015-09-10 00:00:00                77   \n",
       "\n",
       "      buildUpPlayPassing  chanceCreationPassing  chanceCreationCrossing  \\\n",
       "70                    30                     30                      45   \n",
       "71                    40                     40                      45   \n",
       "72                    32                     41                      34   \n",
       "73                    29                     41                      55   \n",
       "74                    26                     28                      55   \n",
       "75                    30                     28                      44   \n",
       "1384                  30                     31                      70   \n",
       "1385                  35                     30                      45   \n",
       "1386                  64                     44                      60   \n",
       "1387                  73                     61                      74   \n",
       "1388                  73                     68                      71   \n",
       "1389                  57                     68                      73   \n",
       "\n",
       "      chanceCreationShooting  defencePressure  defenceAggression  \n",
       "70                        35               30                 40  \n",
       "71                        65               50                 40  \n",
       "72                        30               57                 57  \n",
       "73                        39               64                 54  \n",
       "74                        64               51                 44  \n",
       "75                        46               51                 44  \n",
       "1384                      50               30                 70  \n",
       "1385                      45               45                 45  \n",
       "1386                      55               30                 34  \n",
       "1387                      32               30                 37  \n",
       "1388                      32               30                 34  \n",
       "1389                      29               30                 37  "
      ]
     },
     "execution_count": 693,
     "metadata": {},
     "output_type": "execute_result"
    }
   ],
   "source": [
    "# spot check a team to see how this changes - West Ham United and Arsenal\n",
    "team_attr[team_attr['team_long_name'].isin(['West Ham United', 'Arsenal'])]"
   ]
  },
  {
   "cell_type": "code",
   "execution_count": 694,
   "metadata": {},
   "outputs": [],
   "source": [
    "# cast date to datetime\n",
    "team_attr['date'] = pd.to_datetime(team_attr['date'])\n",
    "\n",
    "# extract just the year from the date\n",
    "team_attr['date'] = team_attr['date'].dt.year"
   ]
  },
  {
   "cell_type": "code",
   "execution_count": 695,
   "metadata": {},
   "outputs": [
    {
     "data": {
      "text/html": [
       "<div>\n",
       "<style scoped>\n",
       "    .dataframe tbody tr th:only-of-type {\n",
       "        vertical-align: middle;\n",
       "    }\n",
       "\n",
       "    .dataframe tbody tr th {\n",
       "        vertical-align: top;\n",
       "    }\n",
       "\n",
       "    .dataframe thead th {\n",
       "        text-align: right;\n",
       "    }\n",
       "</style>\n",
       "<table border=\"1\" class=\"dataframe\">\n",
       "  <thead>\n",
       "    <tr style=\"text-align: right;\">\n",
       "      <th></th>\n",
       "      <th>team_api_id</th>\n",
       "      <th>team_long_name</th>\n",
       "      <th>date</th>\n",
       "      <th>buildUpPlaySpeed</th>\n",
       "      <th>buildUpPlayPassing</th>\n",
       "      <th>chanceCreationPassing</th>\n",
       "      <th>chanceCreationCrossing</th>\n",
       "      <th>chanceCreationShooting</th>\n",
       "      <th>defencePressure</th>\n",
       "      <th>defenceAggression</th>\n",
       "    </tr>\n",
       "  </thead>\n",
       "  <tbody>\n",
       "    <tr>\n",
       "      <th>154</th>\n",
       "      <td>10211</td>\n",
       "      <td>SC Beira Mar</td>\n",
       "      <td>2013</td>\n",
       "      <td>39</td>\n",
       "      <td>48</td>\n",
       "      <td>53</td>\n",
       "      <td>53</td>\n",
       "      <td>59</td>\n",
       "      <td>37</td>\n",
       "      <td>52</td>\n",
       "    </tr>\n",
       "    <tr>\n",
       "      <th>798</th>\n",
       "      <td>8661</td>\n",
       "      <td>RCD Mallorca</td>\n",
       "      <td>2014</td>\n",
       "      <td>62</td>\n",
       "      <td>57</td>\n",
       "      <td>53</td>\n",
       "      <td>57</td>\n",
       "      <td>53</td>\n",
       "      <td>59</td>\n",
       "      <td>41</td>\n",
       "    </tr>\n",
       "    <tr>\n",
       "      <th>222</th>\n",
       "      <td>4170</td>\n",
       "      <td>US Boulogne Cote D'Opale</td>\n",
       "      <td>2011</td>\n",
       "      <td>50</td>\n",
       "      <td>35</td>\n",
       "      <td>35</td>\n",
       "      <td>65</td>\n",
       "      <td>65</td>\n",
       "      <td>35</td>\n",
       "      <td>55</td>\n",
       "    </tr>\n",
       "    <tr>\n",
       "      <th>486</th>\n",
       "      <td>9987</td>\n",
       "      <td>KRC Genk</td>\n",
       "      <td>2012</td>\n",
       "      <td>53</td>\n",
       "      <td>55</td>\n",
       "      <td>55</td>\n",
       "      <td>48</td>\n",
       "      <td>56</td>\n",
       "      <td>47</td>\n",
       "      <td>45</td>\n",
       "    </tr>\n",
       "    <tr>\n",
       "      <th>1022</th>\n",
       "      <td>8696</td>\n",
       "      <td>Racing Santander</td>\n",
       "      <td>2013</td>\n",
       "      <td>47</td>\n",
       "      <td>44</td>\n",
       "      <td>61</td>\n",
       "      <td>71</td>\n",
       "      <td>50</td>\n",
       "      <td>50</td>\n",
       "      <td>50</td>\n",
       "    </tr>\n",
       "  </tbody>\n",
       "</table>\n",
       "</div>"
      ],
      "text/plain": [
       "      team_api_id            team_long_name  date  buildUpPlaySpeed  \\\n",
       "154         10211              SC Beira Mar  2013                39   \n",
       "798          8661              RCD Mallorca  2014                62   \n",
       "222          4170  US Boulogne Cote D'Opale  2011                50   \n",
       "486          9987                  KRC Genk  2012                53   \n",
       "1022         8696          Racing Santander  2013                47   \n",
       "\n",
       "      buildUpPlayPassing  chanceCreationPassing  chanceCreationCrossing  \\\n",
       "154                   48                     53                      53   \n",
       "798                   57                     53                      57   \n",
       "222                   35                     35                      65   \n",
       "486                   55                     55                      48   \n",
       "1022                  44                     61                      71   \n",
       "\n",
       "      chanceCreationShooting  defencePressure  defenceAggression  \n",
       "154                       59               37                 52  \n",
       "798                       53               59                 41  \n",
       "222                       65               35                 55  \n",
       "486                       56               47                 45  \n",
       "1022                      50               50                 50  "
      ]
     },
     "execution_count": 695,
     "metadata": {},
     "output_type": "execute_result"
    }
   ],
   "source": [
    "team_attr.sample(5)"
   ]
  },
  {
   "cell_type": "markdown",
   "metadata": {},
   "source": [
    "### Big SQL Query - team match results in England\n",
    "\n",
    "I want to create a df which has aggregated the win/loss/draw and avg goals scored for all teams in England (where the matches recorded are all from the Premier League).\n",
    "\n",
    "We will use CASE logic to match the team id only when it is specifically home or away to count the goals scored and the goals per match\n",
    "We can make it more granular later e.g. home wins/losses, away wins/losses if we want.\n",
    "\n",
    "We can also adjust the below code to add other leagues for if we wanted to check which teams are most dominant in their leagues."
   ]
  },
  {
   "cell_type": "code",
   "execution_count": 696,
   "metadata": {},
   "outputs": [],
   "source": [
    "sql_query = \"\"\"\n",
    "SELECT\n",
    "    Team.team_api_id,\n",
    "    Team.team_long_name AS name,\n",
    "    League.name AS league,\n",
    "    COUNT(Match.id) AS total_matches,\n",
    "    SUM(CASE\n",
    "                WHEN Match.home_team_api_id = Team.team_api_id THEN Match.home_team_goal\n",
    "                WHEN Match.away_team_api_id = Team.team_api_id THEN Match.away_team_goal\n",
    "                ELSE 0\n",
    "        END) AS total_GS,\n",
    "    SUM(CASE\n",
    "                WHEN Match.home_team_api_id = Team.team_api_id THEN Match.away_team_goal\n",
    "                WHEN Match.away_team_api_id = Team.team_api_id THEN Match.home_team_goal\n",
    "                ELSE 0\n",
    "        END) AS total_GA,\n",
    "    SUM(CASE \n",
    "                WHEN Match.home_team_api_id = Team.team_api_id AND Match.home_team_goal > Match.away_team_goal THEN 1\n",
    "                WHEN Match.away_team_api_id = Team.team_api_id AND Match.away_team_goal > Match.home_team_goal THEN 1\n",
    "                ELSE 0 \n",
    "        END) AS total_wins,\n",
    "    SUM(CASE\n",
    "                WHEN Match.home_team_api_id = Team.team_api_id AND Match.home_team_goal = Match.away_team_goal THEN 1\n",
    "                WHEN Match.away_team_api_id = Team.team_api_id AND Match.away_team_goal = Match.home_team_goal THEN 1\n",
    "                ELSE 0\n",
    "        END) AS total_draws,\n",
    "    SUM(CASE\n",
    "                WHEN Match.home_team_api_id = Team.team_api_id AND Match.home_team_goal < Match.away_team_goal THEN 1\n",
    "                WHEN Match.away_team_api_id = Team.team_api_id AND Match.away_team_goal < Match.home_team_goal THEN 1\n",
    "                ELSE 0\n",
    "        END) AS total_losses,\n",
    "    ROUND(AVG(CASE\n",
    "                WHEN Match.home_team_api_id = Team.team_api_id THEN Match.home_team_goal\n",
    "                WHEN Match.away_team_api_id = Team.team_api_id THEN Match.away_team_goal\n",
    "                ELSE 0\n",
    "        END), 2) AS avg_GS_per_match,\n",
    "    ROUND(AVG(CASE\n",
    "                WHEN Match.home_team_api_id = Team.team_api_id THEN Match.away_team_goal\n",
    "                WHEN Match.away_team_api_id = Team.team_api_id THEN Match.home_team_goal\n",
    "                ELSE 0\n",
    "        END), 2) AS avg_GA_per_match\n",
    "\n",
    "FROM Team\n",
    "\n",
    "LEFT JOIN Match ON Team.team_api_id IN (Match.home_team_api_id, Match.away_team_api_id)\n",
    "\n",
    "JOIN League ON League.id = Match.league_id\n",
    "\n",
    "WHERE Team.team_api_id IS NOT NULL AND League.id = 1729\n",
    "\n",
    "GROUP BY Team.team_long_name\n",
    "\n",
    "ORDER BY total_wins DESC;\n",
    "\"\"\""
   ]
  },
  {
   "cell_type": "code",
   "execution_count": 697,
   "metadata": {},
   "outputs": [],
   "source": [
    "# SQL query run\n",
    "\n",
    "big_stats = pd.read_sql_query(sql_query, conn)"
   ]
  },
  {
   "cell_type": "code",
   "execution_count": 698,
   "metadata": {},
   "outputs": [
    {
     "data": {
      "text/html": [
       "<div>\n",
       "<style scoped>\n",
       "    .dataframe tbody tr th:only-of-type {\n",
       "        vertical-align: middle;\n",
       "    }\n",
       "\n",
       "    .dataframe tbody tr th {\n",
       "        vertical-align: top;\n",
       "    }\n",
       "\n",
       "    .dataframe thead th {\n",
       "        text-align: right;\n",
       "    }\n",
       "</style>\n",
       "<table border=\"1\" class=\"dataframe\">\n",
       "  <thead>\n",
       "    <tr style=\"text-align: right;\">\n",
       "      <th></th>\n",
       "      <th>team_api_id</th>\n",
       "      <th>name</th>\n",
       "      <th>league</th>\n",
       "      <th>total_matches</th>\n",
       "      <th>total_GS</th>\n",
       "      <th>total_GA</th>\n",
       "      <th>total_wins</th>\n",
       "      <th>total_draws</th>\n",
       "      <th>total_losses</th>\n",
       "      <th>avg_GS_per_match</th>\n",
       "      <th>avg_GA_per_match</th>\n",
       "    </tr>\n",
       "  </thead>\n",
       "  <tbody>\n",
       "    <tr>\n",
       "      <th>0</th>\n",
       "      <td>10260</td>\n",
       "      <td>Manchester United</td>\n",
       "      <td>England Premier League</td>\n",
       "      <td>304</td>\n",
       "      <td>582</td>\n",
       "      <td>280</td>\n",
       "      <td>192</td>\n",
       "      <td>57</td>\n",
       "      <td>55</td>\n",
       "      <td>1.91</td>\n",
       "      <td>0.92</td>\n",
       "    </tr>\n",
       "    <tr>\n",
       "      <th>1</th>\n",
       "      <td>8455</td>\n",
       "      <td>Chelsea</td>\n",
       "      <td>England Premier League</td>\n",
       "      <td>304</td>\n",
       "      <td>583</td>\n",
       "      <td>286</td>\n",
       "      <td>176</td>\n",
       "      <td>70</td>\n",
       "      <td>58</td>\n",
       "      <td>1.92</td>\n",
       "      <td>0.94</td>\n",
       "    </tr>\n",
       "    <tr>\n",
       "      <th>2</th>\n",
       "      <td>8456</td>\n",
       "      <td>Manchester City</td>\n",
       "      <td>England Premier League</td>\n",
       "      <td>304</td>\n",
       "      <td>606</td>\n",
       "      <td>307</td>\n",
       "      <td>175</td>\n",
       "      <td>61</td>\n",
       "      <td>68</td>\n",
       "      <td>1.99</td>\n",
       "      <td>1.01</td>\n",
       "    </tr>\n",
       "    <tr>\n",
       "      <th>3</th>\n",
       "      <td>9825</td>\n",
       "      <td>Arsenal</td>\n",
       "      <td>England Premier League</td>\n",
       "      <td>304</td>\n",
       "      <td>573</td>\n",
       "      <td>320</td>\n",
       "      <td>170</td>\n",
       "      <td>73</td>\n",
       "      <td>61</td>\n",
       "      <td>1.88</td>\n",
       "      <td>1.05</td>\n",
       "    </tr>\n",
       "    <tr>\n",
       "      <th>4</th>\n",
       "      <td>8586</td>\n",
       "      <td>Tottenham Hotspur</td>\n",
       "      <td>England Premier League</td>\n",
       "      <td>304</td>\n",
       "      <td>481</td>\n",
       "      <td>358</td>\n",
       "      <td>151</td>\n",
       "      <td>74</td>\n",
       "      <td>79</td>\n",
       "      <td>1.58</td>\n",
       "      <td>1.18</td>\n",
       "    </tr>\n",
       "    <tr>\n",
       "      <th>5</th>\n",
       "      <td>8650</td>\n",
       "      <td>Liverpool</td>\n",
       "      <td>England Premier League</td>\n",
       "      <td>304</td>\n",
       "      <td>531</td>\n",
       "      <td>337</td>\n",
       "      <td>150</td>\n",
       "      <td>76</td>\n",
       "      <td>78</td>\n",
       "      <td>1.75</td>\n",
       "      <td>1.11</td>\n",
       "    </tr>\n",
       "    <tr>\n",
       "      <th>6</th>\n",
       "      <td>8668</td>\n",
       "      <td>Everton</td>\n",
       "      <td>England Premier League</td>\n",
       "      <td>304</td>\n",
       "      <td>439</td>\n",
       "      <td>355</td>\n",
       "      <td>121</td>\n",
       "      <td>100</td>\n",
       "      <td>83</td>\n",
       "      <td>1.44</td>\n",
       "      <td>1.17</td>\n",
       "    </tr>\n",
       "    <tr>\n",
       "      <th>7</th>\n",
       "      <td>10194</td>\n",
       "      <td>Stoke City</td>\n",
       "      <td>England Premier League</td>\n",
       "      <td>304</td>\n",
       "      <td>322</td>\n",
       "      <td>401</td>\n",
       "      <td>98</td>\n",
       "      <td>86</td>\n",
       "      <td>120</td>\n",
       "      <td>1.06</td>\n",
       "      <td>1.32</td>\n",
       "    </tr>\n",
       "    <tr>\n",
       "      <th>8</th>\n",
       "      <td>10252</td>\n",
       "      <td>Aston Villa</td>\n",
       "      <td>England Premier League</td>\n",
       "      <td>304</td>\n",
       "      <td>335</td>\n",
       "      <td>462</td>\n",
       "      <td>86</td>\n",
       "      <td>88</td>\n",
       "      <td>130</td>\n",
       "      <td>1.10</td>\n",
       "      <td>1.52</td>\n",
       "    </tr>\n",
       "    <tr>\n",
       "      <th>9</th>\n",
       "      <td>10261</td>\n",
       "      <td>Newcastle United</td>\n",
       "      <td>England Premier League</td>\n",
       "      <td>266</td>\n",
       "      <td>324</td>\n",
       "      <td>422</td>\n",
       "      <td>82</td>\n",
       "      <td>65</td>\n",
       "      <td>119</td>\n",
       "      <td>1.22</td>\n",
       "      <td>1.59</td>\n",
       "    </tr>\n",
       "    <tr>\n",
       "      <th>10</th>\n",
       "      <td>8654</td>\n",
       "      <td>West Ham United</td>\n",
       "      <td>England Premier League</td>\n",
       "      <td>266</td>\n",
       "      <td>326</td>\n",
       "      <td>383</td>\n",
       "      <td>80</td>\n",
       "      <td>74</td>\n",
       "      <td>112</td>\n",
       "      <td>1.23</td>\n",
       "      <td>1.44</td>\n",
       "    </tr>\n",
       "    <tr>\n",
       "      <th>11</th>\n",
       "      <td>8472</td>\n",
       "      <td>Sunderland</td>\n",
       "      <td>England Premier League</td>\n",
       "      <td>304</td>\n",
       "      <td>333</td>\n",
       "      <td>441</td>\n",
       "      <td>78</td>\n",
       "      <td>92</td>\n",
       "      <td>134</td>\n",
       "      <td>1.10</td>\n",
       "      <td>1.45</td>\n",
       "    </tr>\n",
       "    <tr>\n",
       "      <th>12</th>\n",
       "      <td>8659</td>\n",
       "      <td>West Bromwich Albion</td>\n",
       "      <td>England Premier League</td>\n",
       "      <td>266</td>\n",
       "      <td>305</td>\n",
       "      <td>405</td>\n",
       "      <td>75</td>\n",
       "      <td>73</td>\n",
       "      <td>118</td>\n",
       "      <td>1.15</td>\n",
       "      <td>1.52</td>\n",
       "    </tr>\n",
       "    <tr>\n",
       "      <th>13</th>\n",
       "      <td>9879</td>\n",
       "      <td>Fulham</td>\n",
       "      <td>England Premier League</td>\n",
       "      <td>228</td>\n",
       "      <td>265</td>\n",
       "      <td>319</td>\n",
       "      <td>71</td>\n",
       "      <td>62</td>\n",
       "      <td>95</td>\n",
       "      <td>1.16</td>\n",
       "      <td>1.40</td>\n",
       "    </tr>\n",
       "    <tr>\n",
       "      <th>14</th>\n",
       "      <td>10003</td>\n",
       "      <td>Swansea City</td>\n",
       "      <td>England Premier League</td>\n",
       "      <td>190</td>\n",
       "      <td>233</td>\n",
       "      <td>257</td>\n",
       "      <td>62</td>\n",
       "      <td>52</td>\n",
       "      <td>76</td>\n",
       "      <td>1.23</td>\n",
       "      <td>1.35</td>\n",
       "    </tr>\n",
       "    <tr>\n",
       "      <th>15</th>\n",
       "      <td>8466</td>\n",
       "      <td>Southampton</td>\n",
       "      <td>England Premier League</td>\n",
       "      <td>152</td>\n",
       "      <td>216</td>\n",
       "      <td>180</td>\n",
       "      <td>60</td>\n",
       "      <td>40</td>\n",
       "      <td>52</td>\n",
       "      <td>1.42</td>\n",
       "      <td>1.18</td>\n",
       "    </tr>\n",
       "    <tr>\n",
       "      <th>16</th>\n",
       "      <td>8528</td>\n",
       "      <td>Wigan Athletic</td>\n",
       "      <td>England Premier League</td>\n",
       "      <td>190</td>\n",
       "      <td>200</td>\n",
       "      <td>320</td>\n",
       "      <td>50</td>\n",
       "      <td>52</td>\n",
       "      <td>88</td>\n",
       "      <td>1.05</td>\n",
       "      <td>1.68</td>\n",
       "    </tr>\n",
       "    <tr>\n",
       "      <th>17</th>\n",
       "      <td>8559</td>\n",
       "      <td>Bolton Wanderers</td>\n",
       "      <td>England Premier League</td>\n",
       "      <td>152</td>\n",
       "      <td>181</td>\n",
       "      <td>253</td>\n",
       "      <td>43</td>\n",
       "      <td>33</td>\n",
       "      <td>76</td>\n",
       "      <td>1.19</td>\n",
       "      <td>1.66</td>\n",
       "    </tr>\n",
       "    <tr>\n",
       "      <th>18</th>\n",
       "      <td>8655</td>\n",
       "      <td>Blackburn Rovers</td>\n",
       "      <td>England Premier League</td>\n",
       "      <td>152</td>\n",
       "      <td>175</td>\n",
       "      <td>252</td>\n",
       "      <td>42</td>\n",
       "      <td>39</td>\n",
       "      <td>71</td>\n",
       "      <td>1.15</td>\n",
       "      <td>1.66</td>\n",
       "    </tr>\n",
       "    <tr>\n",
       "      <th>19</th>\n",
       "      <td>9850</td>\n",
       "      <td>Norwich City</td>\n",
       "      <td>England Premier League</td>\n",
       "      <td>152</td>\n",
       "      <td>160</td>\n",
       "      <td>253</td>\n",
       "      <td>39</td>\n",
       "      <td>41</td>\n",
       "      <td>72</td>\n",
       "      <td>1.05</td>\n",
       "      <td>1.66</td>\n",
       "    </tr>\n",
       "    <tr>\n",
       "      <th>20</th>\n",
       "      <td>9826</td>\n",
       "      <td>Crystal Palace</td>\n",
       "      <td>England Premier League</td>\n",
       "      <td>114</td>\n",
       "      <td>119</td>\n",
       "      <td>150</td>\n",
       "      <td>37</td>\n",
       "      <td>24</td>\n",
       "      <td>53</td>\n",
       "      <td>1.04</td>\n",
       "      <td>1.32</td>\n",
       "    </tr>\n",
       "    <tr>\n",
       "      <th>21</th>\n",
       "      <td>8197</td>\n",
       "      <td>Leicester City</td>\n",
       "      <td>England Premier League</td>\n",
       "      <td>76</td>\n",
       "      <td>114</td>\n",
       "      <td>91</td>\n",
       "      <td>34</td>\n",
       "      <td>20</td>\n",
       "      <td>22</td>\n",
       "      <td>1.50</td>\n",
       "      <td>1.20</td>\n",
       "    </tr>\n",
       "    <tr>\n",
       "      <th>22</th>\n",
       "      <td>8667</td>\n",
       "      <td>Hull City</td>\n",
       "      <td>England Premier League</td>\n",
       "      <td>152</td>\n",
       "      <td>144</td>\n",
       "      <td>243</td>\n",
       "      <td>32</td>\n",
       "      <td>41</td>\n",
       "      <td>79</td>\n",
       "      <td>0.95</td>\n",
       "      <td>1.60</td>\n",
       "    </tr>\n",
       "    <tr>\n",
       "      <th>23</th>\n",
       "      <td>8602</td>\n",
       "      <td>Wolverhampton Wanderers</td>\n",
       "      <td>England Premier League</td>\n",
       "      <td>114</td>\n",
       "      <td>118</td>\n",
       "      <td>204</td>\n",
       "      <td>25</td>\n",
       "      <td>28</td>\n",
       "      <td>61</td>\n",
       "      <td>1.04</td>\n",
       "      <td>1.79</td>\n",
       "    </tr>\n",
       "    <tr>\n",
       "      <th>24</th>\n",
       "      <td>10172</td>\n",
       "      <td>Queens Park Rangers</td>\n",
       "      <td>England Premier League</td>\n",
       "      <td>114</td>\n",
       "      <td>115</td>\n",
       "      <td>199</td>\n",
       "      <td>22</td>\n",
       "      <td>26</td>\n",
       "      <td>66</td>\n",
       "      <td>1.01</td>\n",
       "      <td>1.75</td>\n",
       "    </tr>\n",
       "    <tr>\n",
       "      <th>25</th>\n",
       "      <td>8658</td>\n",
       "      <td>Birmingham City</td>\n",
       "      <td>England Premier League</td>\n",
       "      <td>76</td>\n",
       "      <td>75</td>\n",
       "      <td>105</td>\n",
       "      <td>21</td>\n",
       "      <td>26</td>\n",
       "      <td>29</td>\n",
       "      <td>0.99</td>\n",
       "      <td>1.38</td>\n",
       "    </tr>\n",
       "    <tr>\n",
       "      <th>26</th>\n",
       "      <td>8462</td>\n",
       "      <td>Portsmouth</td>\n",
       "      <td>England Premier League</td>\n",
       "      <td>76</td>\n",
       "      <td>72</td>\n",
       "      <td>123</td>\n",
       "      <td>17</td>\n",
       "      <td>18</td>\n",
       "      <td>41</td>\n",
       "      <td>0.95</td>\n",
       "      <td>1.62</td>\n",
       "    </tr>\n",
       "    <tr>\n",
       "      <th>27</th>\n",
       "      <td>8191</td>\n",
       "      <td>Burnley</td>\n",
       "      <td>England Premier League</td>\n",
       "      <td>76</td>\n",
       "      <td>70</td>\n",
       "      <td>135</td>\n",
       "      <td>15</td>\n",
       "      <td>18</td>\n",
       "      <td>43</td>\n",
       "      <td>0.92</td>\n",
       "      <td>1.78</td>\n",
       "    </tr>\n",
       "    <tr>\n",
       "      <th>28</th>\n",
       "      <td>9817</td>\n",
       "      <td>Watford</td>\n",
       "      <td>England Premier League</td>\n",
       "      <td>38</td>\n",
       "      <td>40</td>\n",
       "      <td>50</td>\n",
       "      <td>12</td>\n",
       "      <td>9</td>\n",
       "      <td>17</td>\n",
       "      <td>1.05</td>\n",
       "      <td>1.32</td>\n",
       "    </tr>\n",
       "    <tr>\n",
       "      <th>29</th>\n",
       "      <td>8678</td>\n",
       "      <td>Bournemouth</td>\n",
       "      <td>England Premier League</td>\n",
       "      <td>38</td>\n",
       "      <td>45</td>\n",
       "      <td>67</td>\n",
       "      <td>11</td>\n",
       "      <td>9</td>\n",
       "      <td>18</td>\n",
       "      <td>1.18</td>\n",
       "      <td>1.76</td>\n",
       "    </tr>\n",
       "    <tr>\n",
       "      <th>30</th>\n",
       "      <td>8483</td>\n",
       "      <td>Blackpool</td>\n",
       "      <td>England Premier League</td>\n",
       "      <td>38</td>\n",
       "      <td>55</td>\n",
       "      <td>78</td>\n",
       "      <td>10</td>\n",
       "      <td>9</td>\n",
       "      <td>19</td>\n",
       "      <td>1.45</td>\n",
       "      <td>2.05</td>\n",
       "    </tr>\n",
       "    <tr>\n",
       "      <th>31</th>\n",
       "      <td>8549</td>\n",
       "      <td>Middlesbrough</td>\n",
       "      <td>England Premier League</td>\n",
       "      <td>38</td>\n",
       "      <td>28</td>\n",
       "      <td>57</td>\n",
       "      <td>7</td>\n",
       "      <td>11</td>\n",
       "      <td>20</td>\n",
       "      <td>0.74</td>\n",
       "      <td>1.50</td>\n",
       "    </tr>\n",
       "    <tr>\n",
       "      <th>32</th>\n",
       "      <td>8344</td>\n",
       "      <td>Cardiff City</td>\n",
       "      <td>England Premier League</td>\n",
       "      <td>38</td>\n",
       "      <td>32</td>\n",
       "      <td>74</td>\n",
       "      <td>7</td>\n",
       "      <td>9</td>\n",
       "      <td>22</td>\n",
       "      <td>0.84</td>\n",
       "      <td>1.95</td>\n",
       "    </tr>\n",
       "    <tr>\n",
       "      <th>33</th>\n",
       "      <td>9798</td>\n",
       "      <td>Reading</td>\n",
       "      <td>England Premier League</td>\n",
       "      <td>38</td>\n",
       "      <td>43</td>\n",
       "      <td>73</td>\n",
       "      <td>6</td>\n",
       "      <td>10</td>\n",
       "      <td>22</td>\n",
       "      <td>1.13</td>\n",
       "      <td>1.92</td>\n",
       "    </tr>\n",
       "  </tbody>\n",
       "</table>\n",
       "</div>"
      ],
      "text/plain": [
       "    team_api_id                     name                  league  \\\n",
       "0         10260        Manchester United  England Premier League   \n",
       "1          8455                  Chelsea  England Premier League   \n",
       "2          8456          Manchester City  England Premier League   \n",
       "3          9825                  Arsenal  England Premier League   \n",
       "4          8586        Tottenham Hotspur  England Premier League   \n",
       "5          8650                Liverpool  England Premier League   \n",
       "6          8668                  Everton  England Premier League   \n",
       "7         10194               Stoke City  England Premier League   \n",
       "8         10252              Aston Villa  England Premier League   \n",
       "9         10261         Newcastle United  England Premier League   \n",
       "10         8654          West Ham United  England Premier League   \n",
       "11         8472               Sunderland  England Premier League   \n",
       "12         8659     West Bromwich Albion  England Premier League   \n",
       "13         9879                   Fulham  England Premier League   \n",
       "14        10003             Swansea City  England Premier League   \n",
       "15         8466              Southampton  England Premier League   \n",
       "16         8528           Wigan Athletic  England Premier League   \n",
       "17         8559         Bolton Wanderers  England Premier League   \n",
       "18         8655         Blackburn Rovers  England Premier League   \n",
       "19         9850             Norwich City  England Premier League   \n",
       "20         9826           Crystal Palace  England Premier League   \n",
       "21         8197           Leicester City  England Premier League   \n",
       "22         8667                Hull City  England Premier League   \n",
       "23         8602  Wolverhampton Wanderers  England Premier League   \n",
       "24        10172      Queens Park Rangers  England Premier League   \n",
       "25         8658          Birmingham City  England Premier League   \n",
       "26         8462               Portsmouth  England Premier League   \n",
       "27         8191                  Burnley  England Premier League   \n",
       "28         9817                  Watford  England Premier League   \n",
       "29         8678              Bournemouth  England Premier League   \n",
       "30         8483                Blackpool  England Premier League   \n",
       "31         8549            Middlesbrough  England Premier League   \n",
       "32         8344             Cardiff City  England Premier League   \n",
       "33         9798                  Reading  England Premier League   \n",
       "\n",
       "    total_matches  total_GS  total_GA  total_wins  total_draws  total_losses  \\\n",
       "0             304       582       280         192           57            55   \n",
       "1             304       583       286         176           70            58   \n",
       "2             304       606       307         175           61            68   \n",
       "3             304       573       320         170           73            61   \n",
       "4             304       481       358         151           74            79   \n",
       "5             304       531       337         150           76            78   \n",
       "6             304       439       355         121          100            83   \n",
       "7             304       322       401          98           86           120   \n",
       "8             304       335       462          86           88           130   \n",
       "9             266       324       422          82           65           119   \n",
       "10            266       326       383          80           74           112   \n",
       "11            304       333       441          78           92           134   \n",
       "12            266       305       405          75           73           118   \n",
       "13            228       265       319          71           62            95   \n",
       "14            190       233       257          62           52            76   \n",
       "15            152       216       180          60           40            52   \n",
       "16            190       200       320          50           52            88   \n",
       "17            152       181       253          43           33            76   \n",
       "18            152       175       252          42           39            71   \n",
       "19            152       160       253          39           41            72   \n",
       "20            114       119       150          37           24            53   \n",
       "21             76       114        91          34           20            22   \n",
       "22            152       144       243          32           41            79   \n",
       "23            114       118       204          25           28            61   \n",
       "24            114       115       199          22           26            66   \n",
       "25             76        75       105          21           26            29   \n",
       "26             76        72       123          17           18            41   \n",
       "27             76        70       135          15           18            43   \n",
       "28             38        40        50          12            9            17   \n",
       "29             38        45        67          11            9            18   \n",
       "30             38        55        78          10            9            19   \n",
       "31             38        28        57           7           11            20   \n",
       "32             38        32        74           7            9            22   \n",
       "33             38        43        73           6           10            22   \n",
       "\n",
       "    avg_GS_per_match  avg_GA_per_match  \n",
       "0               1.91              0.92  \n",
       "1               1.92              0.94  \n",
       "2               1.99              1.01  \n",
       "3               1.88              1.05  \n",
       "4               1.58              1.18  \n",
       "5               1.75              1.11  \n",
       "6               1.44              1.17  \n",
       "7               1.06              1.32  \n",
       "8               1.10              1.52  \n",
       "9               1.22              1.59  \n",
       "10              1.23              1.44  \n",
       "11              1.10              1.45  \n",
       "12              1.15              1.52  \n",
       "13              1.16              1.40  \n",
       "14              1.23              1.35  \n",
       "15              1.42              1.18  \n",
       "16              1.05              1.68  \n",
       "17              1.19              1.66  \n",
       "18              1.15              1.66  \n",
       "19              1.05              1.66  \n",
       "20              1.04              1.32  \n",
       "21              1.50              1.20  \n",
       "22              0.95              1.60  \n",
       "23              1.04              1.79  \n",
       "24              1.01              1.75  \n",
       "25              0.99              1.38  \n",
       "26              0.95              1.62  \n",
       "27              0.92              1.78  \n",
       "28              1.05              1.32  \n",
       "29              1.18              1.76  \n",
       "30              1.45              2.05  \n",
       "31              0.74              1.50  \n",
       "32              0.84              1.95  \n",
       "33              1.13              1.92  "
      ]
     },
     "execution_count": 698,
     "metadata": {},
     "output_type": "execute_result"
    }
   ],
   "source": [
    "big_stats"
   ]
  },
  {
   "cell_type": "code",
   "execution_count": 699,
   "metadata": {},
   "outputs": [
    {
     "data": {
      "text/plain": [
       "team_api_id           int64\n",
       "name                 object\n",
       "league               object\n",
       "total_matches         int64\n",
       "total_GS              int64\n",
       "total_GA              int64\n",
       "total_wins            int64\n",
       "total_draws           int64\n",
       "total_losses          int64\n",
       "avg_GS_per_match    float64\n",
       "avg_GA_per_match    float64\n",
       "dtype: object"
      ]
     },
     "execution_count": 699,
     "metadata": {},
     "output_type": "execute_result"
    }
   ],
   "source": [
    "big_stats.dtypes # types look good"
   ]
  },
  {
   "cell_type": "code",
   "execution_count": 700,
   "metadata": {},
   "outputs": [],
   "source": [
    "# close the SQL connection\n",
    "conn.close()"
   ]
  },
  {
   "cell_type": "markdown",
   "metadata": {},
   "source": [
    "## Progress Check - SQL and Pandas\n",
    "\n",
    "We have:\n",
    "\n",
    "- `player_attr` player overall attribute for every year, which can be summed and averaged in the match data table, with player_api to connect to the team\n",
    "- `team_attr` team statistics, with team_api_id and the date. If we have issues with nulls, we may want to start with just the 2010 - 2015 or 2016 years as some team attribute data is missing from 2008-2009\n",
    "- `big_stats` aggregated team results for the 33 teams who have competed in the premier league in this 2008-2016 window\n",
    "- `prem` which is a modified match table where all of this will be aggregated."
   ]
  },
  {
   "cell_type": "code",
   "execution_count": 701,
   "metadata": {},
   "outputs": [
    {
     "data": {
      "text/html": [
       "<div>\n",
       "<style scoped>\n",
       "    .dataframe tbody tr th:only-of-type {\n",
       "        vertical-align: middle;\n",
       "    }\n",
       "\n",
       "    .dataframe tbody tr th {\n",
       "        vertical-align: top;\n",
       "    }\n",
       "\n",
       "    .dataframe thead th {\n",
       "        text-align: right;\n",
       "    }\n",
       "</style>\n",
       "<table border=\"1\" class=\"dataframe\">\n",
       "  <thead>\n",
       "    <tr style=\"text-align: right;\">\n",
       "      <th></th>\n",
       "      <th>team_api_id</th>\n",
       "      <th>team_long_name</th>\n",
       "      <th>date</th>\n",
       "      <th>buildUpPlaySpeed</th>\n",
       "      <th>buildUpPlayPassing</th>\n",
       "      <th>chanceCreationPassing</th>\n",
       "      <th>chanceCreationCrossing</th>\n",
       "      <th>chanceCreationShooting</th>\n",
       "      <th>defencePressure</th>\n",
       "      <th>defenceAggression</th>\n",
       "    </tr>\n",
       "  </thead>\n",
       "  <tbody>\n",
       "    <tr>\n",
       "      <th>478</th>\n",
       "      <td>9879</td>\n",
       "      <td>Fulham</td>\n",
       "      <td>2010</td>\n",
       "      <td>60</td>\n",
       "      <td>70</td>\n",
       "      <td>70</td>\n",
       "      <td>70</td>\n",
       "      <td>50</td>\n",
       "      <td>40</td>\n",
       "      <td>35</td>\n",
       "    </tr>\n",
       "    <tr>\n",
       "      <th>479</th>\n",
       "      <td>9879</td>\n",
       "      <td>Fulham</td>\n",
       "      <td>2011</td>\n",
       "      <td>50</td>\n",
       "      <td>55</td>\n",
       "      <td>45</td>\n",
       "      <td>55</td>\n",
       "      <td>40</td>\n",
       "      <td>45</td>\n",
       "      <td>35</td>\n",
       "    </tr>\n",
       "    <tr>\n",
       "      <th>480</th>\n",
       "      <td>9879</td>\n",
       "      <td>Fulham</td>\n",
       "      <td>2012</td>\n",
       "      <td>48</td>\n",
       "      <td>45</td>\n",
       "      <td>38</td>\n",
       "      <td>62</td>\n",
       "      <td>54</td>\n",
       "      <td>38</td>\n",
       "      <td>38</td>\n",
       "    </tr>\n",
       "    <tr>\n",
       "      <th>481</th>\n",
       "      <td>9879</td>\n",
       "      <td>Fulham</td>\n",
       "      <td>2013</td>\n",
       "      <td>52</td>\n",
       "      <td>49</td>\n",
       "      <td>49</td>\n",
       "      <td>56</td>\n",
       "      <td>59</td>\n",
       "      <td>39</td>\n",
       "      <td>39</td>\n",
       "    </tr>\n",
       "    <tr>\n",
       "      <th>482</th>\n",
       "      <td>9879</td>\n",
       "      <td>Fulham</td>\n",
       "      <td>2014</td>\n",
       "      <td>52</td>\n",
       "      <td>56</td>\n",
       "      <td>58</td>\n",
       "      <td>41</td>\n",
       "      <td>54</td>\n",
       "      <td>29</td>\n",
       "      <td>28</td>\n",
       "    </tr>\n",
       "    <tr>\n",
       "      <th>483</th>\n",
       "      <td>9879</td>\n",
       "      <td>Fulham</td>\n",
       "      <td>2015</td>\n",
       "      <td>52</td>\n",
       "      <td>48</td>\n",
       "      <td>39</td>\n",
       "      <td>54</td>\n",
       "      <td>59</td>\n",
       "      <td>29</td>\n",
       "      <td>30</td>\n",
       "    </tr>\n",
       "    <tr>\n",
       "      <th>829</th>\n",
       "      <td>8549</td>\n",
       "      <td>Middlesbrough</td>\n",
       "      <td>2010</td>\n",
       "      <td>70</td>\n",
       "      <td>70</td>\n",
       "      <td>70</td>\n",
       "      <td>70</td>\n",
       "      <td>50</td>\n",
       "      <td>30</td>\n",
       "      <td>70</td>\n",
       "    </tr>\n",
       "    <tr>\n",
       "      <th>830</th>\n",
       "      <td>8549</td>\n",
       "      <td>Middlesbrough</td>\n",
       "      <td>2011</td>\n",
       "      <td>66</td>\n",
       "      <td>51</td>\n",
       "      <td>64</td>\n",
       "      <td>64</td>\n",
       "      <td>48</td>\n",
       "      <td>54</td>\n",
       "      <td>44</td>\n",
       "    </tr>\n",
       "    <tr>\n",
       "      <th>831</th>\n",
       "      <td>8549</td>\n",
       "      <td>Middlesbrough</td>\n",
       "      <td>2012</td>\n",
       "      <td>60</td>\n",
       "      <td>72</td>\n",
       "      <td>40</td>\n",
       "      <td>56</td>\n",
       "      <td>72</td>\n",
       "      <td>38</td>\n",
       "      <td>42</td>\n",
       "    </tr>\n",
       "    <tr>\n",
       "      <th>832</th>\n",
       "      <td>8549</td>\n",
       "      <td>Middlesbrough</td>\n",
       "      <td>2013</td>\n",
       "      <td>60</td>\n",
       "      <td>40</td>\n",
       "      <td>40</td>\n",
       "      <td>56</td>\n",
       "      <td>57</td>\n",
       "      <td>38</td>\n",
       "      <td>42</td>\n",
       "    </tr>\n",
       "    <tr>\n",
       "      <th>833</th>\n",
       "      <td>8549</td>\n",
       "      <td>Middlesbrough</td>\n",
       "      <td>2014</td>\n",
       "      <td>60</td>\n",
       "      <td>56</td>\n",
       "      <td>49</td>\n",
       "      <td>56</td>\n",
       "      <td>72</td>\n",
       "      <td>38</td>\n",
       "      <td>42</td>\n",
       "    </tr>\n",
       "    <tr>\n",
       "      <th>834</th>\n",
       "      <td>8549</td>\n",
       "      <td>Middlesbrough</td>\n",
       "      <td>2015</td>\n",
       "      <td>60</td>\n",
       "      <td>46</td>\n",
       "      <td>43</td>\n",
       "      <td>55</td>\n",
       "      <td>37</td>\n",
       "      <td>38</td>\n",
       "      <td>42</td>\n",
       "    </tr>\n",
       "  </tbody>\n",
       "</table>\n",
       "</div>"
      ],
      "text/plain": [
       "     team_api_id team_long_name  date  buildUpPlaySpeed  buildUpPlayPassing  \\\n",
       "478         9879         Fulham  2010                60                  70   \n",
       "479         9879         Fulham  2011                50                  55   \n",
       "480         9879         Fulham  2012                48                  45   \n",
       "481         9879         Fulham  2013                52                  49   \n",
       "482         9879         Fulham  2014                52                  56   \n",
       "483         9879         Fulham  2015                52                  48   \n",
       "829         8549  Middlesbrough  2010                70                  70   \n",
       "830         8549  Middlesbrough  2011                66                  51   \n",
       "831         8549  Middlesbrough  2012                60                  72   \n",
       "832         8549  Middlesbrough  2013                60                  40   \n",
       "833         8549  Middlesbrough  2014                60                  56   \n",
       "834         8549  Middlesbrough  2015                60                  46   \n",
       "\n",
       "     chanceCreationPassing  chanceCreationCrossing  chanceCreationShooting  \\\n",
       "478                     70                      70                      50   \n",
       "479                     45                      55                      40   \n",
       "480                     38                      62                      54   \n",
       "481                     49                      56                      59   \n",
       "482                     58                      41                      54   \n",
       "483                     39                      54                      59   \n",
       "829                     70                      70                      50   \n",
       "830                     64                      64                      48   \n",
       "831                     40                      56                      72   \n",
       "832                     40                      56                      57   \n",
       "833                     49                      56                      72   \n",
       "834                     43                      55                      37   \n",
       "\n",
       "     defencePressure  defenceAggression  \n",
       "478               40                 35  \n",
       "479               45                 35  \n",
       "480               38                 38  \n",
       "481               39                 39  \n",
       "482               29                 28  \n",
       "483               29                 30  \n",
       "829               30                 70  \n",
       "830               54                 44  \n",
       "831               38                 42  \n",
       "832               38                 42  \n",
       "833               38                 42  \n",
       "834               38                 42  "
      ]
     },
     "execution_count": 701,
     "metadata": {},
     "output_type": "execute_result"
    }
   ],
   "source": [
    "# spot check the team_attr for teams that could be pulled in\n",
    "team_attr[team_attr['team_long_name'].isin(['Middlesbrough', 'Fulham'])]"
   ]
  },
  {
   "cell_type": "markdown",
   "metadata": {},
   "source": [
    "### Sample Pulse Check for the four dfs"
   ]
  },
  {
   "cell_type": "code",
   "execution_count": 702,
   "metadata": {},
   "outputs": [
    {
     "data": {
      "text/html": [
       "<div>\n",
       "<style scoped>\n",
       "    .dataframe tbody tr th:only-of-type {\n",
       "        vertical-align: middle;\n",
       "    }\n",
       "\n",
       "    .dataframe tbody tr th {\n",
       "        vertical-align: top;\n",
       "    }\n",
       "\n",
       "    .dataframe thead th {\n",
       "        text-align: right;\n",
       "    }\n",
       "</style>\n",
       "<table border=\"1\" class=\"dataframe\">\n",
       "  <thead>\n",
       "    <tr style=\"text-align: right;\">\n",
       "      <th></th>\n",
       "      <th>id</th>\n",
       "      <th>season</th>\n",
       "      <th>Round / 38</th>\n",
       "      <th>date</th>\n",
       "      <th>match_api_id</th>\n",
       "      <th>Home ID</th>\n",
       "      <th>Away ID</th>\n",
       "      <th>Home GS</th>\n",
       "      <th>Away GS</th>\n",
       "      <th>Result</th>\n",
       "      <th>...</th>\n",
       "      <th>shoton</th>\n",
       "      <th>shotoff</th>\n",
       "      <th>foulcommit</th>\n",
       "      <th>card</th>\n",
       "      <th>cross</th>\n",
       "      <th>corner</th>\n",
       "      <th>possession</th>\n",
       "      <th>goal_parsed</th>\n",
       "      <th>goal_comments</th>\n",
       "      <th>goal_subtypes</th>\n",
       "    </tr>\n",
       "  </thead>\n",
       "  <tbody>\n",
       "    <tr>\n",
       "      <th>2361</th>\n",
       "      <td>2362</td>\n",
       "      <td>09/10</td>\n",
       "      <td>32</td>\n",
       "      <td>2010-03-27</td>\n",
       "      <td>659132</td>\n",
       "      <td>8559</td>\n",
       "      <td>10260</td>\n",
       "      <td>0</td>\n",
       "      <td>4</td>\n",
       "      <td>-1</td>\n",
       "      <td>...</td>\n",
       "      <td>&lt;shoton&gt;&lt;value&gt;&lt;stats&gt;&lt;blocked&gt;1&lt;/blocked&gt;&lt;/st...</td>\n",
       "      <td>&lt;shotoff&gt;&lt;value&gt;&lt;stats&gt;&lt;shotoff&gt;1&lt;/shotoff&gt;&lt;/s...</td>\n",
       "      <td>&lt;foulcommit&gt;&lt;value&gt;&lt;stats&gt;&lt;foulscommitted&gt;1&lt;/f...</td>\n",
       "      <td>&lt;card /&gt;</td>\n",
       "      <td>&lt;cross&gt;&lt;value&gt;&lt;stats&gt;&lt;crosses&gt;1&lt;/crosses&gt;&lt;/sta...</td>\n",
       "      <td>&lt;corner&gt;&lt;value&gt;&lt;stats&gt;&lt;corners&gt;1&lt;/corners&gt;&lt;/st...</td>\n",
       "      <td>&lt;possession&gt;&lt;value&gt;&lt;comment&gt;50&lt;/comment&gt;&lt;event...</td>\n",
       "      <td>&lt;goal&gt;\\n &lt;value&gt;\\n  &lt;comment&gt;\\n   o\\n  &lt;/comme...</td>\n",
       "      <td>[o, n, n, n]</td>\n",
       "      <td>[shot, shot, shot]</td>\n",
       "    </tr>\n",
       "    <tr>\n",
       "      <th>4173</th>\n",
       "      <td>4174</td>\n",
       "      <td>14/15</td>\n",
       "      <td>24</td>\n",
       "      <td>2015-02-08</td>\n",
       "      <td>1724217</td>\n",
       "      <td>10261</td>\n",
       "      <td>10194</td>\n",
       "      <td>1</td>\n",
       "      <td>1</td>\n",
       "      <td>0</td>\n",
       "      <td>...</td>\n",
       "      <td>&lt;shoton&gt;&lt;value&gt;&lt;stats&gt;&lt;shoton&gt;1&lt;/shoton&gt;&lt;/stat...</td>\n",
       "      <td>&lt;shotoff&gt;&lt;value&gt;&lt;stats&gt;&lt;shotoff&gt;1&lt;/shotoff&gt;&lt;/s...</td>\n",
       "      <td>&lt;foulcommit&gt;&lt;value&gt;&lt;stats&gt;&lt;foulscommitted&gt;1&lt;/f...</td>\n",
       "      <td>&lt;card&gt;&lt;value&gt;&lt;comment&gt;y&lt;/comment&gt;&lt;stats&gt;&lt;ycard...</td>\n",
       "      <td>&lt;cross&gt;&lt;value&gt;&lt;stats&gt;&lt;crosses&gt;1&lt;/crosses&gt;&lt;/sta...</td>\n",
       "      <td>&lt;corner&gt;&lt;value&gt;&lt;stats&gt;&lt;corners&gt;1&lt;/corners&gt;&lt;/st...</td>\n",
       "      <td>&lt;possession&gt;&lt;value&gt;&lt;comment&gt;60&lt;/comment&gt;&lt;event...</td>\n",
       "      <td>&lt;goal&gt;\\n &lt;value&gt;\\n  &lt;comment&gt;\\n   n\\n  &lt;/comme...</td>\n",
       "      <td>[n, n]</td>\n",
       "      <td>[shot, header]</td>\n",
       "    </tr>\n",
       "    <tr>\n",
       "      <th>3490</th>\n",
       "      <td>3491</td>\n",
       "      <td>12/13</td>\n",
       "      <td>31</td>\n",
       "      <td>2013-03-30</td>\n",
       "      <td>1229432</td>\n",
       "      <td>8668</td>\n",
       "      <td>10194</td>\n",
       "      <td>1</td>\n",
       "      <td>0</td>\n",
       "      <td>1</td>\n",
       "      <td>...</td>\n",
       "      <td>&lt;shoton&gt;&lt;value&gt;&lt;stats&gt;&lt;blocked&gt;1&lt;/blocked&gt;&lt;/st...</td>\n",
       "      <td>&lt;shotoff&gt;&lt;value&gt;&lt;event_incident_typefk&gt;595&lt;/ev...</td>\n",
       "      <td>&lt;foulcommit&gt;&lt;value&gt;&lt;stats&gt;&lt;foulscommitted&gt;1&lt;/f...</td>\n",
       "      <td>&lt;card&gt;&lt;value&gt;&lt;comment&gt;y&lt;/comment&gt;&lt;stats&gt;&lt;ycard...</td>\n",
       "      <td>&lt;cross&gt;&lt;value&gt;&lt;stats&gt;&lt;crosses&gt;1&lt;/crosses&gt;&lt;/sta...</td>\n",
       "      <td>&lt;corner&gt;&lt;value&gt;&lt;stats&gt;&lt;corners&gt;1&lt;/corners&gt;&lt;/st...</td>\n",
       "      <td>&lt;possession&gt;&lt;value&gt;&lt;comment&gt;54&lt;/comment&gt;&lt;event...</td>\n",
       "      <td>&lt;goal&gt;\\n &lt;value&gt;\\n  &lt;comment&gt;\\n   n\\n  &lt;/comme...</td>\n",
       "      <td>[n]</td>\n",
       "      <td>[shot]</td>\n",
       "    </tr>\n",
       "    <tr>\n",
       "      <th>3473</th>\n",
       "      <td>3474</td>\n",
       "      <td>12/13</td>\n",
       "      <td>3</td>\n",
       "      <td>2012-09-01</td>\n",
       "      <td>1228306</td>\n",
       "      <td>10003</td>\n",
       "      <td>8472</td>\n",
       "      <td>2</td>\n",
       "      <td>2</td>\n",
       "      <td>0</td>\n",
       "      <td>...</td>\n",
       "      <td>&lt;shoton&gt;&lt;value&gt;&lt;stats&gt;&lt;shoton&gt;1&lt;/shoton&gt;&lt;/stat...</td>\n",
       "      <td>&lt;shotoff&gt;&lt;value&gt;&lt;stats&gt;&lt;shotoff&gt;1&lt;/shotoff&gt;&lt;/s...</td>\n",
       "      <td>&lt;foulcommit&gt;&lt;value&gt;&lt;stats&gt;&lt;foulscommitted&gt;1&lt;/f...</td>\n",
       "      <td>&lt;card&gt;&lt;value&gt;&lt;comment&gt;y&lt;/comment&gt;&lt;stats&gt;&lt;ycard...</td>\n",
       "      <td>&lt;cross&gt;&lt;value&gt;&lt;stats&gt;&lt;corners&gt;1&lt;/corners&gt;&lt;/sta...</td>\n",
       "      <td>&lt;corner&gt;&lt;value&gt;&lt;stats&gt;&lt;corners&gt;1&lt;/corners&gt;&lt;/st...</td>\n",
       "      <td>&lt;possession&gt;&lt;value&gt;&lt;comment&gt;60&lt;/comment&gt;&lt;event...</td>\n",
       "      <td>&lt;goal&gt;\\n &lt;value&gt;\\n  &lt;comment&gt;\\n   n\\n  &lt;/comme...</td>\n",
       "      <td>[n, n, n, n, n]</td>\n",
       "      <td>[shot, shot, tap_in, header]</td>\n",
       "    </tr>\n",
       "    <tr>\n",
       "      <th>2992</th>\n",
       "      <td>2993</td>\n",
       "      <td>11/12</td>\n",
       "      <td>20</td>\n",
       "      <td>2012-01-03</td>\n",
       "      <td>1025207</td>\n",
       "      <td>8456</td>\n",
       "      <td>8650</td>\n",
       "      <td>3</td>\n",
       "      <td>0</td>\n",
       "      <td>1</td>\n",
       "      <td>...</td>\n",
       "      <td>&lt;shoton&gt;&lt;value&gt;&lt;stats&gt;&lt;shoton&gt;1&lt;/shoton&gt;&lt;/stat...</td>\n",
       "      <td>&lt;shotoff&gt;&lt;value&gt;&lt;stats&gt;&lt;shotoff&gt;1&lt;/shotoff&gt;&lt;/s...</td>\n",
       "      <td>&lt;foulcommit&gt;&lt;value&gt;&lt;stats&gt;&lt;foulscommitted&gt;1&lt;/f...</td>\n",
       "      <td>&lt;card&gt;&lt;value&gt;&lt;comment&gt;y&lt;/comment&gt;&lt;stats&gt;&lt;ycard...</td>\n",
       "      <td>&lt;cross&gt;&lt;value&gt;&lt;stats&gt;&lt;corners&gt;1&lt;/corners&gt;&lt;/sta...</td>\n",
       "      <td>&lt;corner&gt;&lt;value&gt;&lt;stats&gt;&lt;corners&gt;1&lt;/corners&gt;&lt;/st...</td>\n",
       "      <td>&lt;possession&gt;&lt;value&gt;&lt;comment&gt;52&lt;/comment&gt;&lt;event...</td>\n",
       "      <td>&lt;goal&gt;\\n &lt;value&gt;\\n  &lt;comment&gt;\\n   n\\n  &lt;/comme...</td>\n",
       "      <td>[n, n, p]</td>\n",
       "      <td>[shot, header]</td>\n",
       "    </tr>\n",
       "    <tr>\n",
       "      <th>4551</th>\n",
       "      <td>4552</td>\n",
       "      <td>15/16</td>\n",
       "      <td>24</td>\n",
       "      <td>2016-02-02</td>\n",
       "      <td>1988943</td>\n",
       "      <td>8472</td>\n",
       "      <td>8456</td>\n",
       "      <td>0</td>\n",
       "      <td>1</td>\n",
       "      <td>-1</td>\n",
       "      <td>...</td>\n",
       "      <td>&lt;shoton&gt;&lt;value&gt;&lt;stats&gt;&lt;blocked&gt;1&lt;/blocked&gt;&lt;/st...</td>\n",
       "      <td>&lt;shotoff&gt;&lt;value&gt;&lt;stats&gt;&lt;shotoff&gt;1&lt;/shotoff&gt;&lt;/s...</td>\n",
       "      <td>&lt;foulcommit&gt;&lt;value&gt;&lt;stats&gt;&lt;foulscommitted&gt;1&lt;/f...</td>\n",
       "      <td>&lt;card&gt;&lt;value&gt;&lt;comment&gt;y&lt;/comment&gt;&lt;stats&gt;&lt;ycard...</td>\n",
       "      <td>&lt;cross&gt;&lt;value&gt;&lt;stats&gt;&lt;crosses&gt;1&lt;/crosses&gt;&lt;/sta...</td>\n",
       "      <td>&lt;corner&gt;&lt;value&gt;&lt;stats&gt;&lt;corners&gt;1&lt;/corners&gt;&lt;/st...</td>\n",
       "      <td>&lt;possession&gt;&lt;value&gt;&lt;comment&gt;36&lt;/comment&gt;&lt;stats...</td>\n",
       "      <td>&lt;goal&gt;\\n &lt;value&gt;\\n  &lt;comment&gt;\\n   n\\n  &lt;/comme...</td>\n",
       "      <td>[n]</td>\n",
       "      <td>[shot]</td>\n",
       "    </tr>\n",
       "    <tr>\n",
       "      <th>1900</th>\n",
       "      <td>1901</td>\n",
       "      <td>08/09</td>\n",
       "      <td>25</td>\n",
       "      <td>2009-02-08</td>\n",
       "      <td>489285</td>\n",
       "      <td>8654</td>\n",
       "      <td>10260</td>\n",
       "      <td>0</td>\n",
       "      <td>1</td>\n",
       "      <td>-1</td>\n",
       "      <td>...</td>\n",
       "      <td>&lt;shoton&gt;&lt;value&gt;&lt;stats&gt;&lt;shoton&gt;1&lt;/shoton&gt;&lt;/stat...</td>\n",
       "      <td>&lt;shotoff&gt;&lt;value&gt;&lt;stats&gt;&lt;shotoff&gt;1&lt;/shotoff&gt;&lt;/s...</td>\n",
       "      <td>&lt;foulcommit&gt;&lt;value&gt;&lt;stats&gt;&lt;foulscommitted&gt;1&lt;/f...</td>\n",
       "      <td>&lt;card&gt;&lt;value&gt;&lt;comment&gt;y&lt;/comment&gt;&lt;stats&gt;&lt;ycard...</td>\n",
       "      <td>&lt;cross&gt;&lt;value&gt;&lt;stats&gt;&lt;crosses&gt;1&lt;/crosses&gt;&lt;/sta...</td>\n",
       "      <td>&lt;corner&gt;&lt;value&gt;&lt;stats&gt;&lt;corners&gt;1&lt;/corners&gt;&lt;/st...</td>\n",
       "      <td>&lt;possession&gt;&lt;value&gt;&lt;comment&gt;35&lt;/comment&gt;&lt;event...</td>\n",
       "      <td>&lt;goal&gt;\\n &lt;value&gt;\\n  &lt;comment&gt;\\n   dg\\n  &lt;/comm...</td>\n",
       "      <td>[dg, n]</td>\n",
       "      <td>[shot, shot]</td>\n",
       "    </tr>\n",
       "  </tbody>\n",
       "</table>\n",
       "<p>7 rows × 47 columns</p>\n",
       "</div>"
      ],
      "text/plain": [
       "        id season  Round / 38       date  match_api_id  Home ID  Away ID  \\\n",
       "2361  2362  09/10          32 2010-03-27        659132     8559    10260   \n",
       "4173  4174  14/15          24 2015-02-08       1724217    10261    10194   \n",
       "3490  3491  12/13          31 2013-03-30       1229432     8668    10194   \n",
       "3473  3474  12/13           3 2012-09-01       1228306    10003     8472   \n",
       "2992  2993  11/12          20 2012-01-03       1025207     8456     8650   \n",
       "4551  4552  15/16          24 2016-02-02       1988943     8472     8456   \n",
       "1900  1901  08/09          25 2009-02-08        489285     8654    10260   \n",
       "\n",
       "      Home GS  Away GS  Result  ...  \\\n",
       "2361        0        4      -1  ...   \n",
       "4173        1        1       0  ...   \n",
       "3490        1        0       1  ...   \n",
       "3473        2        2       0  ...   \n",
       "2992        3        0       1  ...   \n",
       "4551        0        1      -1  ...   \n",
       "1900        0        1      -1  ...   \n",
       "\n",
       "                                                 shoton  \\\n",
       "2361  <shoton><value><stats><blocked>1</blocked></st...   \n",
       "4173  <shoton><value><stats><shoton>1</shoton></stat...   \n",
       "3490  <shoton><value><stats><blocked>1</blocked></st...   \n",
       "3473  <shoton><value><stats><shoton>1</shoton></stat...   \n",
       "2992  <shoton><value><stats><shoton>1</shoton></stat...   \n",
       "4551  <shoton><value><stats><blocked>1</blocked></st...   \n",
       "1900  <shoton><value><stats><shoton>1</shoton></stat...   \n",
       "\n",
       "                                                shotoff  \\\n",
       "2361  <shotoff><value><stats><shotoff>1</shotoff></s...   \n",
       "4173  <shotoff><value><stats><shotoff>1</shotoff></s...   \n",
       "3490  <shotoff><value><event_incident_typefk>595</ev...   \n",
       "3473  <shotoff><value><stats><shotoff>1</shotoff></s...   \n",
       "2992  <shotoff><value><stats><shotoff>1</shotoff></s...   \n",
       "4551  <shotoff><value><stats><shotoff>1</shotoff></s...   \n",
       "1900  <shotoff><value><stats><shotoff>1</shotoff></s...   \n",
       "\n",
       "                                             foulcommit  \\\n",
       "2361  <foulcommit><value><stats><foulscommitted>1</f...   \n",
       "4173  <foulcommit><value><stats><foulscommitted>1</f...   \n",
       "3490  <foulcommit><value><stats><foulscommitted>1</f...   \n",
       "3473  <foulcommit><value><stats><foulscommitted>1</f...   \n",
       "2992  <foulcommit><value><stats><foulscommitted>1</f...   \n",
       "4551  <foulcommit><value><stats><foulscommitted>1</f...   \n",
       "1900  <foulcommit><value><stats><foulscommitted>1</f...   \n",
       "\n",
       "                                                   card  \\\n",
       "2361                                           <card />   \n",
       "4173  <card><value><comment>y</comment><stats><ycard...   \n",
       "3490  <card><value><comment>y</comment><stats><ycard...   \n",
       "3473  <card><value><comment>y</comment><stats><ycard...   \n",
       "2992  <card><value><comment>y</comment><stats><ycard...   \n",
       "4551  <card><value><comment>y</comment><stats><ycard...   \n",
       "1900  <card><value><comment>y</comment><stats><ycard...   \n",
       "\n",
       "                                                  cross  \\\n",
       "2361  <cross><value><stats><crosses>1</crosses></sta...   \n",
       "4173  <cross><value><stats><crosses>1</crosses></sta...   \n",
       "3490  <cross><value><stats><crosses>1</crosses></sta...   \n",
       "3473  <cross><value><stats><corners>1</corners></sta...   \n",
       "2992  <cross><value><stats><corners>1</corners></sta...   \n",
       "4551  <cross><value><stats><crosses>1</crosses></sta...   \n",
       "1900  <cross><value><stats><crosses>1</crosses></sta...   \n",
       "\n",
       "                                                 corner  \\\n",
       "2361  <corner><value><stats><corners>1</corners></st...   \n",
       "4173  <corner><value><stats><corners>1</corners></st...   \n",
       "3490  <corner><value><stats><corners>1</corners></st...   \n",
       "3473  <corner><value><stats><corners>1</corners></st...   \n",
       "2992  <corner><value><stats><corners>1</corners></st...   \n",
       "4551  <corner><value><stats><corners>1</corners></st...   \n",
       "1900  <corner><value><stats><corners>1</corners></st...   \n",
       "\n",
       "                                             possession  \\\n",
       "2361  <possession><value><comment>50</comment><event...   \n",
       "4173  <possession><value><comment>60</comment><event...   \n",
       "3490  <possession><value><comment>54</comment><event...   \n",
       "3473  <possession><value><comment>60</comment><event...   \n",
       "2992  <possession><value><comment>52</comment><event...   \n",
       "4551  <possession><value><comment>36</comment><stats...   \n",
       "1900  <possession><value><comment>35</comment><event...   \n",
       "\n",
       "                                            goal_parsed    goal_comments  \\\n",
       "2361  <goal>\\n <value>\\n  <comment>\\n   o\\n  </comme...     [o, n, n, n]   \n",
       "4173  <goal>\\n <value>\\n  <comment>\\n   n\\n  </comme...           [n, n]   \n",
       "3490  <goal>\\n <value>\\n  <comment>\\n   n\\n  </comme...              [n]   \n",
       "3473  <goal>\\n <value>\\n  <comment>\\n   n\\n  </comme...  [n, n, n, n, n]   \n",
       "2992  <goal>\\n <value>\\n  <comment>\\n   n\\n  </comme...        [n, n, p]   \n",
       "4551  <goal>\\n <value>\\n  <comment>\\n   n\\n  </comme...              [n]   \n",
       "1900  <goal>\\n <value>\\n  <comment>\\n   dg\\n  </comm...          [dg, n]   \n",
       "\n",
       "                     goal_subtypes  \n",
       "2361            [shot, shot, shot]  \n",
       "4173                [shot, header]  \n",
       "3490                        [shot]  \n",
       "3473  [shot, shot, tap_in, header]  \n",
       "2992                [shot, header]  \n",
       "4551                        [shot]  \n",
       "1900                  [shot, shot]  \n",
       "\n",
       "[7 rows x 47 columns]"
      ]
     },
     "execution_count": 702,
     "metadata": {},
     "output_type": "execute_result"
    }
   ],
   "source": [
    "prem.sample(7)"
   ]
  },
  {
   "cell_type": "code",
   "execution_count": 703,
   "metadata": {},
   "outputs": [
    {
     "data": {
      "text/html": [
       "<div>\n",
       "<style scoped>\n",
       "    .dataframe tbody tr th:only-of-type {\n",
       "        vertical-align: middle;\n",
       "    }\n",
       "\n",
       "    .dataframe tbody tr th {\n",
       "        vertical-align: top;\n",
       "    }\n",
       "\n",
       "    .dataframe thead th {\n",
       "        text-align: right;\n",
       "    }\n",
       "</style>\n",
       "<table border=\"1\" class=\"dataframe\">\n",
       "  <thead>\n",
       "    <tr style=\"text-align: right;\">\n",
       "      <th></th>\n",
       "      <th>player_api_id</th>\n",
       "      <th>player_name</th>\n",
       "      <th>date</th>\n",
       "      <th>overall_rating</th>\n",
       "    </tr>\n",
       "  </thead>\n",
       "  <tbody>\n",
       "    <tr>\n",
       "      <th>39438</th>\n",
       "      <td>89240</td>\n",
       "      <td>Adam Hlousek</td>\n",
       "      <td>2009</td>\n",
       "      <td>59.5</td>\n",
       "    </tr>\n",
       "    <tr>\n",
       "      <th>42217</th>\n",
       "      <td>102879</td>\n",
       "      <td>Salva Sevilla</td>\n",
       "      <td>2007</td>\n",
       "      <td>59.0</td>\n",
       "    </tr>\n",
       "    <tr>\n",
       "      <th>44079</th>\n",
       "      <td>112117</td>\n",
       "      <td>Diallo Guidilleye</td>\n",
       "      <td>2011</td>\n",
       "      <td>65.5</td>\n",
       "    </tr>\n",
       "    <tr>\n",
       "      <th>36621</th>\n",
       "      <td>69085</td>\n",
       "      <td>Tomasz Foszmanczyk</td>\n",
       "      <td>2007</td>\n",
       "      <td>50.0</td>\n",
       "    </tr>\n",
       "    <tr>\n",
       "      <th>36377</th>\n",
       "      <td>68516</td>\n",
       "      <td>Ramon Cardozo</td>\n",
       "      <td>2015</td>\n",
       "      <td>72.0</td>\n",
       "    </tr>\n",
       "    <tr>\n",
       "      <th>37595</th>\n",
       "      <td>71903</td>\n",
       "      <td>Linus Hallenius</td>\n",
       "      <td>2012</td>\n",
       "      <td>64.0</td>\n",
       "    </tr>\n",
       "    <tr>\n",
       "      <th>72973</th>\n",
       "      <td>693171</td>\n",
       "      <td>Ludovic Blas</td>\n",
       "      <td>2016</td>\n",
       "      <td>59.0</td>\n",
       "    </tr>\n",
       "  </tbody>\n",
       "</table>\n",
       "</div>"
      ],
      "text/plain": [
       "       player_api_id         player_name  date  overall_rating\n",
       "39438          89240        Adam Hlousek  2009            59.5\n",
       "42217         102879       Salva Sevilla  2007            59.0\n",
       "44079         112117   Diallo Guidilleye  2011            65.5\n",
       "36621          69085  Tomasz Foszmanczyk  2007            50.0\n",
       "36377          68516       Ramon Cardozo  2015            72.0\n",
       "37595          71903     Linus Hallenius  2012            64.0\n",
       "72973         693171        Ludovic Blas  2016            59.0"
      ]
     },
     "execution_count": 703,
     "metadata": {},
     "output_type": "execute_result"
    }
   ],
   "source": [
    "player_attr.sample(7)"
   ]
  },
  {
   "cell_type": "code",
   "execution_count": 704,
   "metadata": {},
   "outputs": [
    {
     "data": {
      "text/html": [
       "<div>\n",
       "<style scoped>\n",
       "    .dataframe tbody tr th:only-of-type {\n",
       "        vertical-align: middle;\n",
       "    }\n",
       "\n",
       "    .dataframe tbody tr th {\n",
       "        vertical-align: top;\n",
       "    }\n",
       "\n",
       "    .dataframe thead th {\n",
       "        text-align: right;\n",
       "    }\n",
       "</style>\n",
       "<table border=\"1\" class=\"dataframe\">\n",
       "  <thead>\n",
       "    <tr style=\"text-align: right;\">\n",
       "      <th></th>\n",
       "      <th>team_api_id</th>\n",
       "      <th>team_long_name</th>\n",
       "      <th>date</th>\n",
       "      <th>buildUpPlaySpeed</th>\n",
       "      <th>buildUpPlayPassing</th>\n",
       "      <th>chanceCreationPassing</th>\n",
       "      <th>chanceCreationCrossing</th>\n",
       "      <th>chanceCreationShooting</th>\n",
       "      <th>defencePressure</th>\n",
       "      <th>defenceAggression</th>\n",
       "    </tr>\n",
       "  </thead>\n",
       "  <tbody>\n",
       "    <tr>\n",
       "      <th>20</th>\n",
       "      <td>8564</td>\n",
       "      <td>Milan</td>\n",
       "      <td>2015</td>\n",
       "      <td>48</td>\n",
       "      <td>52</td>\n",
       "      <td>66</td>\n",
       "      <td>36</td>\n",
       "      <td>69</td>\n",
       "      <td>58</td>\n",
       "      <td>57</td>\n",
       "    </tr>\n",
       "    <tr>\n",
       "      <th>616</th>\n",
       "      <td>8066</td>\n",
       "      <td>Inverness Caledonian Thistle</td>\n",
       "      <td>2014</td>\n",
       "      <td>61</td>\n",
       "      <td>59</td>\n",
       "      <td>50</td>\n",
       "      <td>57</td>\n",
       "      <td>55</td>\n",
       "      <td>43</td>\n",
       "      <td>41</td>\n",
       "    </tr>\n",
       "    <tr>\n",
       "      <th>595</th>\n",
       "      <td>8226</td>\n",
       "      <td>TSG 1899 Hoffenheim</td>\n",
       "      <td>2015</td>\n",
       "      <td>69</td>\n",
       "      <td>53</td>\n",
       "      <td>66</td>\n",
       "      <td>62</td>\n",
       "      <td>59</td>\n",
       "      <td>63</td>\n",
       "      <td>61</td>\n",
       "    </tr>\n",
       "    <tr>\n",
       "      <th>309</th>\n",
       "      <td>8455</td>\n",
       "      <td>Chelsea</td>\n",
       "      <td>2013</td>\n",
       "      <td>46</td>\n",
       "      <td>41</td>\n",
       "      <td>46</td>\n",
       "      <td>61</td>\n",
       "      <td>63</td>\n",
       "      <td>42</td>\n",
       "      <td>43</td>\n",
       "    </tr>\n",
       "    <tr>\n",
       "      <th>1355</th>\n",
       "      <td>10238</td>\n",
       "      <td>Vitória Setúbal</td>\n",
       "      <td>2012</td>\n",
       "      <td>56</td>\n",
       "      <td>42</td>\n",
       "      <td>54</td>\n",
       "      <td>52</td>\n",
       "      <td>52</td>\n",
       "      <td>37</td>\n",
       "      <td>37</td>\n",
       "    </tr>\n",
       "    <tr>\n",
       "      <th>1070</th>\n",
       "      <td>8690</td>\n",
       "      <td>Reggio Calabria</td>\n",
       "      <td>2014</td>\n",
       "      <td>52</td>\n",
       "      <td>56</td>\n",
       "      <td>57</td>\n",
       "      <td>74</td>\n",
       "      <td>53</td>\n",
       "      <td>38</td>\n",
       "      <td>48</td>\n",
       "    </tr>\n",
       "    <tr>\n",
       "      <th>791</th>\n",
       "      <td>9864</td>\n",
       "      <td>Málaga CF</td>\n",
       "      <td>2013</td>\n",
       "      <td>45</td>\n",
       "      <td>36</td>\n",
       "      <td>72</td>\n",
       "      <td>69</td>\n",
       "      <td>50</td>\n",
       "      <td>64</td>\n",
       "      <td>58</td>\n",
       "    </tr>\n",
       "  </tbody>\n",
       "</table>\n",
       "</div>"
      ],
      "text/plain": [
       "      team_api_id                team_long_name  date  buildUpPlaySpeed  \\\n",
       "20           8564                         Milan  2015                48   \n",
       "616          8066  Inverness Caledonian Thistle  2014                61   \n",
       "595          8226           TSG 1899 Hoffenheim  2015                69   \n",
       "309          8455                       Chelsea  2013                46   \n",
       "1355        10238               Vitória Setúbal  2012                56   \n",
       "1070         8690               Reggio Calabria  2014                52   \n",
       "791          9864                     Málaga CF  2013                45   \n",
       "\n",
       "      buildUpPlayPassing  chanceCreationPassing  chanceCreationCrossing  \\\n",
       "20                    52                     66                      36   \n",
       "616                   59                     50                      57   \n",
       "595                   53                     66                      62   \n",
       "309                   41                     46                      61   \n",
       "1355                  42                     54                      52   \n",
       "1070                  56                     57                      74   \n",
       "791                   36                     72                      69   \n",
       "\n",
       "      chanceCreationShooting  defencePressure  defenceAggression  \n",
       "20                        69               58                 57  \n",
       "616                       55               43                 41  \n",
       "595                       59               63                 61  \n",
       "309                       63               42                 43  \n",
       "1355                      52               37                 37  \n",
       "1070                      53               38                 48  \n",
       "791                       50               64                 58  "
      ]
     },
     "execution_count": 704,
     "metadata": {},
     "output_type": "execute_result"
    }
   ],
   "source": [
    "team_attr.sample(7)"
   ]
  },
  {
   "cell_type": "code",
   "execution_count": 705,
   "metadata": {},
   "outputs": [
    {
     "data": {
      "text/html": [
       "<div>\n",
       "<style scoped>\n",
       "    .dataframe tbody tr th:only-of-type {\n",
       "        vertical-align: middle;\n",
       "    }\n",
       "\n",
       "    .dataframe tbody tr th {\n",
       "        vertical-align: top;\n",
       "    }\n",
       "\n",
       "    .dataframe thead th {\n",
       "        text-align: right;\n",
       "    }\n",
       "</style>\n",
       "<table border=\"1\" class=\"dataframe\">\n",
       "  <thead>\n",
       "    <tr style=\"text-align: right;\">\n",
       "      <th></th>\n",
       "      <th>team_api_id</th>\n",
       "      <th>name</th>\n",
       "      <th>league</th>\n",
       "      <th>total_matches</th>\n",
       "      <th>total_GS</th>\n",
       "      <th>total_GA</th>\n",
       "      <th>total_wins</th>\n",
       "      <th>total_draws</th>\n",
       "      <th>total_losses</th>\n",
       "      <th>avg_GS_per_match</th>\n",
       "      <th>avg_GA_per_match</th>\n",
       "    </tr>\n",
       "  </thead>\n",
       "  <tbody>\n",
       "    <tr>\n",
       "      <th>33</th>\n",
       "      <td>9798</td>\n",
       "      <td>Reading</td>\n",
       "      <td>England Premier League</td>\n",
       "      <td>38</td>\n",
       "      <td>43</td>\n",
       "      <td>73</td>\n",
       "      <td>6</td>\n",
       "      <td>10</td>\n",
       "      <td>22</td>\n",
       "      <td>1.13</td>\n",
       "      <td>1.92</td>\n",
       "    </tr>\n",
       "    <tr>\n",
       "      <th>19</th>\n",
       "      <td>9850</td>\n",
       "      <td>Norwich City</td>\n",
       "      <td>England Premier League</td>\n",
       "      <td>152</td>\n",
       "      <td>160</td>\n",
       "      <td>253</td>\n",
       "      <td>39</td>\n",
       "      <td>41</td>\n",
       "      <td>72</td>\n",
       "      <td>1.05</td>\n",
       "      <td>1.66</td>\n",
       "    </tr>\n",
       "    <tr>\n",
       "      <th>8</th>\n",
       "      <td>10252</td>\n",
       "      <td>Aston Villa</td>\n",
       "      <td>England Premier League</td>\n",
       "      <td>304</td>\n",
       "      <td>335</td>\n",
       "      <td>462</td>\n",
       "      <td>86</td>\n",
       "      <td>88</td>\n",
       "      <td>130</td>\n",
       "      <td>1.10</td>\n",
       "      <td>1.52</td>\n",
       "    </tr>\n",
       "    <tr>\n",
       "      <th>23</th>\n",
       "      <td>8602</td>\n",
       "      <td>Wolverhampton Wanderers</td>\n",
       "      <td>England Premier League</td>\n",
       "      <td>114</td>\n",
       "      <td>118</td>\n",
       "      <td>204</td>\n",
       "      <td>25</td>\n",
       "      <td>28</td>\n",
       "      <td>61</td>\n",
       "      <td>1.04</td>\n",
       "      <td>1.79</td>\n",
       "    </tr>\n",
       "    <tr>\n",
       "      <th>16</th>\n",
       "      <td>8528</td>\n",
       "      <td>Wigan Athletic</td>\n",
       "      <td>England Premier League</td>\n",
       "      <td>190</td>\n",
       "      <td>200</td>\n",
       "      <td>320</td>\n",
       "      <td>50</td>\n",
       "      <td>52</td>\n",
       "      <td>88</td>\n",
       "      <td>1.05</td>\n",
       "      <td>1.68</td>\n",
       "    </tr>\n",
       "    <tr>\n",
       "      <th>14</th>\n",
       "      <td>10003</td>\n",
       "      <td>Swansea City</td>\n",
       "      <td>England Premier League</td>\n",
       "      <td>190</td>\n",
       "      <td>233</td>\n",
       "      <td>257</td>\n",
       "      <td>62</td>\n",
       "      <td>52</td>\n",
       "      <td>76</td>\n",
       "      <td>1.23</td>\n",
       "      <td>1.35</td>\n",
       "    </tr>\n",
       "    <tr>\n",
       "      <th>5</th>\n",
       "      <td>8650</td>\n",
       "      <td>Liverpool</td>\n",
       "      <td>England Premier League</td>\n",
       "      <td>304</td>\n",
       "      <td>531</td>\n",
       "      <td>337</td>\n",
       "      <td>150</td>\n",
       "      <td>76</td>\n",
       "      <td>78</td>\n",
       "      <td>1.75</td>\n",
       "      <td>1.11</td>\n",
       "    </tr>\n",
       "  </tbody>\n",
       "</table>\n",
       "</div>"
      ],
      "text/plain": [
       "    team_api_id                     name                  league  \\\n",
       "33         9798                  Reading  England Premier League   \n",
       "19         9850             Norwich City  England Premier League   \n",
       "8         10252              Aston Villa  England Premier League   \n",
       "23         8602  Wolverhampton Wanderers  England Premier League   \n",
       "16         8528           Wigan Athletic  England Premier League   \n",
       "14        10003             Swansea City  England Premier League   \n",
       "5          8650                Liverpool  England Premier League   \n",
       "\n",
       "    total_matches  total_GS  total_GA  total_wins  total_draws  total_losses  \\\n",
       "33             38        43        73           6           10            22   \n",
       "19            152       160       253          39           41            72   \n",
       "8             304       335       462          86           88           130   \n",
       "23            114       118       204          25           28            61   \n",
       "16            190       200       320          50           52            88   \n",
       "14            190       233       257          62           52            76   \n",
       "5             304       531       337         150           76            78   \n",
       "\n",
       "    avg_GS_per_match  avg_GA_per_match  \n",
       "33              1.13              1.92  \n",
       "19              1.05              1.66  \n",
       "8               1.10              1.52  \n",
       "23              1.04              1.79  \n",
       "16              1.05              1.68  \n",
       "14              1.23              1.35  \n",
       "5               1.75              1.11  "
      ]
     },
     "execution_count": 705,
     "metadata": {},
     "output_type": "execute_result"
    }
   ],
   "source": [
    "big_stats.sample(7)"
   ]
  },
  {
   "cell_type": "markdown",
   "metadata": {},
   "source": [
    "## Combining the dataframes"
   ]
  },
  {
   "cell_type": "markdown",
   "metadata": {},
   "source": [
    "The goal is:\n",
    "- In the Prem dataframe, we can replace the home_player_x and away_player_x which are currently just IDs with overall ability values using player_attr\n",
    "- We can also add in an average OVR for both team's starting 11\n",
    "    - later on, other team attributes we want to investigate\n",
    "- We may want to add the team's avg GS and GA, but might this be a problem of collinearity with the classification result?\n",
    "- We can then have a target column for classification of 1 (home win), 0 (draw) or -1 (away win)"
   ]
  },
  {
   "cell_type": "code",
   "execution_count": 706,
   "metadata": {},
   "outputs": [
    {
     "data": {
      "text/html": [
       "<div>\n",
       "<style scoped>\n",
       "    .dataframe tbody tr th:only-of-type {\n",
       "        vertical-align: middle;\n",
       "    }\n",
       "\n",
       "    .dataframe tbody tr th {\n",
       "        vertical-align: top;\n",
       "    }\n",
       "\n",
       "    .dataframe thead th {\n",
       "        text-align: right;\n",
       "    }\n",
       "</style>\n",
       "<table border=\"1\" class=\"dataframe\">\n",
       "  <thead>\n",
       "    <tr style=\"text-align: right;\">\n",
       "      <th></th>\n",
       "      <th>id</th>\n",
       "      <th>season</th>\n",
       "      <th>Round / 38</th>\n",
       "      <th>date</th>\n",
       "      <th>match_api_id</th>\n",
       "      <th>Home ID</th>\n",
       "      <th>Away ID</th>\n",
       "      <th>Home GS</th>\n",
       "      <th>Away GS</th>\n",
       "      <th>Result</th>\n",
       "      <th>...</th>\n",
       "      <th>shoton</th>\n",
       "      <th>shotoff</th>\n",
       "      <th>foulcommit</th>\n",
       "      <th>card</th>\n",
       "      <th>cross</th>\n",
       "      <th>corner</th>\n",
       "      <th>possession</th>\n",
       "      <th>goal_parsed</th>\n",
       "      <th>goal_comments</th>\n",
       "      <th>goal_subtypes</th>\n",
       "    </tr>\n",
       "  </thead>\n",
       "  <tbody>\n",
       "    <tr>\n",
       "      <th>3576</th>\n",
       "      <td>3577</td>\n",
       "      <td>12/13</td>\n",
       "      <td>4</td>\n",
       "      <td>2012-09-15</td>\n",
       "      <td>1228351</td>\n",
       "      <td>10194</td>\n",
       "      <td>8456</td>\n",
       "      <td>1</td>\n",
       "      <td>1</td>\n",
       "      <td>0</td>\n",
       "      <td>...</td>\n",
       "      <td>&lt;shoton&gt;&lt;value&gt;&lt;stats&gt;&lt;blocked&gt;1&lt;/blocked&gt;&lt;/st...</td>\n",
       "      <td>&lt;shotoff&gt;&lt;value&gt;&lt;stats&gt;&lt;shotoff&gt;1&lt;/shotoff&gt;&lt;/s...</td>\n",
       "      <td>&lt;foulcommit&gt;&lt;value&gt;&lt;stats&gt;&lt;foulscommitted&gt;1&lt;/f...</td>\n",
       "      <td>&lt;card&gt;&lt;value&gt;&lt;comment&gt;y&lt;/comment&gt;&lt;stats&gt;&lt;ycard...</td>\n",
       "      <td>&lt;cross&gt;&lt;value&gt;&lt;stats&gt;&lt;crosses&gt;1&lt;/crosses&gt;&lt;/sta...</td>\n",
       "      <td>&lt;corner&gt;&lt;value&gt;&lt;stats&gt;&lt;corners&gt;1&lt;/corners&gt;&lt;/st...</td>\n",
       "      <td>&lt;possession&gt;&lt;value&gt;&lt;comment&gt;48&lt;/comment&gt;&lt;event...</td>\n",
       "      <td>&lt;goal&gt;\\n &lt;value&gt;\\n  &lt;comment&gt;\\n   n\\n  &lt;/comme...</td>\n",
       "      <td>[n, n]</td>\n",
       "      <td>[shot, header]</td>\n",
       "    </tr>\n",
       "    <tr>\n",
       "      <th>2760</th>\n",
       "      <td>2761</td>\n",
       "      <td>10/11</td>\n",
       "      <td>34</td>\n",
       "      <td>2011-04-23</td>\n",
       "      <td>840187</td>\n",
       "      <td>8472</td>\n",
       "      <td>8528</td>\n",
       "      <td>4</td>\n",
       "      <td>2</td>\n",
       "      <td>1</td>\n",
       "      <td>...</td>\n",
       "      <td>&lt;shoton&gt;&lt;value&gt;&lt;stats&gt;&lt;shoton&gt;1&lt;/shoton&gt;&lt;/stat...</td>\n",
       "      <td>&lt;shotoff&gt;&lt;value&gt;&lt;stats&gt;&lt;shotoff&gt;1&lt;/shotoff&gt;&lt;/s...</td>\n",
       "      <td>&lt;foulcommit&gt;&lt;value&gt;&lt;stats&gt;&lt;foulscommitted&gt;1&lt;/f...</td>\n",
       "      <td>&lt;card&gt;&lt;value&gt;&lt;comment&gt;y&lt;/comment&gt;&lt;stats&gt;&lt;ycard...</td>\n",
       "      <td>&lt;cross&gt;&lt;value&gt;&lt;stats&gt;&lt;corners&gt;1&lt;/corners&gt;&lt;/sta...</td>\n",
       "      <td>&lt;corner&gt;&lt;value&gt;&lt;stats&gt;&lt;corners&gt;1&lt;/corners&gt;&lt;/st...</td>\n",
       "      <td>&lt;possession&gt;&lt;value&gt;&lt;comment&gt;45&lt;/comment&gt;&lt;event...</td>\n",
       "      <td>&lt;goal&gt;\\n &lt;value&gt;\\n  &lt;comment&gt;\\n   n\\n  &lt;/comme...</td>\n",
       "      <td>[n, n, n, p, n, n]</td>\n",
       "      <td>[distance, header, shot, shot, shot]</td>\n",
       "    </tr>\n",
       "    <tr>\n",
       "      <th>4523</th>\n",
       "      <td>4524</td>\n",
       "      <td>15/16</td>\n",
       "      <td>21</td>\n",
       "      <td>2016-01-13</td>\n",
       "      <td>1988915</td>\n",
       "      <td>8456</td>\n",
       "      <td>8668</td>\n",
       "      <td>0</td>\n",
       "      <td>0</td>\n",
       "      <td>0</td>\n",
       "      <td>...</td>\n",
       "      <td>&lt;shoton&gt;&lt;value&gt;&lt;stats&gt;&lt;shoton&gt;1&lt;/shoton&gt;&lt;/stat...</td>\n",
       "      <td>&lt;shotoff&gt;&lt;value&gt;&lt;stats&gt;&lt;shotoff&gt;1&lt;/shotoff&gt;&lt;/s...</td>\n",
       "      <td>&lt;foulcommit&gt;&lt;value&gt;&lt;stats&gt;&lt;foulscommitted&gt;1&lt;/f...</td>\n",
       "      <td>&lt;card&gt;&lt;value&gt;&lt;comment&gt;y&lt;/comment&gt;&lt;stats&gt;&lt;ycard...</td>\n",
       "      <td>&lt;cross&gt;&lt;value&gt;&lt;stats&gt;&lt;crosses&gt;1&lt;/crosses&gt;&lt;/sta...</td>\n",
       "      <td>&lt;corner&gt;&lt;value&gt;&lt;stats&gt;&lt;corners&gt;1&lt;/corners&gt;&lt;/st...</td>\n",
       "      <td>&lt;possession&gt;&lt;value&gt;&lt;comment&gt;55&lt;/comment&gt;&lt;stats...</td>\n",
       "      <td>&lt;goal&gt;\\n&lt;/goal&gt;\\n</td>\n",
       "      <td>[]</td>\n",
       "      <td>[]</td>\n",
       "    </tr>\n",
       "    <tr>\n",
       "      <th>3459</th>\n",
       "      <td>3460</td>\n",
       "      <td>12/13</td>\n",
       "      <td>29</td>\n",
       "      <td>2013-04-17</td>\n",
       "      <td>1229408</td>\n",
       "      <td>9879</td>\n",
       "      <td>8455</td>\n",
       "      <td>0</td>\n",
       "      <td>3</td>\n",
       "      <td>-1</td>\n",
       "      <td>...</td>\n",
       "      <td>&lt;shoton&gt;&lt;value&gt;&lt;stats&gt;&lt;blocked&gt;1&lt;/blocked&gt;&lt;/st...</td>\n",
       "      <td>&lt;shotoff&gt;&lt;value&gt;&lt;stats&gt;&lt;shotoff&gt;1&lt;/shotoff&gt;&lt;/s...</td>\n",
       "      <td>&lt;foulcommit&gt;&lt;value&gt;&lt;stats&gt;&lt;foulscommitted&gt;1&lt;/f...</td>\n",
       "      <td>&lt;card&gt;&lt;value&gt;&lt;comment&gt;y&lt;/comment&gt;&lt;stats&gt;&lt;ycard...</td>\n",
       "      <td>&lt;cross&gt;&lt;value&gt;&lt;stats&gt;&lt;crosses&gt;1&lt;/crosses&gt;&lt;/sta...</td>\n",
       "      <td>&lt;corner&gt;&lt;value&gt;&lt;stats&gt;&lt;corners&gt;1&lt;/corners&gt;&lt;/st...</td>\n",
       "      <td>&lt;possession&gt;&lt;value&gt;&lt;comment&gt;50&lt;/comment&gt;&lt;event...</td>\n",
       "      <td>&lt;goal&gt;\\n &lt;value&gt;\\n  &lt;comment&gt;\\n   n\\n  &lt;/comme...</td>\n",
       "      <td>[n, n, n]</td>\n",
       "      <td>[distance, header, header]</td>\n",
       "    </tr>\n",
       "    <tr>\n",
       "      <th>1939</th>\n",
       "      <td>1940</td>\n",
       "      <td>08/09</td>\n",
       "      <td>29</td>\n",
       "      <td>2009-03-14</td>\n",
       "      <td>489324</td>\n",
       "      <td>9825</td>\n",
       "      <td>8655</td>\n",
       "      <td>4</td>\n",
       "      <td>0</td>\n",
       "      <td>1</td>\n",
       "      <td>...</td>\n",
       "      <td>&lt;shoton&gt;&lt;value&gt;&lt;stats&gt;&lt;shoton&gt;1&lt;/shoton&gt;&lt;/stat...</td>\n",
       "      <td>&lt;shotoff&gt;&lt;value&gt;&lt;stats&gt;&lt;shotoff&gt;1&lt;/shotoff&gt;&lt;/s...</td>\n",
       "      <td>&lt;foulcommit&gt;&lt;value&gt;&lt;stats&gt;&lt;foulscommitted&gt;1&lt;/f...</td>\n",
       "      <td>&lt;card&gt;&lt;value&gt;&lt;comment&gt;y&lt;/comment&gt;&lt;stats&gt;&lt;ycard...</td>\n",
       "      <td>&lt;cross&gt;&lt;value&gt;&lt;event_incident_typefk&gt;123&lt;/even...</td>\n",
       "      <td>&lt;corner&gt;&lt;value&gt;&lt;stats&gt;&lt;corners&gt;1&lt;/corners&gt;&lt;/st...</td>\n",
       "      <td>&lt;possession&gt;&lt;value&gt;&lt;comment&gt;58&lt;/comment&gt;&lt;event...</td>\n",
       "      <td>&lt;goal&gt;\\n &lt;value&gt;\\n  &lt;comment&gt;\\n   o\\n  &lt;/comme...</td>\n",
       "      <td>[o, n, n, p]</td>\n",
       "      <td>[shot, volley]</td>\n",
       "    </tr>\n",
       "  </tbody>\n",
       "</table>\n",
       "<p>5 rows × 47 columns</p>\n",
       "</div>"
      ],
      "text/plain": [
       "        id season  Round / 38       date  match_api_id  Home ID  Away ID  \\\n",
       "3576  3577  12/13           4 2012-09-15       1228351    10194     8456   \n",
       "2760  2761  10/11          34 2011-04-23        840187     8472     8528   \n",
       "4523  4524  15/16          21 2016-01-13       1988915     8456     8668   \n",
       "3459  3460  12/13          29 2013-04-17       1229408     9879     8455   \n",
       "1939  1940  08/09          29 2009-03-14        489324     9825     8655   \n",
       "\n",
       "      Home GS  Away GS  Result  ...  \\\n",
       "3576        1        1       0  ...   \n",
       "2760        4        2       1  ...   \n",
       "4523        0        0       0  ...   \n",
       "3459        0        3      -1  ...   \n",
       "1939        4        0       1  ...   \n",
       "\n",
       "                                                 shoton  \\\n",
       "3576  <shoton><value><stats><blocked>1</blocked></st...   \n",
       "2760  <shoton><value><stats><shoton>1</shoton></stat...   \n",
       "4523  <shoton><value><stats><shoton>1</shoton></stat...   \n",
       "3459  <shoton><value><stats><blocked>1</blocked></st...   \n",
       "1939  <shoton><value><stats><shoton>1</shoton></stat...   \n",
       "\n",
       "                                                shotoff  \\\n",
       "3576  <shotoff><value><stats><shotoff>1</shotoff></s...   \n",
       "2760  <shotoff><value><stats><shotoff>1</shotoff></s...   \n",
       "4523  <shotoff><value><stats><shotoff>1</shotoff></s...   \n",
       "3459  <shotoff><value><stats><shotoff>1</shotoff></s...   \n",
       "1939  <shotoff><value><stats><shotoff>1</shotoff></s...   \n",
       "\n",
       "                                             foulcommit  \\\n",
       "3576  <foulcommit><value><stats><foulscommitted>1</f...   \n",
       "2760  <foulcommit><value><stats><foulscommitted>1</f...   \n",
       "4523  <foulcommit><value><stats><foulscommitted>1</f...   \n",
       "3459  <foulcommit><value><stats><foulscommitted>1</f...   \n",
       "1939  <foulcommit><value><stats><foulscommitted>1</f...   \n",
       "\n",
       "                                                   card  \\\n",
       "3576  <card><value><comment>y</comment><stats><ycard...   \n",
       "2760  <card><value><comment>y</comment><stats><ycard...   \n",
       "4523  <card><value><comment>y</comment><stats><ycard...   \n",
       "3459  <card><value><comment>y</comment><stats><ycard...   \n",
       "1939  <card><value><comment>y</comment><stats><ycard...   \n",
       "\n",
       "                                                  cross  \\\n",
       "3576  <cross><value><stats><crosses>1</crosses></sta...   \n",
       "2760  <cross><value><stats><corners>1</corners></sta...   \n",
       "4523  <cross><value><stats><crosses>1</crosses></sta...   \n",
       "3459  <cross><value><stats><crosses>1</crosses></sta...   \n",
       "1939  <cross><value><event_incident_typefk>123</even...   \n",
       "\n",
       "                                                 corner  \\\n",
       "3576  <corner><value><stats><corners>1</corners></st...   \n",
       "2760  <corner><value><stats><corners>1</corners></st...   \n",
       "4523  <corner><value><stats><corners>1</corners></st...   \n",
       "3459  <corner><value><stats><corners>1</corners></st...   \n",
       "1939  <corner><value><stats><corners>1</corners></st...   \n",
       "\n",
       "                                             possession  \\\n",
       "3576  <possession><value><comment>48</comment><event...   \n",
       "2760  <possession><value><comment>45</comment><event...   \n",
       "4523  <possession><value><comment>55</comment><stats...   \n",
       "3459  <possession><value><comment>50</comment><event...   \n",
       "1939  <possession><value><comment>58</comment><event...   \n",
       "\n",
       "                                            goal_parsed       goal_comments  \\\n",
       "3576  <goal>\\n <value>\\n  <comment>\\n   n\\n  </comme...              [n, n]   \n",
       "2760  <goal>\\n <value>\\n  <comment>\\n   n\\n  </comme...  [n, n, n, p, n, n]   \n",
       "4523                                  <goal>\\n</goal>\\n                  []   \n",
       "3459  <goal>\\n <value>\\n  <comment>\\n   n\\n  </comme...           [n, n, n]   \n",
       "1939  <goal>\\n <value>\\n  <comment>\\n   o\\n  </comme...        [o, n, n, p]   \n",
       "\n",
       "                             goal_subtypes  \n",
       "3576                        [shot, header]  \n",
       "2760  [distance, header, shot, shot, shot]  \n",
       "4523                                    []  \n",
       "3459            [distance, header, header]  \n",
       "1939                        [shot, volley]  \n",
       "\n",
       "[5 rows x 47 columns]"
      ]
     },
     "execution_count": 706,
     "metadata": {},
     "output_type": "execute_result"
    }
   ],
   "source": [
    "prem.sample(5)"
   ]
  },
  {
   "cell_type": "code",
   "execution_count": 707,
   "metadata": {},
   "outputs": [
    {
     "data": {
      "text/plain": [
       "Index(['id', 'season', 'Round / 38', 'date', 'match_api_id', 'Home ID',\n",
       "       'Away ID', 'Home GS', 'Away GS', 'Result', 'Margin', 'p(Home)',\n",
       "       'p(Draw)', 'p(Away)', 'home_player_1', 'home_player_2', 'home_player_3',\n",
       "       'home_player_4', 'home_player_5', 'home_player_6', 'home_player_7',\n",
       "       'home_player_8', 'home_player_9', 'home_player_10', 'home_player_11',\n",
       "       'away_player_1', 'away_player_2', 'away_player_3', 'away_player_4',\n",
       "       'away_player_5', 'away_player_6', 'away_player_7', 'away_player_8',\n",
       "       'away_player_9', 'away_player_10', 'away_player_11', 'goal', 'shoton',\n",
       "       'shotoff', 'foulcommit', 'card', 'cross', 'corner', 'possession',\n",
       "       'goal_parsed', 'goal_comments', 'goal_subtypes'],\n",
       "      dtype='object')"
      ]
     },
     "execution_count": 707,
     "metadata": {},
     "output_type": "execute_result"
    }
   ],
   "source": [
    "prem.columns"
   ]
  },
  {
   "cell_type": "markdown",
   "metadata": {},
   "source": [
    "### Adding Player Ratings and Team statistics to prem df"
   ]
  },
  {
   "cell_type": "code",
   "execution_count": 708,
   "metadata": {},
   "outputs": [],
   "source": [
    "# Convert the 'date' columns to datetime and extract the year\n",
    "prem['date'] = pd.to_datetime(prem['date'])\n",
    "prem['year'] = prem['date'].dt.year\n",
    "\n",
    "player_attr['date'] = pd.to_datetime(player_attr['date'])\n",
    "player_attr['year'] = player_attr['date'].dt.year\n",
    "\n",
    "# Function to merge and find the nearest year if an exact match is not available\n",
    "def merge_with_nearest_year(prem_df, player_attr_df, player_col, rating_col_prefix):\n",
    "    # Sort player_attr by player_id and year\n",
    "    player_attr_df = player_attr_df.sort_values(['player_api_id', 'year'])\n",
    "    \n",
    "    # Initialize a list to hold the rating data\n",
    "    ratings = []\n",
    "\n",
    "    # Iterate over each row in prem_df\n",
    "    for _, row in prem_df.iterrows():\n",
    "        player_id = row[player_col]\n",
    "        match_year = row['year']\n",
    "\n",
    "        # Filter player_attr for the current player_id\n",
    "        player_data = player_attr_df[player_attr_df['player_api_id'] == player_id]\n",
    "\n",
    "        # Find the closest year if there are any records for the player\n",
    "        if not player_data.empty:\n",
    "            closest_year = player_data.iloc[(player_data['year'] - match_year).abs().argsort()[:1]].squeeze()\n",
    "            ratings.append(closest_year['overall_rating'])\n",
    "        else:\n",
    "            ratings.append(None)  # Append None if no data is available\n",
    "\n",
    "    # Add the ratings to the prem_df\n",
    "    prem_df[rating_col_prefix] = ratings\n",
    "\n",
    "# Apply the function for home and away players\n",
    "for n in range(1, 12):\n",
    "    merge_with_nearest_year(prem, player_attr, f'home_player_{n}', f'home_player_{n}_rating')\n",
    "    merge_with_nearest_year(prem, player_attr, f'away_player_{n}', f'away_player_{n}_rating')\n",
    "\n",
    "# adding the team statistics to the prem df\n",
    "prem = prem.merge(\n",
    "    big_stats[['team_api_id', 'total_matches', 'avg_GS_per_match', 'avg_GA_per_match']],\n",
    "    left_on='Home ID',\n",
    "    right_on='team_api_id',\n",
    "    how='left'\n",
    ").rename(columns={\n",
    "    'total_matches': 'home_total_matches',\n",
    "    'avg_GS_per_match': 'home_avg_GS_per_match',\n",
    "    'avg_GA_per_match': 'home_avg_GA_per_match'\n",
    "}).drop(columns='team_api_id')\n",
    "\n",
    "prem = prem.merge(\n",
    "    big_stats[['team_api_id', 'total_matches', 'avg_GS_per_match', 'avg_GA_per_match']],\n",
    "    left_on='Away ID',\n",
    "    right_on='team_api_id',\n",
    "    how='left'\n",
    ").rename(columns={\n",
    "    'total_matches': 'away_total_matches',\n",
    "    'avg_GS_per_match': 'away_avg_GS_per_match',\n",
    "    'avg_GA_per_match': 'away_avg_GA_per_match'\n",
    "}).drop(columns='team_api_id')"
   ]
  },
  {
   "cell_type": "code",
   "execution_count": 709,
   "metadata": {},
   "outputs": [
    {
     "data": {
      "text/html": [
       "<div>\n",
       "<style scoped>\n",
       "    .dataframe tbody tr th:only-of-type {\n",
       "        vertical-align: middle;\n",
       "    }\n",
       "\n",
       "    .dataframe tbody tr th {\n",
       "        vertical-align: top;\n",
       "    }\n",
       "\n",
       "    .dataframe thead th {\n",
       "        text-align: right;\n",
       "    }\n",
       "</style>\n",
       "<table border=\"1\" class=\"dataframe\">\n",
       "  <thead>\n",
       "    <tr style=\"text-align: right;\">\n",
       "      <th></th>\n",
       "      <th>id</th>\n",
       "      <th>season</th>\n",
       "      <th>Round / 38</th>\n",
       "      <th>date</th>\n",
       "      <th>match_api_id</th>\n",
       "      <th>Home ID</th>\n",
       "      <th>Away ID</th>\n",
       "      <th>Home GS</th>\n",
       "      <th>Away GS</th>\n",
       "      <th>Result</th>\n",
       "      <th>...</th>\n",
       "      <th>home_player_10_rating</th>\n",
       "      <th>away_player_10_rating</th>\n",
       "      <th>home_player_11_rating</th>\n",
       "      <th>away_player_11_rating</th>\n",
       "      <th>home_total_matches</th>\n",
       "      <th>home_avg_GS_per_match</th>\n",
       "      <th>home_avg_GA_per_match</th>\n",
       "      <th>away_total_matches</th>\n",
       "      <th>away_avg_GS_per_match</th>\n",
       "      <th>away_avg_GA_per_match</th>\n",
       "    </tr>\n",
       "  </thead>\n",
       "  <tbody>\n",
       "    <tr>\n",
       "      <th>1717</th>\n",
       "      <td>3446</td>\n",
       "      <td>12/13</td>\n",
       "      <td>27</td>\n",
       "      <td>2013-02-23</td>\n",
       "      <td>1229392</td>\n",
       "      <td>9798</td>\n",
       "      <td>8528</td>\n",
       "      <td>0</td>\n",
       "      <td>3</td>\n",
       "      <td>-1</td>\n",
       "      <td>...</td>\n",
       "      <td>72.5</td>\n",
       "      <td>77.0</td>\n",
       "      <td>68.0</td>\n",
       "      <td>71.0</td>\n",
       "      <td>38</td>\n",
       "      <td>1.13</td>\n",
       "      <td>1.92</td>\n",
       "      <td>190</td>\n",
       "      <td>1.05</td>\n",
       "      <td>1.68</td>\n",
       "    </tr>\n",
       "    <tr>\n",
       "      <th>41</th>\n",
       "      <td>1770</td>\n",
       "      <td>08/09</td>\n",
       "      <td>13</td>\n",
       "      <td>2008-11-15</td>\n",
       "      <td>489163</td>\n",
       "      <td>9825</td>\n",
       "      <td>10252</td>\n",
       "      <td>0</td>\n",
       "      <td>2</td>\n",
       "      <td>-1</td>\n",
       "      <td>...</td>\n",
       "      <td>73.5</td>\n",
       "      <td>76.5</td>\n",
       "      <td>73.0</td>\n",
       "      <td>74.0</td>\n",
       "      <td>304</td>\n",
       "      <td>1.88</td>\n",
       "      <td>1.05</td>\n",
       "      <td>304</td>\n",
       "      <td>1.10</td>\n",
       "      <td>1.52</td>\n",
       "    </tr>\n",
       "    <tr>\n",
       "      <th>303</th>\n",
       "      <td>2032</td>\n",
       "      <td>08/09</td>\n",
       "      <td>37</td>\n",
       "      <td>2009-05-16</td>\n",
       "      <td>489406</td>\n",
       "      <td>8549</td>\n",
       "      <td>10252</td>\n",
       "      <td>1</td>\n",
       "      <td>1</td>\n",
       "      <td>0</td>\n",
       "      <td>...</td>\n",
       "      <td>78.5</td>\n",
       "      <td>78.0</td>\n",
       "      <td>66.0</td>\n",
       "      <td>75.0</td>\n",
       "      <td>38</td>\n",
       "      <td>0.74</td>\n",
       "      <td>1.50</td>\n",
       "      <td>304</td>\n",
       "      <td>1.10</td>\n",
       "      <td>1.52</td>\n",
       "    </tr>\n",
       "    <tr>\n",
       "      <th>110</th>\n",
       "      <td>1839</td>\n",
       "      <td>08/09</td>\n",
       "      <td>2</td>\n",
       "      <td>2008-08-23</td>\n",
       "      <td>489052</td>\n",
       "      <td>8650</td>\n",
       "      <td>8549</td>\n",
       "      <td>2</td>\n",
       "      <td>1</td>\n",
       "      <td>1</td>\n",
       "      <td>...</td>\n",
       "      <td>85.0</td>\n",
       "      <td>79.0</td>\n",
       "      <td>87.0</td>\n",
       "      <td>78.5</td>\n",
       "      <td>304</td>\n",
       "      <td>1.75</td>\n",
       "      <td>1.11</td>\n",
       "      <td>38</td>\n",
       "      <td>0.74</td>\n",
       "      <td>1.50</td>\n",
       "    </tr>\n",
       "    <tr>\n",
       "      <th>1750</th>\n",
       "      <td>3479</td>\n",
       "      <td>12/13</td>\n",
       "      <td>30</td>\n",
       "      <td>2013-03-16</td>\n",
       "      <td>1229418</td>\n",
       "      <td>10252</td>\n",
       "      <td>10172</td>\n",
       "      <td>3</td>\n",
       "      <td>2</td>\n",
       "      <td>1</td>\n",
       "      <td>...</td>\n",
       "      <td>56.0</td>\n",
       "      <td>75.0</td>\n",
       "      <td>74.0</td>\n",
       "      <td>62.0</td>\n",
       "      <td>304</td>\n",
       "      <td>1.10</td>\n",
       "      <td>1.52</td>\n",
       "      <td>114</td>\n",
       "      <td>1.01</td>\n",
       "      <td>1.75</td>\n",
       "    </tr>\n",
       "    <tr>\n",
       "      <th>2720</th>\n",
       "      <td>4449</td>\n",
       "      <td>15/16</td>\n",
       "      <td>15</td>\n",
       "      <td>2015-12-05</td>\n",
       "      <td>1988850</td>\n",
       "      <td>9825</td>\n",
       "      <td>8472</td>\n",
       "      <td>3</td>\n",
       "      <td>1</td>\n",
       "      <td>1</td>\n",
       "      <td>...</td>\n",
       "      <td>52.0</td>\n",
       "      <td>70.0</td>\n",
       "      <td>56.0</td>\n",
       "      <td>68.5</td>\n",
       "      <td>304</td>\n",
       "      <td>1.88</td>\n",
       "      <td>1.05</td>\n",
       "      <td>304</td>\n",
       "      <td>1.10</td>\n",
       "      <td>1.45</td>\n",
       "    </tr>\n",
       "    <tr>\n",
       "      <th>301</th>\n",
       "      <td>2030</td>\n",
       "      <td>08/09</td>\n",
       "      <td>37</td>\n",
       "      <td>2009-05-16</td>\n",
       "      <td>489404</td>\n",
       "      <td>8586</td>\n",
       "      <td>8456</td>\n",
       "      <td>2</td>\n",
       "      <td>1</td>\n",
       "      <td>1</td>\n",
       "      <td>...</td>\n",
       "      <td>65.0</td>\n",
       "      <td>80.5</td>\n",
       "      <td>83.5</td>\n",
       "      <td>61.0</td>\n",
       "      <td>304</td>\n",
       "      <td>1.58</td>\n",
       "      <td>1.18</td>\n",
       "      <td>304</td>\n",
       "      <td>1.99</td>\n",
       "      <td>1.01</td>\n",
       "    </tr>\n",
       "    <tr>\n",
       "      <th>1439</th>\n",
       "      <td>3168</td>\n",
       "      <td>11/12</td>\n",
       "      <td>36</td>\n",
       "      <td>2012-04-28</td>\n",
       "      <td>1026093</td>\n",
       "      <td>8528</td>\n",
       "      <td>10261</td>\n",
       "      <td>4</td>\n",
       "      <td>0</td>\n",
       "      <td>1</td>\n",
       "      <td>...</td>\n",
       "      <td>71.0</td>\n",
       "      <td>67.0</td>\n",
       "      <td>76.5</td>\n",
       "      <td>65.0</td>\n",
       "      <td>190</td>\n",
       "      <td>1.05</td>\n",
       "      <td>1.68</td>\n",
       "      <td>266</td>\n",
       "      <td>1.22</td>\n",
       "      <td>1.59</td>\n",
       "    </tr>\n",
       "    <tr>\n",
       "      <th>1575</th>\n",
       "      <td>3304</td>\n",
       "      <td>12/13</td>\n",
       "      <td>14</td>\n",
       "      <td>2012-11-28</td>\n",
       "      <td>1229244</td>\n",
       "      <td>10003</td>\n",
       "      <td>8659</td>\n",
       "      <td>3</td>\n",
       "      <td>1</td>\n",
       "      <td>1</td>\n",
       "      <td>...</td>\n",
       "      <td>72.0</td>\n",
       "      <td>79.5</td>\n",
       "      <td>64.0</td>\n",
       "      <td>74.0</td>\n",
       "      <td>190</td>\n",
       "      <td>1.23</td>\n",
       "      <td>1.35</td>\n",
       "      <td>266</td>\n",
       "      <td>1.15</td>\n",
       "      <td>1.52</td>\n",
       "    </tr>\n",
       "    <tr>\n",
       "      <th>2281</th>\n",
       "      <td>4010</td>\n",
       "      <td>14/15</td>\n",
       "      <td>1</td>\n",
       "      <td>2014-08-18</td>\n",
       "      <td>1723983</td>\n",
       "      <td>8191</td>\n",
       "      <td>8455</td>\n",
       "      <td>1</td>\n",
       "      <td>3</td>\n",
       "      <td>-1</td>\n",
       "      <td>...</td>\n",
       "      <td>41.0</td>\n",
       "      <td>51.0</td>\n",
       "      <td>57.0</td>\n",
       "      <td>74.0</td>\n",
       "      <td>76</td>\n",
       "      <td>0.92</td>\n",
       "      <td>1.78</td>\n",
       "      <td>304</td>\n",
       "      <td>1.92</td>\n",
       "      <td>0.94</td>\n",
       "    </tr>\n",
       "  </tbody>\n",
       "</table>\n",
       "<p>10 rows × 76 columns</p>\n",
       "</div>"
      ],
      "text/plain": [
       "        id season  Round / 38       date  match_api_id  Home ID  Away ID  \\\n",
       "1717  3446  12/13          27 2013-02-23       1229392     9798     8528   \n",
       "41    1770  08/09          13 2008-11-15        489163     9825    10252   \n",
       "303   2032  08/09          37 2009-05-16        489406     8549    10252   \n",
       "110   1839  08/09           2 2008-08-23        489052     8650     8549   \n",
       "1750  3479  12/13          30 2013-03-16       1229418    10252    10172   \n",
       "2720  4449  15/16          15 2015-12-05       1988850     9825     8472   \n",
       "301   2030  08/09          37 2009-05-16        489404     8586     8456   \n",
       "1439  3168  11/12          36 2012-04-28       1026093     8528    10261   \n",
       "1575  3304  12/13          14 2012-11-28       1229244    10003     8659   \n",
       "2281  4010  14/15           1 2014-08-18       1723983     8191     8455   \n",
       "\n",
       "      Home GS  Away GS  Result  ...  home_player_10_rating  \\\n",
       "1717        0        3      -1  ...                   72.5   \n",
       "41          0        2      -1  ...                   73.5   \n",
       "303         1        1       0  ...                   78.5   \n",
       "110         2        1       1  ...                   85.0   \n",
       "1750        3        2       1  ...                   56.0   \n",
       "2720        3        1       1  ...                   52.0   \n",
       "301         2        1       1  ...                   65.0   \n",
       "1439        4        0       1  ...                   71.0   \n",
       "1575        3        1       1  ...                   72.0   \n",
       "2281        1        3      -1  ...                   41.0   \n",
       "\n",
       "      away_player_10_rating  home_player_11_rating  away_player_11_rating  \\\n",
       "1717                   77.0                   68.0                   71.0   \n",
       "41                     76.5                   73.0                   74.0   \n",
       "303                    78.0                   66.0                   75.0   \n",
       "110                    79.0                   87.0                   78.5   \n",
       "1750                   75.0                   74.0                   62.0   \n",
       "2720                   70.0                   56.0                   68.5   \n",
       "301                    80.5                   83.5                   61.0   \n",
       "1439                   67.0                   76.5                   65.0   \n",
       "1575                   79.5                   64.0                   74.0   \n",
       "2281                   51.0                   57.0                   74.0   \n",
       "\n",
       "      home_total_matches  home_avg_GS_per_match  home_avg_GA_per_match  \\\n",
       "1717                  38                   1.13                   1.92   \n",
       "41                   304                   1.88                   1.05   \n",
       "303                   38                   0.74                   1.50   \n",
       "110                  304                   1.75                   1.11   \n",
       "1750                 304                   1.10                   1.52   \n",
       "2720                 304                   1.88                   1.05   \n",
       "301                  304                   1.58                   1.18   \n",
       "1439                 190                   1.05                   1.68   \n",
       "1575                 190                   1.23                   1.35   \n",
       "2281                  76                   0.92                   1.78   \n",
       "\n",
       "      away_total_matches  away_avg_GS_per_match  away_avg_GA_per_match  \n",
       "1717                 190                   1.05                   1.68  \n",
       "41                   304                   1.10                   1.52  \n",
       "303                  304                   1.10                   1.52  \n",
       "110                   38                   0.74                   1.50  \n",
       "1750                 114                   1.01                   1.75  \n",
       "2720                 304                   1.10                   1.45  \n",
       "301                  304                   1.99                   1.01  \n",
       "1439                 266                   1.22                   1.59  \n",
       "1575                 266                   1.15                   1.52  \n",
       "2281                 304                   1.92                   0.94  \n",
       "\n",
       "[10 rows x 76 columns]"
      ]
     },
     "execution_count": 709,
     "metadata": {},
     "output_type": "execute_result"
    }
   ],
   "source": [
    "prem.sample(10)"
   ]
  },
  {
   "cell_type": "markdown",
   "metadata": {},
   "source": [
    "It looks quite good - lots and lots of columns that need shaving somehow, but we got these in!\n",
    "\n",
    "Let's check if any nulls are there."
   ]
  },
  {
   "cell_type": "code",
   "execution_count": 710,
   "metadata": {},
   "outputs": [
    {
     "data": {
      "text/plain": [
       "away_player_2            8\n",
       "away_player_10           8\n",
       "away_player_2_rating     8\n",
       "away_player_10_rating    8\n",
       "home_player_10           7\n",
       "away_player_5_rating     7\n",
       "away_player_7_rating     7\n",
       "home_player_2            7\n",
       "home_player_8_rating     7\n",
       "away_player_5            7\n",
       "home_player_8            7\n",
       "home_player_10_rating    7\n",
       "away_player_7            7\n",
       "home_player_2_rating     7\n",
       "away_player_9            6\n",
       "away_player_9_rating     6\n",
       "away_player_11_rating    5\n",
       "home_player_7_rating     5\n",
       "away_player_11           5\n",
       "home_player_7            5\n",
       "dtype: int64"
      ]
     },
     "execution_count": 710,
     "metadata": {},
     "output_type": "execute_result"
    }
   ],
   "source": [
    "# check every column for nulls by the columns with the most first\n",
    "prem.isnull().sum().sort_values(ascending=False).head(20)"
   ]
  },
  {
   "cell_type": "markdown",
   "metadata": {},
   "source": [
    "We can see from the above that there are a handful of empty/null ratings because there's a null in the player_id column itself. e.g. away 10 and away 2 both have 8 nulls in the id and the rating.\n",
    "\n",
    "There are onyl single digit number of nulls across over 3,000 games. For completeness, we can just fill the nulls ratings with the average of the respective team e.g. if away 10_rating is null, give him the average rating of the team around him."
   ]
  },
  {
   "cell_type": "code",
   "execution_count": 711,
   "metadata": {},
   "outputs": [],
   "source": [
    "# fill the home_player_x and away_player_x rating columns, if null, with the mean of the team's overall_rating\n",
    "for n in range(1, 12):\n",
    "    # Calculate the mean of the other players' ratings for the home team, each row\n",
    "    home_rating_cols = [f'home_player_{i}_rating' for i in range(1, 12) if i != n] # if i != n is to exclude the current player in case the null is here\n",
    "    prem[f'home_player_{n}_rating'] = prem.apply(\n",
    "        lambda row: row[home_rating_cols].mean() if pd.isnull(row[f'home_player_{n}_rating']) else row[f'home_player_{n}_rating'],\n",
    "        axis=1\n",
    "    ) # for every row, run through the home player ratings and take the mean if the rating is null\n",
    "\n",
    "    # same for away team\n",
    "    away_rating_cols = [f'away_player_{i}_rating' for i in range(1, 12) if i != n]\n",
    "    prem[f'away_player_{n}_rating'] = prem.apply(\n",
    "        lambda row: row[away_rating_cols].mean() if pd.isnull(row[f'away_player_{n}_rating']) else row[f'away_player_{n}_rating'],\n",
    "        axis=1\n",
    "    )"
   ]
  },
  {
   "cell_type": "code",
   "execution_count": 712,
   "metadata": {},
   "outputs": [
    {
     "data": {
      "text/plain": [
       "away_player_10    8\n",
       "away_player_2     8\n",
       "home_player_10    7\n",
       "home_player_8     7\n",
       "away_player_5     7\n",
       "dtype: int64"
      ]
     },
     "execution_count": 712,
     "metadata": {},
     "output_type": "execute_result"
    }
   ],
   "source": [
    "# check for nulls again - only the IDs, not the ratings!\n",
    "prem.isnull().sum().sort_values(ascending=False).head()"
   ]
  },
  {
   "cell_type": "code",
   "execution_count": 713,
   "metadata": {},
   "outputs": [
    {
     "data": {
      "text/html": [
       "<div>\n",
       "<style scoped>\n",
       "    .dataframe tbody tr th:only-of-type {\n",
       "        vertical-align: middle;\n",
       "    }\n",
       "\n",
       "    .dataframe tbody tr th {\n",
       "        vertical-align: top;\n",
       "    }\n",
       "\n",
       "    .dataframe thead th {\n",
       "        text-align: right;\n",
       "    }\n",
       "</style>\n",
       "<table border=\"1\" class=\"dataframe\">\n",
       "  <thead>\n",
       "    <tr style=\"text-align: right;\">\n",
       "      <th></th>\n",
       "      <th>id</th>\n",
       "      <th>season</th>\n",
       "      <th>Round / 38</th>\n",
       "      <th>date</th>\n",
       "      <th>match_api_id</th>\n",
       "      <th>Home ID</th>\n",
       "      <th>Away ID</th>\n",
       "      <th>Home GS</th>\n",
       "      <th>Away GS</th>\n",
       "      <th>Result</th>\n",
       "      <th>...</th>\n",
       "      <th>home_player_10_rating</th>\n",
       "      <th>away_player_10_rating</th>\n",
       "      <th>home_player_11_rating</th>\n",
       "      <th>away_player_11_rating</th>\n",
       "      <th>home_total_matches</th>\n",
       "      <th>home_avg_GS_per_match</th>\n",
       "      <th>home_avg_GA_per_match</th>\n",
       "      <th>away_total_matches</th>\n",
       "      <th>away_avg_GS_per_match</th>\n",
       "      <th>away_avg_GA_per_match</th>\n",
       "    </tr>\n",
       "  </thead>\n",
       "  <tbody>\n",
       "    <tr>\n",
       "      <th>2306</th>\n",
       "      <td>4035</td>\n",
       "      <td>14/15</td>\n",
       "      <td>11</td>\n",
       "      <td>2014-11-09</td>\n",
       "      <td>1724088</td>\n",
       "      <td>10003</td>\n",
       "      <td>9825</td>\n",
       "      <td>2</td>\n",
       "      <td>1</td>\n",
       "      <td>1</td>\n",
       "      <td>...</td>\n",
       "      <td>64.0</td>\n",
       "      <td>72.0</td>\n",
       "      <td>56.0</td>\n",
       "      <td>64.0</td>\n",
       "      <td>190</td>\n",
       "      <td>1.23</td>\n",
       "      <td>1.35</td>\n",
       "      <td>304</td>\n",
       "      <td>1.88</td>\n",
       "      <td>1.05</td>\n",
       "    </tr>\n",
       "    <tr>\n",
       "      <th>996</th>\n",
       "      <td>2725</td>\n",
       "      <td>10/11</td>\n",
       "      <td>30</td>\n",
       "      <td>2011-03-19</td>\n",
       "      <td>840151</td>\n",
       "      <td>8659</td>\n",
       "      <td>9825</td>\n",
       "      <td>2</td>\n",
       "      <td>2</td>\n",
       "      <td>0</td>\n",
       "      <td>...</td>\n",
       "      <td>75.0</td>\n",
       "      <td>83.0</td>\n",
       "      <td>79.5</td>\n",
       "      <td>85.5</td>\n",
       "      <td>266</td>\n",
       "      <td>1.15</td>\n",
       "      <td>1.52</td>\n",
       "      <td>304</td>\n",
       "      <td>1.88</td>\n",
       "      <td>1.05</td>\n",
       "    </tr>\n",
       "    <tr>\n",
       "      <th>449</th>\n",
       "      <td>2178</td>\n",
       "      <td>09/10</td>\n",
       "      <td>15</td>\n",
       "      <td>2009-12-05</td>\n",
       "      <td>658818</td>\n",
       "      <td>9825</td>\n",
       "      <td>10194</td>\n",
       "      <td>2</td>\n",
       "      <td>0</td>\n",
       "      <td>1</td>\n",
       "      <td>...</td>\n",
       "      <td>85.0</td>\n",
       "      <td>78.5</td>\n",
       "      <td>83.0</td>\n",
       "      <td>67.0</td>\n",
       "      <td>304</td>\n",
       "      <td>1.88</td>\n",
       "      <td>1.05</td>\n",
       "      <td>304</td>\n",
       "      <td>1.06</td>\n",
       "      <td>1.32</td>\n",
       "    </tr>\n",
       "    <tr>\n",
       "      <th>1026</th>\n",
       "      <td>2755</td>\n",
       "      <td>10/11</td>\n",
       "      <td>33</td>\n",
       "      <td>2011-04-27</td>\n",
       "      <td>840180</td>\n",
       "      <td>9879</td>\n",
       "      <td>8559</td>\n",
       "      <td>3</td>\n",
       "      <td>0</td>\n",
       "      <td>1</td>\n",
       "      <td>...</td>\n",
       "      <td>84.0</td>\n",
       "      <td>82.5</td>\n",
       "      <td>73.0</td>\n",
       "      <td>77.5</td>\n",
       "      <td>228</td>\n",
       "      <td>1.16</td>\n",
       "      <td>1.40</td>\n",
       "      <td>152</td>\n",
       "      <td>1.19</td>\n",
       "      <td>1.66</td>\n",
       "    </tr>\n",
       "    <tr>\n",
       "      <th>653</th>\n",
       "      <td>2382</td>\n",
       "      <td>09/10</td>\n",
       "      <td>34</td>\n",
       "      <td>2010-04-14</td>\n",
       "      <td>659152</td>\n",
       "      <td>8586</td>\n",
       "      <td>9825</td>\n",
       "      <td>2</td>\n",
       "      <td>1</td>\n",
       "      <td>1</td>\n",
       "      <td>...</td>\n",
       "      <td>65.0</td>\n",
       "      <td>73.0</td>\n",
       "      <td>83.5</td>\n",
       "      <td>85.0</td>\n",
       "      <td>304</td>\n",
       "      <td>1.58</td>\n",
       "      <td>1.18</td>\n",
       "      <td>304</td>\n",
       "      <td>1.88</td>\n",
       "      <td>1.05</td>\n",
       "    </tr>\n",
       "    <tr>\n",
       "      <th>2219</th>\n",
       "      <td>3948</td>\n",
       "      <td>13/14</td>\n",
       "      <td>38</td>\n",
       "      <td>2014-05-11</td>\n",
       "      <td>1475120</td>\n",
       "      <td>8659</td>\n",
       "      <td>10194</td>\n",
       "      <td>1</td>\n",
       "      <td>2</td>\n",
       "      <td>-1</td>\n",
       "      <td>...</td>\n",
       "      <td>72.0</td>\n",
       "      <td>56.0</td>\n",
       "      <td>59.0</td>\n",
       "      <td>46.0</td>\n",
       "      <td>266</td>\n",
       "      <td>1.15</td>\n",
       "      <td>1.52</td>\n",
       "      <td>304</td>\n",
       "      <td>1.06</td>\n",
       "      <td>1.32</td>\n",
       "    </tr>\n",
       "    <tr>\n",
       "      <th>1622</th>\n",
       "      <td>3351</td>\n",
       "      <td>12/13</td>\n",
       "      <td>19</td>\n",
       "      <td>2012-12-26</td>\n",
       "      <td>1229298</td>\n",
       "      <td>8668</td>\n",
       "      <td>8528</td>\n",
       "      <td>2</td>\n",
       "      <td>1</td>\n",
       "      <td>1</td>\n",
       "      <td>...</td>\n",
       "      <td>67.0</td>\n",
       "      <td>76.5</td>\n",
       "      <td>70.5</td>\n",
       "      <td>77.0</td>\n",
       "      <td>304</td>\n",
       "      <td>1.44</td>\n",
       "      <td>1.17</td>\n",
       "      <td>190</td>\n",
       "      <td>1.05</td>\n",
       "      <td>1.68</td>\n",
       "    </tr>\n",
       "    <tr>\n",
       "      <th>1704</th>\n",
       "      <td>3433</td>\n",
       "      <td>12/13</td>\n",
       "      <td>26</td>\n",
       "      <td>2013-02-09</td>\n",
       "      <td>1229377</td>\n",
       "      <td>9850</td>\n",
       "      <td>9879</td>\n",
       "      <td>0</td>\n",
       "      <td>0</td>\n",
       "      <td>0</td>\n",
       "      <td>...</td>\n",
       "      <td>62.5</td>\n",
       "      <td>84.5</td>\n",
       "      <td>66.0</td>\n",
       "      <td>73.0</td>\n",
       "      <td>152</td>\n",
       "      <td>1.05</td>\n",
       "      <td>1.66</td>\n",
       "      <td>228</td>\n",
       "      <td>1.16</td>\n",
       "      <td>1.40</td>\n",
       "    </tr>\n",
       "    <tr>\n",
       "      <th>468</th>\n",
       "      <td>2197</td>\n",
       "      <td>09/10</td>\n",
       "      <td>17</td>\n",
       "      <td>2009-12-16</td>\n",
       "      <td>658837</td>\n",
       "      <td>8650</td>\n",
       "      <td>8528</td>\n",
       "      <td>2</td>\n",
       "      <td>1</td>\n",
       "      <td>1</td>\n",
       "      <td>...</td>\n",
       "      <td>83.5</td>\n",
       "      <td>75.0</td>\n",
       "      <td>61.0</td>\n",
       "      <td>73.0</td>\n",
       "      <td>304</td>\n",
       "      <td>1.75</td>\n",
       "      <td>1.11</td>\n",
       "      <td>190</td>\n",
       "      <td>1.05</td>\n",
       "      <td>1.68</td>\n",
       "    </tr>\n",
       "    <tr>\n",
       "      <th>1757</th>\n",
       "      <td>3486</td>\n",
       "      <td>12/13</td>\n",
       "      <td>30</td>\n",
       "      <td>2013-03-16</td>\n",
       "      <td>1229426</td>\n",
       "      <td>10003</td>\n",
       "      <td>9825</td>\n",
       "      <td>0</td>\n",
       "      <td>2</td>\n",
       "      <td>-1</td>\n",
       "      <td>...</td>\n",
       "      <td>67.0</td>\n",
       "      <td>52.0</td>\n",
       "      <td>64.0</td>\n",
       "      <td>56.0</td>\n",
       "      <td>190</td>\n",
       "      <td>1.23</td>\n",
       "      <td>1.35</td>\n",
       "      <td>304</td>\n",
       "      <td>1.88</td>\n",
       "      <td>1.05</td>\n",
       "    </tr>\n",
       "  </tbody>\n",
       "</table>\n",
       "<p>10 rows × 76 columns</p>\n",
       "</div>"
      ],
      "text/plain": [
       "        id season  Round / 38       date  match_api_id  Home ID  Away ID  \\\n",
       "2306  4035  14/15          11 2014-11-09       1724088    10003     9825   \n",
       "996   2725  10/11          30 2011-03-19        840151     8659     9825   \n",
       "449   2178  09/10          15 2009-12-05        658818     9825    10194   \n",
       "1026  2755  10/11          33 2011-04-27        840180     9879     8559   \n",
       "653   2382  09/10          34 2010-04-14        659152     8586     9825   \n",
       "2219  3948  13/14          38 2014-05-11       1475120     8659    10194   \n",
       "1622  3351  12/13          19 2012-12-26       1229298     8668     8528   \n",
       "1704  3433  12/13          26 2013-02-09       1229377     9850     9879   \n",
       "468   2197  09/10          17 2009-12-16        658837     8650     8528   \n",
       "1757  3486  12/13          30 2013-03-16       1229426    10003     9825   \n",
       "\n",
       "      Home GS  Away GS  Result  ...  home_player_10_rating  \\\n",
       "2306        2        1       1  ...                   64.0   \n",
       "996         2        2       0  ...                   75.0   \n",
       "449         2        0       1  ...                   85.0   \n",
       "1026        3        0       1  ...                   84.0   \n",
       "653         2        1       1  ...                   65.0   \n",
       "2219        1        2      -1  ...                   72.0   \n",
       "1622        2        1       1  ...                   67.0   \n",
       "1704        0        0       0  ...                   62.5   \n",
       "468         2        1       1  ...                   83.5   \n",
       "1757        0        2      -1  ...                   67.0   \n",
       "\n",
       "      away_player_10_rating  home_player_11_rating  away_player_11_rating  \\\n",
       "2306                   72.0                   56.0                   64.0   \n",
       "996                    83.0                   79.5                   85.5   \n",
       "449                    78.5                   83.0                   67.0   \n",
       "1026                   82.5                   73.0                   77.5   \n",
       "653                    73.0                   83.5                   85.0   \n",
       "2219                   56.0                   59.0                   46.0   \n",
       "1622                   76.5                   70.5                   77.0   \n",
       "1704                   84.5                   66.0                   73.0   \n",
       "468                    75.0                   61.0                   73.0   \n",
       "1757                   52.0                   64.0                   56.0   \n",
       "\n",
       "      home_total_matches  home_avg_GS_per_match  home_avg_GA_per_match  \\\n",
       "2306                 190                   1.23                   1.35   \n",
       "996                  266                   1.15                   1.52   \n",
       "449                  304                   1.88                   1.05   \n",
       "1026                 228                   1.16                   1.40   \n",
       "653                  304                   1.58                   1.18   \n",
       "2219                 266                   1.15                   1.52   \n",
       "1622                 304                   1.44                   1.17   \n",
       "1704                 152                   1.05                   1.66   \n",
       "468                  304                   1.75                   1.11   \n",
       "1757                 190                   1.23                   1.35   \n",
       "\n",
       "      away_total_matches  away_avg_GS_per_match  away_avg_GA_per_match  \n",
       "2306                 304                   1.88                   1.05  \n",
       "996                  304                   1.88                   1.05  \n",
       "449                  304                   1.06                   1.32  \n",
       "1026                 152                   1.19                   1.66  \n",
       "653                  304                   1.88                   1.05  \n",
       "2219                 304                   1.06                   1.32  \n",
       "1622                 190                   1.05                   1.68  \n",
       "1704                 228                   1.16                   1.40  \n",
       "468                  190                   1.05                   1.68  \n",
       "1757                 304                   1.88                   1.05  \n",
       "\n",
       "[10 rows x 76 columns]"
      ]
     },
     "execution_count": 713,
     "metadata": {},
     "output_type": "execute_result"
    }
   ],
   "source": [
    "prem.sample(10)"
   ]
  },
  {
   "cell_type": "markdown",
   "metadata": {},
   "source": [
    "## Joins and merges complete - Further cleaning & Feature Engineering of the prem dataframe"
   ]
  },
  {
   "cell_type": "markdown",
   "metadata": {},
   "source": [
    "### Summary so far and plans ahead:\n",
    "\n",
    "We have created a master `prem` dataframe which has all the matches from 08/09 to 15/16. Columns of value include\n",
    "- Match data such as:\n",
    "    - Team IDs, \n",
    "    - date of the fixture,\n",
    "    - match week of 38. Probably not relevant for predicting the result, but maybe for details match stats later.\n",
    "\n",
    "- Player data for the home and away players such as:\n",
    "    - Individual player's overall ratings on both teams, that are recent to the match date\n",
    "\n",
    "- Team data for the home and away team such as:\n",
    "    - Team's total number of matches in the league in the reference period. \n",
    "    - Teams avg goals scored (GS) and goals against (GA) per game in the time window.\n",
    "    - These might be a complicated one because that's gathering future information if we are predicting a game early on in the time window.\n",
    "    \n",
    "- Details match information like shots, types of goal scored, possession, bookings etc etc but these are heavily nested in columns which we need to dig out later.\n",
    "\n",
    "Now we can clean a number of unneccessary columns and add one important one:\n",
    "- Create an average 'team' rating for each match. I think this will be the best way to construct a simple model with some predictive power before complicating things with 22 individual player ratings.\n",
    "\n",
    "- Remove the individual player IDs, match_api_id\n",
    "\n",
    "- **For now** remove the Round / 38 aka gameweek, home and away_total matches\n"
   ]
  },
  {
   "cell_type": "markdown",
   "metadata": {},
   "source": [
    "### Removing currently (MVP) unnecessary columns"
   ]
  },
  {
   "cell_type": "code",
   "execution_count": 714,
   "metadata": {},
   "outputs": [],
   "source": [
    "# drop the Round / 38 column, match_api_id, home_total_matches, away_total_matches, year\n",
    "prem = prem.drop(['Round / 38', 'match_api_id', 'home_total_matches', 'away_total_matches', 'year'], axis=1)"
   ]
  },
  {
   "cell_type": "code",
   "execution_count": 715,
   "metadata": {},
   "outputs": [],
   "source": [
    "# drop the home/away_player_X columns but NOT the ratings\n",
    "prem = prem.drop(prem.filter(regex='^(home|away)_player_[1-9]$|^(home|away)_player_10$|^(home|away)_player_11$').columns, axis=1)"
   ]
  },
  {
   "cell_type": "code",
   "execution_count": 716,
   "metadata": {},
   "outputs": [],
   "source": [
    "# remove the match detail columns - goal, shoton, shotoff, foulcommit, card, cross, corner, possession, goal_parsed, goal_comments, goal_subtypes\n",
    "prem = prem.drop(['goal', 'shoton', 'shotoff', 'foulcommit', 'card', 'cross', 'corner', 'possession', 'goal_parsed', 'goal_comments', 'goal_subtypes'], axis=1)"
   ]
  },
  {
   "cell_type": "code",
   "execution_count": 717,
   "metadata": {},
   "outputs": [
    {
     "data": {
      "text/plain": [
       "Index(['id', 'season', 'date', 'Home ID', 'Away ID', 'Home GS', 'Away GS',\n",
       "       'Result', 'Margin', 'p(Home)', 'p(Draw)', 'p(Away)',\n",
       "       'home_player_1_rating', 'away_player_1_rating', 'home_player_2_rating',\n",
       "       'away_player_2_rating', 'home_player_3_rating', 'away_player_3_rating',\n",
       "       'home_player_4_rating', 'away_player_4_rating', 'home_player_5_rating',\n",
       "       'away_player_5_rating', 'home_player_6_rating', 'away_player_6_rating',\n",
       "       'home_player_7_rating', 'away_player_7_rating', 'home_player_8_rating',\n",
       "       'away_player_8_rating', 'home_player_9_rating', 'away_player_9_rating',\n",
       "       'home_player_10_rating', 'away_player_10_rating',\n",
       "       'home_player_11_rating', 'away_player_11_rating',\n",
       "       'home_avg_GS_per_match', 'home_avg_GA_per_match',\n",
       "       'away_avg_GS_per_match', 'away_avg_GA_per_match'],\n",
       "      dtype='object')"
      ]
     },
     "execution_count": 717,
     "metadata": {},
     "output_type": "execute_result"
    }
   ],
   "source": [
    "prem.columns"
   ]
  },
  {
   "cell_type": "markdown",
   "metadata": {},
   "source": [
    "### Creating a home and away team match-day overall rating"
   ]
  },
  {
   "cell_type": "code",
   "execution_count": 718,
   "metadata": {},
   "outputs": [],
   "source": [
    "# Calculate the average overall rating for the home team players\n",
    "home_rating_cols = [f'home_player_{n}_rating' for n in range(1, 12)]\n",
    "prem['home_avg_rating'] = prem[home_rating_cols].mean(axis=1)\n",
    "\n",
    "# Calculate the average overall rating for the away team players\n",
    "away_rating_cols = [f'away_player_{n}_rating' for n in range(1, 12)]\n",
    "prem['away_avg_rating'] = prem[away_rating_cols].mean(axis=1)"
   ]
  },
  {
   "cell_type": "code",
   "execution_count": 719,
   "metadata": {},
   "outputs": [
    {
     "data": {
      "text/plain": [
       "Index(['id', 'season', 'date', 'Home ID', 'Away ID', 'Home GS', 'Away GS',\n",
       "       'Result', 'Margin', 'p(Home)', 'p(Draw)', 'p(Away)',\n",
       "       'home_player_1_rating', 'away_player_1_rating', 'home_player_2_rating',\n",
       "       'away_player_2_rating', 'home_player_3_rating', 'away_player_3_rating',\n",
       "       'home_player_4_rating', 'away_player_4_rating', 'home_player_5_rating',\n",
       "       'away_player_5_rating', 'home_player_6_rating', 'away_player_6_rating',\n",
       "       'home_player_7_rating', 'away_player_7_rating', 'home_player_8_rating',\n",
       "       'away_player_8_rating', 'home_player_9_rating', 'away_player_9_rating',\n",
       "       'home_player_10_rating', 'away_player_10_rating',\n",
       "       'home_player_11_rating', 'away_player_11_rating',\n",
       "       'home_avg_GS_per_match', 'home_avg_GA_per_match',\n",
       "       'away_avg_GS_per_match', 'away_avg_GA_per_match', 'home_avg_rating',\n",
       "       'away_avg_rating'],\n",
       "      dtype='object')"
      ]
     },
     "execution_count": 719,
     "metadata": {},
     "output_type": "execute_result"
    }
   ],
   "source": [
    "prem.columns"
   ]
  },
  {
   "cell_type": "code",
   "execution_count": 720,
   "metadata": {},
   "outputs": [
    {
     "data": {
      "text/html": [
       "<div>\n",
       "<style scoped>\n",
       "    .dataframe tbody tr th:only-of-type {\n",
       "        vertical-align: middle;\n",
       "    }\n",
       "\n",
       "    .dataframe tbody tr th {\n",
       "        vertical-align: top;\n",
       "    }\n",
       "\n",
       "    .dataframe thead th {\n",
       "        text-align: right;\n",
       "    }\n",
       "</style>\n",
       "<table border=\"1\" class=\"dataframe\">\n",
       "  <thead>\n",
       "    <tr style=\"text-align: right;\">\n",
       "      <th></th>\n",
       "      <th>id</th>\n",
       "      <th>season</th>\n",
       "      <th>date</th>\n",
       "      <th>Home ID</th>\n",
       "      <th>Away ID</th>\n",
       "      <th>Home GS</th>\n",
       "      <th>Away GS</th>\n",
       "      <th>Result</th>\n",
       "      <th>Margin</th>\n",
       "      <th>p(Home)</th>\n",
       "      <th>...</th>\n",
       "      <th>home_player_10_rating</th>\n",
       "      <th>away_player_10_rating</th>\n",
       "      <th>home_player_11_rating</th>\n",
       "      <th>away_player_11_rating</th>\n",
       "      <th>home_avg_GS_per_match</th>\n",
       "      <th>home_avg_GA_per_match</th>\n",
       "      <th>away_avg_GS_per_match</th>\n",
       "      <th>away_avg_GA_per_match</th>\n",
       "      <th>home_avg_rating</th>\n",
       "      <th>away_avg_rating</th>\n",
       "    </tr>\n",
       "  </thead>\n",
       "  <tbody>\n",
       "    <tr>\n",
       "      <th>1954</th>\n",
       "      <td>3683</td>\n",
       "      <td>13/14</td>\n",
       "      <td>2013-12-04</td>\n",
       "      <td>10194</td>\n",
       "      <td>8344</td>\n",
       "      <td>0</td>\n",
       "      <td>0</td>\n",
       "      <td>0</td>\n",
       "      <td>0</td>\n",
       "      <td>0.457</td>\n",
       "      <td>...</td>\n",
       "      <td>68.0</td>\n",
       "      <td>72.0</td>\n",
       "      <td>77.0</td>\n",
       "      <td>74.0</td>\n",
       "      <td>1.06</td>\n",
       "      <td>1.32</td>\n",
       "      <td>0.84</td>\n",
       "      <td>1.95</td>\n",
       "      <td>61.045455</td>\n",
       "      <td>61.727273</td>\n",
       "    </tr>\n",
       "    <tr>\n",
       "      <th>2226</th>\n",
       "      <td>3955</td>\n",
       "      <td>13/14</td>\n",
       "      <td>2013-09-14</td>\n",
       "      <td>10194</td>\n",
       "      <td>8456</td>\n",
       "      <td>0</td>\n",
       "      <td>0</td>\n",
       "      <td>0</td>\n",
       "      <td>0</td>\n",
       "      <td>0.457</td>\n",
       "      <td>...</td>\n",
       "      <td>76.5</td>\n",
       "      <td>75.0</td>\n",
       "      <td>62.0</td>\n",
       "      <td>67.0</td>\n",
       "      <td>1.06</td>\n",
       "      <td>1.32</td>\n",
       "      <td>1.99</td>\n",
       "      <td>1.01</td>\n",
       "      <td>60.727273</td>\n",
       "      <td>71.954545</td>\n",
       "    </tr>\n",
       "    <tr>\n",
       "      <th>2237</th>\n",
       "      <td>3966</td>\n",
       "      <td>13/14</td>\n",
       "      <td>2013-09-21</td>\n",
       "      <td>9850</td>\n",
       "      <td>10252</td>\n",
       "      <td>0</td>\n",
       "      <td>1</td>\n",
       "      <td>-1</td>\n",
       "      <td>-1</td>\n",
       "      <td>0.457</td>\n",
       "      <td>...</td>\n",
       "      <td>82.5</td>\n",
       "      <td>58.0</td>\n",
       "      <td>57.0</td>\n",
       "      <td>56.0</td>\n",
       "      <td>1.05</td>\n",
       "      <td>1.66</td>\n",
       "      <td>1.10</td>\n",
       "      <td>1.52</td>\n",
       "      <td>64.954545</td>\n",
       "      <td>64.272727</td>\n",
       "    </tr>\n",
       "    <tr>\n",
       "      <th>161</th>\n",
       "      <td>1890</td>\n",
       "      <td>08/09</td>\n",
       "      <td>2009-01-31</td>\n",
       "      <td>9825</td>\n",
       "      <td>8654</td>\n",
       "      <td>0</td>\n",
       "      <td>0</td>\n",
       "      <td>0</td>\n",
       "      <td>0</td>\n",
       "      <td>0.457</td>\n",
       "      <td>...</td>\n",
       "      <td>79.0</td>\n",
       "      <td>73.0</td>\n",
       "      <td>73.0</td>\n",
       "      <td>82.0</td>\n",
       "      <td>1.88</td>\n",
       "      <td>1.05</td>\n",
       "      <td>1.23</td>\n",
       "      <td>1.44</td>\n",
       "      <td>77.181818</td>\n",
       "      <td>74.363636</td>\n",
       "    </tr>\n",
       "    <tr>\n",
       "      <th>1962</th>\n",
       "      <td>3691</td>\n",
       "      <td>13/14</td>\n",
       "      <td>2013-12-08</td>\n",
       "      <td>9879</td>\n",
       "      <td>10252</td>\n",
       "      <td>2</td>\n",
       "      <td>0</td>\n",
       "      <td>1</td>\n",
       "      <td>2</td>\n",
       "      <td>0.457</td>\n",
       "      <td>...</td>\n",
       "      <td>69.0</td>\n",
       "      <td>56.0</td>\n",
       "      <td>84.5</td>\n",
       "      <td>74.0</td>\n",
       "      <td>1.16</td>\n",
       "      <td>1.40</td>\n",
       "      <td>1.10</td>\n",
       "      <td>1.52</td>\n",
       "      <td>76.090909</td>\n",
       "      <td>58.818182</td>\n",
       "    </tr>\n",
       "    <tr>\n",
       "      <th>2804</th>\n",
       "      <td>4533</td>\n",
       "      <td>15/16</td>\n",
       "      <td>2016-01-16</td>\n",
       "      <td>8456</td>\n",
       "      <td>9826</td>\n",
       "      <td>4</td>\n",
       "      <td>0</td>\n",
       "      <td>1</td>\n",
       "      <td>4</td>\n",
       "      <td>0.457</td>\n",
       "      <td>...</td>\n",
       "      <td>67.0</td>\n",
       "      <td>46.5</td>\n",
       "      <td>80.0</td>\n",
       "      <td>64.0</td>\n",
       "      <td>1.99</td>\n",
       "      <td>1.01</td>\n",
       "      <td>1.04</td>\n",
       "      <td>1.32</td>\n",
       "      <td>70.136364</td>\n",
       "      <td>58.772727</td>\n",
       "    </tr>\n",
       "    <tr>\n",
       "      <th>1600</th>\n",
       "      <td>3329</td>\n",
       "      <td>12/13</td>\n",
       "      <td>2013-01-16</td>\n",
       "      <td>8455</td>\n",
       "      <td>8466</td>\n",
       "      <td>2</td>\n",
       "      <td>2</td>\n",
       "      <td>0</td>\n",
       "      <td>0</td>\n",
       "      <td>0.457</td>\n",
       "      <td>...</td>\n",
       "      <td>51.0</td>\n",
       "      <td>44.0</td>\n",
       "      <td>65.0</td>\n",
       "      <td>64.0</td>\n",
       "      <td>1.92</td>\n",
       "      <td>0.94</td>\n",
       "      <td>1.42</td>\n",
       "      <td>1.18</td>\n",
       "      <td>70.000000</td>\n",
       "      <td>60.772727</td>\n",
       "    </tr>\n",
       "    <tr>\n",
       "      <th>1395</th>\n",
       "      <td>3124</td>\n",
       "      <td>11/12</td>\n",
       "      <td>2012-04-07</td>\n",
       "      <td>9850</td>\n",
       "      <td>8668</td>\n",
       "      <td>2</td>\n",
       "      <td>2</td>\n",
       "      <td>0</td>\n",
       "      <td>0</td>\n",
       "      <td>0.457</td>\n",
       "      <td>...</td>\n",
       "      <td>62.5</td>\n",
       "      <td>77.0</td>\n",
       "      <td>61.5</td>\n",
       "      <td>67.0</td>\n",
       "      <td>1.05</td>\n",
       "      <td>1.66</td>\n",
       "      <td>1.44</td>\n",
       "      <td>1.17</td>\n",
       "      <td>59.363636</td>\n",
       "      <td>73.545455</td>\n",
       "    </tr>\n",
       "    <tr>\n",
       "      <th>2645</th>\n",
       "      <td>4374</td>\n",
       "      <td>14/15</td>\n",
       "      <td>2014-10-18</td>\n",
       "      <td>10261</td>\n",
       "      <td>8197</td>\n",
       "      <td>1</td>\n",
       "      <td>0</td>\n",
       "      <td>1</td>\n",
       "      <td>1</td>\n",
       "      <td>0.457</td>\n",
       "      <td>...</td>\n",
       "      <td>66.0</td>\n",
       "      <td>49.0</td>\n",
       "      <td>67.0</td>\n",
       "      <td>64.0</td>\n",
       "      <td>1.22</td>\n",
       "      <td>1.59</td>\n",
       "      <td>1.50</td>\n",
       "      <td>1.20</td>\n",
       "      <td>63.681818</td>\n",
       "      <td>63.681818</td>\n",
       "    </tr>\n",
       "    <tr>\n",
       "      <th>230</th>\n",
       "      <td>1959</td>\n",
       "      <td>08/09</td>\n",
       "      <td>2009-03-22</td>\n",
       "      <td>8650</td>\n",
       "      <td>10252</td>\n",
       "      <td>5</td>\n",
       "      <td>0</td>\n",
       "      <td>1</td>\n",
       "      <td>5</td>\n",
       "      <td>0.457</td>\n",
       "      <td>...</td>\n",
       "      <td>76.5</td>\n",
       "      <td>78.0</td>\n",
       "      <td>87.0</td>\n",
       "      <td>75.0</td>\n",
       "      <td>1.75</td>\n",
       "      <td>1.11</td>\n",
       "      <td>1.10</td>\n",
       "      <td>1.52</td>\n",
       "      <td>81.090909</td>\n",
       "      <td>77.636364</td>\n",
       "    </tr>\n",
       "  </tbody>\n",
       "</table>\n",
       "<p>10 rows × 40 columns</p>\n",
       "</div>"
      ],
      "text/plain": [
       "        id season       date  Home ID  Away ID  Home GS  Away GS  Result  \\\n",
       "1954  3683  13/14 2013-12-04    10194     8344        0        0       0   \n",
       "2226  3955  13/14 2013-09-14    10194     8456        0        0       0   \n",
       "2237  3966  13/14 2013-09-21     9850    10252        0        1      -1   \n",
       "161   1890  08/09 2009-01-31     9825     8654        0        0       0   \n",
       "1962  3691  13/14 2013-12-08     9879    10252        2        0       1   \n",
       "2804  4533  15/16 2016-01-16     8456     9826        4        0       1   \n",
       "1600  3329  12/13 2013-01-16     8455     8466        2        2       0   \n",
       "1395  3124  11/12 2012-04-07     9850     8668        2        2       0   \n",
       "2645  4374  14/15 2014-10-18    10261     8197        1        0       1   \n",
       "230   1959  08/09 2009-03-22     8650    10252        5        0       1   \n",
       "\n",
       "      Margin  p(Home)  ...  home_player_10_rating  away_player_10_rating  \\\n",
       "1954       0    0.457  ...                   68.0                   72.0   \n",
       "2226       0    0.457  ...                   76.5                   75.0   \n",
       "2237      -1    0.457  ...                   82.5                   58.0   \n",
       "161        0    0.457  ...                   79.0                   73.0   \n",
       "1962       2    0.457  ...                   69.0                   56.0   \n",
       "2804       4    0.457  ...                   67.0                   46.5   \n",
       "1600       0    0.457  ...                   51.0                   44.0   \n",
       "1395       0    0.457  ...                   62.5                   77.0   \n",
       "2645       1    0.457  ...                   66.0                   49.0   \n",
       "230        5    0.457  ...                   76.5                   78.0   \n",
       "\n",
       "      home_player_11_rating  away_player_11_rating  home_avg_GS_per_match  \\\n",
       "1954                   77.0                   74.0                   1.06   \n",
       "2226                   62.0                   67.0                   1.06   \n",
       "2237                   57.0                   56.0                   1.05   \n",
       "161                    73.0                   82.0                   1.88   \n",
       "1962                   84.5                   74.0                   1.16   \n",
       "2804                   80.0                   64.0                   1.99   \n",
       "1600                   65.0                   64.0                   1.92   \n",
       "1395                   61.5                   67.0                   1.05   \n",
       "2645                   67.0                   64.0                   1.22   \n",
       "230                    87.0                   75.0                   1.75   \n",
       "\n",
       "      home_avg_GA_per_match  away_avg_GS_per_match  away_avg_GA_per_match  \\\n",
       "1954                   1.32                   0.84                   1.95   \n",
       "2226                   1.32                   1.99                   1.01   \n",
       "2237                   1.66                   1.10                   1.52   \n",
       "161                    1.05                   1.23                   1.44   \n",
       "1962                   1.40                   1.10                   1.52   \n",
       "2804                   1.01                   1.04                   1.32   \n",
       "1600                   0.94                   1.42                   1.18   \n",
       "1395                   1.66                   1.44                   1.17   \n",
       "2645                   1.59                   1.50                   1.20   \n",
       "230                    1.11                   1.10                   1.52   \n",
       "\n",
       "      home_avg_rating  away_avg_rating  \n",
       "1954        61.045455        61.727273  \n",
       "2226        60.727273        71.954545  \n",
       "2237        64.954545        64.272727  \n",
       "161         77.181818        74.363636  \n",
       "1962        76.090909        58.818182  \n",
       "2804        70.136364        58.772727  \n",
       "1600        70.000000        60.772727  \n",
       "1395        59.363636        73.545455  \n",
       "2645        63.681818        63.681818  \n",
       "230         81.090909        77.636364  \n",
       "\n",
       "[10 rows x 40 columns]"
      ]
     },
     "execution_count": 720,
     "metadata": {},
     "output_type": "execute_result"
    }
   ],
   "source": [
    "prem.sample(10)"
   ]
  },
  {
   "cell_type": "markdown",
   "metadata": {},
   "source": [
    "### drop the individual player ratings to simplify the df for now"
   ]
  },
  {
   "cell_type": "code",
   "execution_count": 721,
   "metadata": {},
   "outputs": [],
   "source": [
    "# drop the home/away_player_X_rating columns\n",
    "prem = prem.drop(prem.filter(regex='^(home|away)_player_[1-9]_rating$|^(home|away)_player_10_rating$|^(home|away)_player_11_rating$').columns, axis=1)"
   ]
  },
  {
   "cell_type": "markdown",
   "metadata": {},
   "source": [
    "Home / Away net goals - this should standardize around 0 for teams that score and concede equally, and negative for 'weak' teams while positive for 'good' teams"
   ]
  },
  {
   "cell_type": "code",
   "execution_count": 722,
   "metadata": {},
   "outputs": [],
   "source": [
    "# create a new net goals column for both teams: home_avg_GS_per_match - home_avg_GA_per_match and away_avg_GS_per_match - away_avg_GA_per_match\n",
    "prem['home_net_goals'] = prem['home_avg_GS_per_match'] - prem['home_avg_GA_per_match']\n",
    "prem['away_net_goals'] = prem['away_avg_GS_per_match'] - prem['away_avg_GA_per_match']"
   ]
  },
  {
   "cell_type": "code",
   "execution_count": 723,
   "metadata": {},
   "outputs": [],
   "source": [
    "# drop the home_avg_GS_per_match, home_avg_GA_per_match, away_avg_GS_per_match, away_avg_GA_per_match\n",
    "prem = prem.drop(['home_avg_GS_per_match', 'home_avg_GA_per_match', 'away_avg_GS_per_match', 'away_avg_GA_per_match'], axis=1)"
   ]
  },
  {
   "cell_type": "code",
   "execution_count": 724,
   "metadata": {},
   "outputs": [
    {
     "data": {
      "text/plain": [
       "Index(['id', 'season', 'date', 'Home ID', 'Away ID', 'Home GS', 'Away GS',\n",
       "       'Result', 'Margin', 'p(Home)', 'p(Draw)', 'p(Away)', 'home_avg_rating',\n",
       "       'away_avg_rating', 'home_net_goals', 'away_net_goals'],\n",
       "      dtype='object')"
      ]
     },
     "execution_count": 724,
     "metadata": {},
     "output_type": "execute_result"
    }
   ],
   "source": [
    "prem.columns"
   ]
  },
  {
   "cell_type": "code",
   "execution_count": 725,
   "metadata": {},
   "outputs": [],
   "source": [
    "# reorganize the dataframe: id, season, date, home team stats, away team stats, result, margin\n",
    "prem = prem[['id', 'season', 'date', 'Home ID', 'home_avg_rating', 'home_net_goals', 'Away ID', 'away_avg_rating', 'away_net_goals', 'Result', 'Margin', 'p(Home)', 'p(Draw)', 'p(Away)']]"
   ]
  },
  {
   "cell_type": "code",
   "execution_count": 726,
   "metadata": {},
   "outputs": [],
   "source": [
    "# drop the date, Home ID, Away ID columns\n",
    "prem = prem.drop(['id', 'date', 'Home ID', 'Away ID'], axis=1)\n",
    "\n",
    "# round the avg_rating columns to 1 decimal places\n",
    "prem['home_avg_rating'] = prem['home_avg_rating'].round(1)\n",
    "prem['away_avg_rating'] = prem['away_avg_rating'].round(1)"
   ]
  },
  {
   "cell_type": "code",
   "execution_count": 727,
   "metadata": {},
   "outputs": [],
   "source": [
    "def season_to_number(season): # convert the season to a number\n",
    "    try:\n",
    "        # Strip any whitespace and split by '/'\n",
    "        season = season.strip()\n",
    "        # Extract the first year (e.g., '08' from '08/09')\n",
    "        year = int(season.split('/')[0])\n",
    "        # Subtract 7 to start numbering from 1 for '08/09'\n",
    "        return year - 7\n",
    "    except (ValueError, AttributeError):\n",
    "        print(f\"Invalid season value: {season}\")\n",
    "        return None  # Handle invalid cases gracefully"
   ]
  },
  {
   "cell_type": "code",
   "execution_count": 728,
   "metadata": {},
   "outputs": [
    {
     "name": "stdout",
     "output_type": "stream",
     "text": [
      "['08/09' '09/10' '10/11' '11/12' '12/13' '13/14' '14/15' '15/16']\n"
     ]
    }
   ],
   "source": [
    "print(prem['season'].unique())"
   ]
  },
  {
   "cell_type": "code",
   "execution_count": 729,
   "metadata": {},
   "outputs": [
    {
     "data": {
      "text/plain": [
       "0"
      ]
     },
     "execution_count": 729,
     "metadata": {},
     "output_type": "execute_result"
    }
   ],
   "source": [
    "prem['season'].isnull().sum()"
   ]
  },
  {
   "cell_type": "code",
   "execution_count": 730,
   "metadata": {},
   "outputs": [
    {
     "data": {
      "text/html": [
       "<div>\n",
       "<style scoped>\n",
       "    .dataframe tbody tr th:only-of-type {\n",
       "        vertical-align: middle;\n",
       "    }\n",
       "\n",
       "    .dataframe tbody tr th {\n",
       "        vertical-align: top;\n",
       "    }\n",
       "\n",
       "    .dataframe thead th {\n",
       "        text-align: right;\n",
       "    }\n",
       "</style>\n",
       "<table border=\"1\" class=\"dataframe\">\n",
       "  <thead>\n",
       "    <tr style=\"text-align: right;\">\n",
       "      <th></th>\n",
       "      <th>season</th>\n",
       "      <th>home_avg_rating</th>\n",
       "      <th>home_net_goals</th>\n",
       "      <th>away_avg_rating</th>\n",
       "      <th>away_net_goals</th>\n",
       "      <th>Result</th>\n",
       "      <th>Margin</th>\n",
       "      <th>p(Home)</th>\n",
       "      <th>p(Draw)</th>\n",
       "      <th>p(Away)</th>\n",
       "    </tr>\n",
       "  </thead>\n",
       "  <tbody>\n",
       "    <tr>\n",
       "      <th>1637</th>\n",
       "      <td>12/13</td>\n",
       "      <td>66.8</td>\n",
       "      <td>-0.35</td>\n",
       "      <td>63.0</td>\n",
       "      <td>-0.79</td>\n",
       "      <td>1</td>\n",
       "      <td>3</td>\n",
       "      <td>0.457</td>\n",
       "      <td>0.258</td>\n",
       "      <td>0.285</td>\n",
       "    </tr>\n",
       "    <tr>\n",
       "      <th>2492</th>\n",
       "      <td>14/15</td>\n",
       "      <td>69.6</td>\n",
       "      <td>0.98</td>\n",
       "      <td>61.5</td>\n",
       "      <td>0.24</td>\n",
       "      <td>0</td>\n",
       "      <td>0</td>\n",
       "      <td>0.457</td>\n",
       "      <td>0.258</td>\n",
       "      <td>0.285</td>\n",
       "    </tr>\n",
       "    <tr>\n",
       "      <th>1609</th>\n",
       "      <td>12/13</td>\n",
       "      <td>68.8</td>\n",
       "      <td>-0.37</td>\n",
       "      <td>72.2</td>\n",
       "      <td>-0.21</td>\n",
       "      <td>0</td>\n",
       "      <td>0</td>\n",
       "      <td>0.457</td>\n",
       "      <td>0.258</td>\n",
       "      <td>0.285</td>\n",
       "    </tr>\n",
       "    <tr>\n",
       "      <th>1074</th>\n",
       "      <td>10/11</td>\n",
       "      <td>72.9</td>\n",
       "      <td>0.27</td>\n",
       "      <td>83.6</td>\n",
       "      <td>0.98</td>\n",
       "      <td>1</td>\n",
       "      <td>1</td>\n",
       "      <td>0.457</td>\n",
       "      <td>0.258</td>\n",
       "      <td>0.285</td>\n",
       "    </tr>\n",
       "    <tr>\n",
       "      <th>2428</th>\n",
       "      <td>14/15</td>\n",
       "      <td>64.6</td>\n",
       "      <td>0.40</td>\n",
       "      <td>70.9</td>\n",
       "      <td>-0.35</td>\n",
       "      <td>1</td>\n",
       "      <td>1</td>\n",
       "      <td>0.457</td>\n",
       "      <td>0.258</td>\n",
       "      <td>0.285</td>\n",
       "    </tr>\n",
       "    <tr>\n",
       "      <th>1617</th>\n",
       "      <td>12/13</td>\n",
       "      <td>68.2</td>\n",
       "      <td>-0.37</td>\n",
       "      <td>63.5</td>\n",
       "      <td>-0.61</td>\n",
       "      <td>1</td>\n",
       "      <td>1</td>\n",
       "      <td>0.457</td>\n",
       "      <td>0.258</td>\n",
       "      <td>0.285</td>\n",
       "    </tr>\n",
       "    <tr>\n",
       "      <th>1958</th>\n",
       "      <td>13/14</td>\n",
       "      <td>74.9</td>\n",
       "      <td>-0.24</td>\n",
       "      <td>69.0</td>\n",
       "      <td>0.40</td>\n",
       "      <td>-1</td>\n",
       "      <td>-1</td>\n",
       "      <td>0.457</td>\n",
       "      <td>0.258</td>\n",
       "      <td>0.285</td>\n",
       "    </tr>\n",
       "    <tr>\n",
       "      <th>430</th>\n",
       "      <td>09/10</td>\n",
       "      <td>68.6</td>\n",
       "      <td>-0.67</td>\n",
       "      <td>81.1</td>\n",
       "      <td>0.99</td>\n",
       "      <td>-1</td>\n",
       "      <td>-3</td>\n",
       "      <td>0.457</td>\n",
       "      <td>0.258</td>\n",
       "      <td>0.285</td>\n",
       "    </tr>\n",
       "    <tr>\n",
       "      <th>2431</th>\n",
       "      <td>14/15</td>\n",
       "      <td>66.4</td>\n",
       "      <td>0.98</td>\n",
       "      <td>77.0</td>\n",
       "      <td>0.98</td>\n",
       "      <td>0</td>\n",
       "      <td>0</td>\n",
       "      <td>0.457</td>\n",
       "      <td>0.258</td>\n",
       "      <td>0.285</td>\n",
       "    </tr>\n",
       "    <tr>\n",
       "      <th>2032</th>\n",
       "      <td>13/14</td>\n",
       "      <td>70.9</td>\n",
       "      <td>0.27</td>\n",
       "      <td>60.9</td>\n",
       "      <td>-0.61</td>\n",
       "      <td>1</td>\n",
       "      <td>2</td>\n",
       "      <td>0.457</td>\n",
       "      <td>0.258</td>\n",
       "      <td>0.285</td>\n",
       "    </tr>\n",
       "  </tbody>\n",
       "</table>\n",
       "</div>"
      ],
      "text/plain": [
       "     season  home_avg_rating  home_net_goals  away_avg_rating  away_net_goals  \\\n",
       "1637  12/13             66.8           -0.35             63.0           -0.79   \n",
       "2492  14/15             69.6            0.98             61.5            0.24   \n",
       "1609  12/13             68.8           -0.37             72.2           -0.21   \n",
       "1074  10/11             72.9            0.27             83.6            0.98   \n",
       "2428  14/15             64.6            0.40             70.9           -0.35   \n",
       "1617  12/13             68.2           -0.37             63.5           -0.61   \n",
       "1958  13/14             74.9           -0.24             69.0            0.40   \n",
       "430   09/10             68.6           -0.67             81.1            0.99   \n",
       "2431  14/15             66.4            0.98             77.0            0.98   \n",
       "2032  13/14             70.9            0.27             60.9           -0.61   \n",
       "\n",
       "      Result  Margin  p(Home)  p(Draw)  p(Away)  \n",
       "1637       1       3    0.457    0.258    0.285  \n",
       "2492       0       0    0.457    0.258    0.285  \n",
       "1609       0       0    0.457    0.258    0.285  \n",
       "1074       1       1    0.457    0.258    0.285  \n",
       "2428       1       1    0.457    0.258    0.285  \n",
       "1617       1       1    0.457    0.258    0.285  \n",
       "1958      -1      -1    0.457    0.258    0.285  \n",
       "430       -1      -3    0.457    0.258    0.285  \n",
       "2431       0       0    0.457    0.258    0.285  \n",
       "2032       1       2    0.457    0.258    0.285  "
      ]
     },
     "execution_count": 730,
     "metadata": {},
     "output_type": "execute_result"
    }
   ],
   "source": [
    "prem.sample(10)"
   ]
  },
  {
   "cell_type": "code",
   "execution_count": null,
   "metadata": {},
   "outputs": [],
   "source": []
  },
  {
   "cell_type": "markdown",
   "metadata": {},
   "source": [
    "This is looking good! You can already eyeball a few predictions - the gap in net_goals between home and away, the gap in avg_rating for home and away"
   ]
  }
 ],
 "metadata": {
  "kernelspec": {
   "display_name": "base",
   "language": "python",
   "name": "python3"
  },
  "language_info": {
   "codemirror_mode": {
    "name": "ipython",
    "version": 3
   },
   "file_extension": ".py",
   "mimetype": "text/x-python",
   "name": "python",
   "nbconvert_exporter": "python",
   "pygments_lexer": "ipython3",
   "version": "3.12.2"
  }
 },
 "nbformat": 4,
 "nbformat_minor": 2
}
