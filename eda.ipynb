{
 "cells": [
  {
   "cell_type": "markdown",
   "metadata": {},
   "source": [
    "# Analysis of football match statistics and outcomes"
   ]
  },
  {
   "cell_type": "markdown",
   "metadata": {},
   "source": [
    "## Initial Aims for exploration:\n",
    "- Import all matches from 2008 - 2016 including data on:\n",
    "    - Teams involved\n",
    "    - Match Stats e.g. shots, possession, bookings etc\n",
    "    - Other info that can be engineered that I feel is relevant to match outcome\n",
    "    - Match outcome\n",
    "\n",
    "- MVP: Build a model for match prediction for English Premier League games\n",
    "\n",
    "- Stretch 1 - is the style of win changing (2008 - 2011 Tiki Taka in the ascendancy on the continent; 2013- gegenpressing in Germany). Do the match stats show a difference in manner of victory?"
   ]
  },
  {
   "cell_type": "markdown",
   "metadata": {},
   "source": [
    "The database is in SQL so we'll use SQLite to bring it in and do some initial analysis on a few tables"
   ]
  },
  {
   "cell_type": "code",
   "execution_count": null,
   "metadata": {},
   "outputs": [],
   "source": []
  }
 ],
 "metadata": {
  "kernelspec": {
   "display_name": "Python 3",
   "language": "python",
   "name": "python3"
  },
  "language_info": {
   "name": "python",
   "version": "3.9.6"
  }
 },
 "nbformat": 4,
 "nbformat_minor": 2
}
