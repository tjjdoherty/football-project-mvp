{
 "cells": [
  {
   "cell_type": "markdown",
   "metadata": {},
   "source": [
    "# Analysis of football match statistics and outcomes"
   ]
  },
  {
   "cell_type": "markdown",
   "metadata": {},
   "source": [
    "## Initial Aims for exploration:\n",
    "- Import all matches from 2008 - 2016 including data on:\n",
    "    - Teams involved\n",
    "    - Match Stats e.g. shots, possession, bookings etc\n",
    "    - Other info that can be engineered that I feel is relevant to match outcome\n",
    "    - Match outcome\n",
    "\n",
    "- MVP: Build a model for match prediction for English Premier League games\n",
    "\n",
    "- Stretch 1 - is the style of win changing (2008 - 2011 Tiki Taka in the ascendancy on the continent; 2013- gegenpressing in Germany). Do the match stats show a difference in manner of victory?"
   ]
  },
  {
   "cell_type": "markdown",
   "metadata": {},
   "source": [
    "The database is in SQL so we'll use SQLite to bring it in and do some initial analysis on a few tables"
   ]
  },
  {
   "cell_type": "code",
   "execution_count": 2,
   "metadata": {},
   "outputs": [],
   "source": [
    "# imports\n",
    "import sqlite3\n",
    "import pandas as pd\n",
    "import numpy as np\n",
    "import matplotlib.pyplot as plt\n",
    "%matplotlib inline\n",
    "\n",
    "import seaborn as sns\n",
    "import warnings\n",
    "\n",
    "warnings.simplefilter('ignore') # this is to ignore warnings that are not useful"
   ]
  },
  {
   "cell_type": "markdown",
   "metadata": {},
   "source": [
    "### What is in this database?"
   ]
  },
  {
   "cell_type": "markdown",
   "metadata": {},
   "source": [
    "There are seven SQL tables available. Reading from the Kaggle Data Card:\n",
    "\n",
    "- **Country**: We will take England only for the MVP (id 1729) and we'll use this to join up the English Premier League Matches in the Match table\n",
    "\n",
    "- **League**: The top tier league in all of the countries in Country are here. \n",
    "    - Includes Spain, France, Italy and Germany (with England they make up the top 5 European Leagues) and Scotland among others.\n",
    "\n",
    "- **Match**: 26,000 rows with country id and league id. Other columns include:\n",
    "    - stage, which presumably is the round in the season e.g. in a 20-team home-and-away season of 38 games, stage 1 is the opening round and 38 is the final game day. Easy to audit this - England is 20 teams and there should be exactly 38 stages in every season\n",
    "\n",
    "    - Home team and away team identifiers; \n",
    "\n",
    "    - home goals & away goals\n",
    "    \n",
    "    - **home and away players X and Y coordinates.** I think this is their average position. From just eyeballing this, 1 is the goalkeeper and this is very narrowly defined (because goalkeepers don't move much compared to other positions). It's missing for about 7% of records, probably the earlier seasons in some leagues before it was recorded\n",
    "\n",
    "    - Key match stats, but data missing for 45% of records:\n",
    "        - Goals\n",
    "        - Shot on target\n",
    "        - shot off target\n",
    "        - foul committed\n",
    "        - cards\n",
    "        - crosses\n",
    "        - corner\n",
    "        - possession\n",
    "    \n",
    "     \n",
    "    - Bet 365 odds (B365H / B365D / B365A) - ignore for now, we are trying to do our own and could compare to these *later*\n",
    "        - Lots of other columns which are for betting providers too. We can ignore for now \n",
    "            - BWH, BWD, BWA, \n",
    "            - IWH, IWD, IWA, \n",
    "            - LBH, LBD, LBA... These all have Home, Draw, Away and I think they are all bookmaker stats\n",
    "\n",
    "- **Player** - Basic info like DOB, Height, Weight\n",
    "\n",
    "- **Player_Attributes** - more detailed stats like overall_rating, potential, pref. foot, work rates, crossing, finishing etc. This information is provided from the FIFA video games which gives every player a measure of ability\n",
    "\n",
    "- **Team** - Very basic identifying info like Name & id for link to other tables\n",
    "\n",
    "- **Team_Attributes** - more detail around build up play statistics and it is recorded once per year. Also comes from FIFA data\n",
    "    - is it changing over time?"
   ]
  },
  {
   "cell_type": "markdown",
   "metadata": {},
   "source": [
    "## What Questions can we answer with a predictive model?\n",
    "\n",
    "### 1. MVP: Can we predict match outcome? Data columns could include\n",
    "- **Home & away team,** result which we engineer from home goals & away goals, with winning team id\n",
    "- **OVR Rating of the starting 11**, coming from Player_attributes via player_api_id.\n",
    "    - Start with avg OVR rating. Then maybe add OVR rating for Strikers, Goalkeeepers\n",
    "    \n",
    "- **For more granular data**, bring in players' work rates, GK overall, overall finishing stats.\n",
    "    - NOTE: there is no data column for player position. There are too many to label manually, so we could implement a rule based on some of the key player stats to identify this. BY far the easiest will be goalkeeper, and we add OVR rating for that.\n",
    "    - ANy other granular data for the most likely stats to impact goals scored/conceded, because that's the direct influence on the results\n",
    "\n",
    "\n",
    "### Stretches \n",
    "\n",
    "2. How does Height/Weight affect style of play? Taller, bulkier players mean a faster long-ball style of play?\n",
    "\n",
    "3. Physical vs Technical - which ability set is more important in the winning teams?\n",
    "    - Physical: Acceleration, Sprint Speed, Agility, Reactions, Balance, Jumping, Stamina, Strength\n",
    "    - Technical: Crossing, Finishing, Heading Acc., Short Passing, Volleys, Dribbling, Curve, FK Acc., Long Passing, Ball Control\n",
    "    - Mental: Aggression, Interceptions, Positioning, Vision, Penalties (it's psychological)\n",
    "\n"
   ]
  },
  {
   "cell_type": "markdown",
   "metadata": {},
   "source": [
    "## Begin: open the database"
   ]
  },
  {
   "cell_type": "code",
   "execution_count": 7,
   "metadata": {},
   "outputs": [],
   "source": [
    "# import the database file\n",
    "with sqlite3.connect('/Users/thomasdoherty/Desktop/football-project/football-data/database.sqlite') as conn:\n",
    "    countries = pd.read_sql_query(\"SELECT * from Country\", conn)\n",
    "    matches = pd.read_sql_query(\"SELECT * from Match\", conn)\n",
    "    leagues = pd.read_sql_query(\"SELECT * from League\", conn)\n",
    "    teams = pd.read_sql_query(\"SELECT * from Team\", conn)"
   ]
  },
  {
   "cell_type": "code",
   "execution_count": 8,
   "metadata": {},
   "outputs": [],
   "source": [
    "selected_countries = ['England'] # leave this format in case we want to add more countries later\n",
    "countries = countries[countries.name.isin(selected_countries)]\n"
   ]
  },
  {
   "cell_type": "code",
   "execution_count": 9,
   "metadata": {},
   "outputs": [
    {
     "data": {
      "text/plain": [
       "Index(['id', 'country_id', 'league_id', 'season', 'stage', 'date',\n",
       "       'match_api_id', 'home_team_api_id', 'away_team_api_id',\n",
       "       'home_team_goal',\n",
       "       ...\n",
       "       'SJA', 'VCH', 'VCD', 'VCA', 'GBH', 'GBD', 'GBA', 'BSH', 'BSD', 'BSA'],\n",
       "      dtype='object', length=115)"
      ]
     },
     "execution_count": 9,
     "metadata": {},
     "output_type": "execute_result"
    }
   ],
   "source": [
    "matches.columns"
   ]
  }
 ],
 "metadata": {
  "kernelspec": {
   "display_name": "base",
   "language": "python",
   "name": "python3"
  },
  "language_info": {
   "codemirror_mode": {
    "name": "ipython",
    "version": 3
   },
   "file_extension": ".py",
   "mimetype": "text/x-python",
   "name": "python",
   "nbconvert_exporter": "python",
   "pygments_lexer": "ipython3",
   "version": "3.12.2"
  }
 },
 "nbformat": 4,
 "nbformat_minor": 2
}
